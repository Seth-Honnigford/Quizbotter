{
  "cells": [
    {
      "cell_type": "code",
      "execution_count": 45,
      "metadata": {
        "tags": [
          "hide-input",
          "hide-output"
        ],
        "id": "2GF1hDon_rbG"
      },
      "outputs": [],
      "source": [
        "import matplotlib.pyplot as plt\n",
        "%matplotlib inline\n",
        "import matplotlib_inline\n",
        "matplotlib_inline.backend_inline.set_matplotlib_formats('png')\n",
        "import seaborn as sns\n",
        "sns.set_context(\"paper\")\n",
        "sns.set_style(\"ticks\");"
      ]
    },
    {
      "cell_type": "markdown",
      "metadata": {
        "id": "yz_-ptmI_rbI"
      },
      "source": [
        "# Homework 6\n",
        "\n",
        "## References\n",
        "\n",
        "+ Module 5: Inverse problems in deterministic scientifc models\n",
        "   - Inverse problems basics\n",
        "   - Sampling from posteriors\n",
        "   - Variational inference\n",
        "   - Deterministic, finite-dimensional dynamical systems\n",
        "   <!-- - PDE-constrained inverse problems -->\n",
        "   <!-- - Purely data-driven learning of dynamical systems -->\n",
        "\n",
        "## Instructions\n",
        "\n",
        "+ Type your name and email in the \"Student details\" section below.\n",
        "+ Develop the code and generate the figures you need to solve the problems using this notebook.\n",
        "+ For the answers that require a mathematical proof or derivation you should type them using latex. If you have never written latex before and you find it exceedingly difficult, we will likely accept handwritten solutions.\n",
        "+ The total homework points are 100. Please note that the problems are not weighed equally.\n",
        "\n",
        "## Student details\n",
        "\n",
        "+ **First Name:** Seth\n",
        "+ **Last Name:** Honnigford\n",
        "+ **Email:** shonnigf@purdue.edu\n",
        "+ **Used generative AI to complete this assignment (Yes/No):** Yes\n",
        "+ **Which generative AI tool did you use (if applicable)?:** Colab AI"
      ]
    },
    {
      "cell_type": "markdown",
      "metadata": {
        "id": "Yxro104Z_rbJ"
      },
      "source": [
        "# Problem 1 - Why does the Metropolis algorithm work\n",
        "\n",
        "The objective of this problem is to understand why the Metropolis algorithm works.\n",
        "\n",
        "Consider a Markov chain $x_n$ with transition probabilities $p(x_{n+1}|x_n)$ and a probability density $\\pi(x)$.\n",
        "We say that $x_n$ has stationary distribution $\\pi$ if:\n",
        "\n",
        "$$\n",
        "\\pi(x_{n+1}) = \\int p(x_{n+1}|x_n)\\pi(x_n)dx_n.\n",
        "$$\n",
        "\n",
        "Intuitively, we can think of the equation above as follows.\n",
        "If we, somehow, sample $x_n$ from $\\pi$ and then sample $x_{n+1}$ from the transition probability $p(x_{n+1}|x_n)$, then $x_{n+1}$ is also a sample from $\\pi(x)$.\n",
        "It is like once we have a sample $\\pi$ sampling the Markov chain keeps giving us samples from $\\pi$.\n",
        "\n",
        "We say that the Markov chain $x_n$ is *reversible* with respect to $\\pi$ (equivalently, satisfies the *detailed balance* condition) with respect to $\\pi$, if:\n",
        "\n",
        "$$\n",
        "p(x_{n+1}|x_n)\\pi(x_n) = p(x_n|x_{n+1})\\pi(x_{n+1}).\n",
        "$$\n",
        "\n",
        "Intuitively, this condition means that going from sampling $x_{n}$ from $\\pi$ and transition to $x_{n+1}$ has the same probability as doing the inverse."
      ]
    },
    {
      "cell_type": "markdown",
      "metadata": {
        "id": "6OgkJg1W_rbK"
      },
      "source": [
        "## Part A - Prove that detailed balance implies stationarity\n",
        "\n",
        "Suppose that the Markov chain $x_n$ satisfies the detailed balance condition with respect to $\\pi$. Prove that $\\pi$ is a stationary distribution of the Markov chain.\n",
        "\n",
        "**Answer:**"
      ]
    },
    {
      "cell_type": "markdown",
      "metadata": {
        "id": "TldPwKsa_rbK"
      },
      "source": [
        "We start with the detailed balance condition:\n",
        "\n",
        "$$\n",
        "p(x_{n+1}|x_n)\\pi(x_n)=p(x_n|x_{n+1})\\pi(x_{n+1})\n",
        "$$\n",
        "\n",
        "We then integrate both sides:\n",
        "\n",
        "$$\n",
        "\\int p(x_{n+1}|x_n)\\pi(x_n)dx_n=\\int p(x_n|x_{n+1})\\pi(x_{n+1})dx_n\n",
        "$$\n",
        "\n",
        "Since $\\pi(x_{n+1})$ is constant with respect to $dx_n$:\n",
        "\n",
        "$$\n",
        "\\int p(x_{n+1}|x_n)\\pi(x_n)dx_n=\\pi(x_{n+1})\\int p(x_n|x_{n+1})dx_n\n",
        "$$\n",
        "\n",
        "Probability density functions always integrate to 1, which implies:\n",
        "\n",
        "$$\n",
        "\\int p(x_{n+1}|x_n)\\pi(x_n)dx_n=\\pi(x_{n+1}) \\cdot (1)\n",
        "$$\n",
        "\n",
        "This can be rearranged to:\n",
        "\n",
        "$$\n",
        "\\pi(x_{n+1}) = \\int p(x_{n+1}|x_n)\\pi(x_n)dx_n\n",
        "$$\n",
        "\n",
        "Which shows that $x_n$ has a stationary distribution."
      ]
    },
    {
      "cell_type": "markdown",
      "metadata": {
        "id": "MK2Cui1O_rbK"
      },
      "source": [
        "## Part B - The Metropolis-Hastings transition kernel\n",
        "\n",
        "Let $\\pi(x)$ be the target distribution.\n",
        "Let $q(\\tilde{x}_{n+1}|x_n)$ be a proposal distribution of the Metropolis-Hastings algorithm.\n",
        "\n",
        "The Metropolis-Hastings algorithm results in a Markov chain $x_n$ defined as follows:\n",
        "\n",
        "+ Sample $\\tilde{x}_{n+1} \\sim q(\\tilde{x}_{n+1}|x_n)$\n",
        "+ Accept $\\tilde{x}_{n+1}$ and set $x_{n+1} = \\tilde{x}_{n+1}$ with probability $\\alpha(x_n, \\tilde{x}_{n+1})$\n",
        "+ Reject $\\tilde{x}_{n+1}$ and set $x_{n+1} = x_n$ with probability $1-\\alpha(x_n, \\tilde{x}_{n+1}),$\n",
        "\n",
        "\n",
        "where\n",
        "\n",
        "$$\n",
        "\\alpha(x_n, \\tilde{x}_{n+1}) = \\min\\left(1, \\frac{\\pi(\\tilde{x}_{n+1})q(x_n|\\tilde{x}_{n+1})}{\\pi(x_n)q(\\tilde{x}_{n+1}|x_n)}\\right).\n",
        "$$\n",
        "\n",
        "The purpose of this problem is to show that the transition kernel of the resulting Markov chain satisfies the detailed balance condition with respect to $\\pi$, and thus $\\pi$ is its stationary distribution.\n",
        "\n",
        "### B.I - Derive the transition kernel of the Metropolis algorithm\n",
        "\n",
        "Show that the transition kernel of the Metropolis algorithm is:\n",
        "\n",
        "$$\n",
        "p(x_{n+1}|x_n) = \\alpha(x_n, x_{n+1})q(x_{n+1}|x_n) +\n",
        "\\delta(x_{n+1} - x_n)\\int (1 - \\alpha(x_n, \\tilde{x}_{n+1}))q(\\tilde{x}_{n+1}|x_n)d\\tilde{x}_{n+1},\n",
        "$$\n",
        "\n",
        "where $\\delta$ is the Dirac delta function.\n",
        "\n",
        "Hints:\n",
        "\n",
        "+ Introduce an intermediate variable $i$ that takes the value $1$ if the proposed move is accepted and $0$ otherwise. That is:\n",
        "\n",
        "$$\n",
        "i | x_n, \\tilde{x}_{n+1} \\sim \\begin{cases}\n",
        "    1 & \\text{with probability } \\alpha(x_n, \\tilde{x}_{n+1}) \\\\\n",
        "    0 & \\text{with probability } 1 - \\alpha(x_n, \\tilde{x}_{n+1}).\n",
        "\\end{cases}\n",
        "$$\n",
        "\n",
        "+ Write the joint distribution $p(x_{n+1}| i, x_n, \\tilde{x}_{n+1})$ in terms of $i$ and $\\tilde{x}_{n+1}$:\n",
        "\n",
        "$$\n",
        "p(x_{n+1}| i, x_n, \\tilde{x}_{n+1}) = [\\delta(x_{n+1} - \\tilde{x}_{n+1})]^i [\\delta(x_{n+1} - x_n)]^{1-i}.\n",
        "$$\n",
        "\n",
        "+ Use the sum rule to express $p(x_{n+1}|x_n)$ in terms of $i$ and $\\tilde{x}_{n+1}$:\n",
        "\n",
        "$$\n",
        "p(x_{n+1}|x_n) = \\int \\sum_i p(x_{n+1}| i, x_n, \\tilde{x}_{n+1}) p(i | x_n, \\tilde{x}_{n+1}) q(\\tilde{x}_{n+1}|x_n) d\\tilde{x}_{n+1}.\n",
        "$$\n",
        "\n",
        "+ Use the definition of the Dirac delta function to simplify the expression.\n",
        "\n"
      ]
    },
    {
      "cell_type": "markdown",
      "source": [
        "**Answer:**\n",
        "\n",
        "We start by defining $i$ as:\n",
        "\n",
        "$$\n",
        "i|x_n,\\tilde x_{n+1}\\sim\\begin{cases}\n",
        "    1 & \\text{with probability } \\alpha(x_n, \\tilde{x}_{n+1}) \\\\\n",
        "    0 & \\text{with probability } 1 - \\alpha(x_n, \\tilde{x}_{n+1}).\n",
        "\\end{cases}\n",
        "$$\n",
        "\n",
        "We can express the joint distribution as:\n",
        "\n",
        "$$\n",
        "p(x_{n+1}| i, x_n, \\tilde{x}_{n+1}) = [\\delta(x_{n+1} - \\tilde{x}_{n+1})]^i [\\delta(x_{n+1} - x_n)]^{1-i}\n",
        "$$\n",
        "\n",
        "Substituting with definitions we get:\n",
        "\n",
        "$$\n",
        "p(x_{n+1}|x_n)=\\int\\sum_i [\\delta(x_{n+1})-\\tilde x_{n+1})]^i[\\delta(x_{n+1})-x_n)]^{(1-i)}p(i|x_n,\\tilde x_{n+1})q(\\tilde x_{n+1}|x_n)d\\tilde x_{n+1}\n",
        "$$\n",
        "\n",
        "By using the properties of the Dirac delta function and combining the terms for acceptance and rejection:\n",
        "\n",
        "$$\n",
        "p(x_{n+1}|x_n)=\\alpha(x_n, x_{n+1})q(x_{n+1}|x_n)+\\delta(x_{n+1}-x_n)\\int(1-\\alpha(x_n, \\tilde x_{n+1}))q(\\tilde x_{n+1}|x_n) d\\tilde x_{n+1}\n",
        "$$"
      ],
      "metadata": {
        "id": "3t-6jBH4L55U"
      }
    },
    {
      "cell_type": "markdown",
      "metadata": {
        "id": "TGwo4qaz_rbL"
      },
      "source": [
        "### B.II - Show that the transition kernel satisfies the detailed balance condition\n",
        "\n",
        "Show that the transition kernel of the Metropolis algorithm satisfies the detailed balance condition with respect to $\\pi$, and thus $\\pi$ is its stationary distribution.\n",
        "Mathematically, you need to show that:\n",
        "\n",
        "$$\n",
        "p(x_{n+1}|x_n) \\pi(x_n) = p(x_n|x_{n+1}) \\pi(x_{n+1}).\n",
        "$$\n",
        "\n",
        "Hints:\n",
        "\n",
        "+ First prove that $a(x_n, x_{n+1})q(x_{n+1}|x_n)\\pi(x_n) = a(x_{n+1}, x_n)q(x_n|x_{n+1})\\pi(x_{n+1})$.\n",
        "+ Then, reuse the result above the symmetry of the Dirac delta function.\n",
        "\n"
      ]
    },
    {
      "cell_type": "markdown",
      "source": [
        "\n",
        "**Answer:**\n",
        "\n",
        "Recall that the acceptance probability $\\alpha$ is defined as:\n",
        "\n",
        "$$\n",
        "\\alpha(x_n,x_{n+1})=min(1,\\pi(x_{n+1})q(x_n|x_{n+1})\\pi(x_n)q(x_{n+1}|x_n))\n",
        "$$\n",
        "\n",
        "There are two cases that we need to consider:\n",
        "\n",
        "Case 1:\n",
        "\n",
        "$$\n",
        "\\pi(x_{n+1})q(x_n|x_{n+1})\\pi(x_n)q(x_{n+1}|x_n)\\geq1\n",
        "$$\n",
        "\n",
        "In this case, $\\alpha(x_n,x_{n+1})=1$ and $\\alpha(x_{n+1},x_n)=\\pi(x_n)q(x_{n+1}|x_n)\\pi(x_{n_1})q(x_n|x_{n+1})$\n",
        "\n",
        "Substituting these values into the equation:\n",
        "\n",
        "$$\n",
        "q(x_{n+1}|x_n)\\pi(x_n)=\\pi(x_n)q(x_{n+1}|x_n)\\pi(x_{n+1})q(x_n|x_{n+1})q(x_n|x_{n+1})\\pi(x_{n+1})\n",
        "$$\n",
        "\n",
        "Which simplifies to:\n",
        "\n",
        "$$\n",
        "q(x_{n+1}|x_n)\\pi(x_n)=q(x_{n+1}|x_n)\\pi(x_n)\n",
        "$$\n",
        "\n",
        "Case 2:\n",
        "\n",
        "$$\n",
        "\\pi(x_{n_1})q(x_n|x_{n+1})\\pi(x_n)q(x_{n+1}|x_n)\\lt 1\n",
        "$$\n",
        "\n",
        "In this case, $\\alpha(x_n,x_{n+1})=\\pi(x_{n+1})q(x_n|x_{n+1})\\pi(x_n)q(x_{n+1}|x_n)$ and $\\alpha(x_{n+1},x_n)=1$\n",
        "\n",
        "Substituting these values:\n",
        "\n",
        "$$\n",
        "\\pi(x_{n+1})q(x_n|x_{n+1})\\pi(x_n)q(x_{n+1}|x_n)q(x_{n+1}|x_n)\\pi(x_n)=q(x_n|x_{n+1})\\pi(x_{n+1})\n",
        "$$\n",
        "\n",
        "Which simplifies to:\n",
        "\n",
        "$$\n",
        "q(x_n|x_{n+1})\\pi(x_{n+1})=q(x_n|x_{n+1})\\pi(x_{n+1})\n",
        "$$\n",
        "\n",
        "We have now shown that:\n",
        "\n",
        "$$\n",
        "\\alpha(x_n,x_{n+1})q(x_{n+1}|x_n)\\pi(x_n)=\\alpha(x_{n+1},x_n)q(x_n|x_{n+1})\\pi(x_{n+1})\n",
        "$$\n",
        "\n",
        "in both cases.\n",
        "\n",
        "Recall that the transition kernel of the Metropolis algorithm is:\n",
        "\n",
        "$$\n",
        "𝑝(𝑥_{𝑛+1}|𝑥_𝑛)=𝛼(𝑥_𝑛,𝑥_{𝑛+1})𝑞(𝑥_{𝑛+1}|𝑥_𝑛)+𝛿(𝑥_{𝑛+1}−𝑥_𝑛)∫(1−𝛼(𝑥_𝑛,𝑥̃_{𝑛+1}))𝑞(𝑥̃_{𝑛+1}|𝑥_𝑛)𝑑𝑥̃_{𝑛+1}\n",
        "$$\n",
        "\n",
        "We want to show that:\n",
        "\n",
        "$$\n",
        "𝑝(𝑥_{𝑛+1}|𝑥_𝑛)𝜋(𝑥_𝑛)=𝑝(𝑥_𝑛|𝑥_{𝑛+1})𝜋(𝑥_{𝑛+1})\n",
        "$$\n",
        "\n",
        "Substituting the transition kernel into the equation, we get:\n",
        "\n",
        "$$\n",
        "[𝛼(𝑥_𝑛,𝑥_{𝑛+1})𝑞(𝑥_{𝑛+1}|𝑥_𝑛)+𝛿(𝑥_{𝑛+1}−𝑥_𝑛)∫(1−𝛼(𝑥_𝑛,𝑥̃_{𝑛+1}))𝑞(𝑥̃_{𝑛+1}|𝑥_𝑛)𝑑𝑥̃_{𝑛+1}]𝜋(𝑥_𝑛)=[𝛼(𝑥_{𝑛+1},𝑥_𝑛)𝑞(𝑥_𝑛|𝑥_{𝑛+1})+𝛿(𝑥_𝑛−𝑥_{𝑛+1})∫(1−𝛼(𝑥_{𝑛+1},𝑥̃_{𝑛+1}))𝑞(𝑥̃_{𝑛+1}|𝑥_{𝑛+1})𝑑𝑥̃_{𝑛+1}]𝜋(𝑥_{𝑛+1})\n",
        "$$\n",
        "\n",
        "Using the results from proving both cases in conjunction with the symmetry of the Dirac function we can simplify to:\n",
        "\n",
        "$$\n",
        "𝛿(𝑥_{𝑛+1}−𝑥_𝑛)∫(1−𝛼(𝑥_𝑛,𝑥̃_{𝑛+1}))𝑞(𝑥̃_{𝑛+1}|𝑥_𝑛)𝑑𝑥̃_{𝑛+1}𝜋(𝑥_𝑛)=𝛿(𝑥_𝑛−𝑥_{𝑛+1})∫(1−𝛼(𝑥_{𝑛+1},𝑥̃_{𝑛+1}))𝑞(𝑥̃_{𝑛+1}|𝑥_{𝑛+1})𝑑𝑥̃_{𝑛+1}𝜋(𝑥_{𝑛+1})\n",
        "$$"
      ],
      "metadata": {
        "id": "r8xRdctya0pI"
      }
    },
    {
      "cell_type": "markdown",
      "metadata": {
        "id": "NC4BVMRQ_rbL"
      },
      "source": [
        "# Problem 2 - Mathematics of Variational Inference\n",
        "\n",
        "## Part A - Parameterization of a covariance matrix\n",
        "\n",
        "The purpose is to show that the commonly used rank-$k$ parameterization of the covariance matrix is indeed positive definite.\n",
        "\n",
        "Let $k$ be a positive integer, and $\\lambda_1, \\dots, \\lambda_k$ be real numbers.\n",
        "Let $d$ be another positive integer (the dimension of the covariance matrix) with $d \\geq k$.\n",
        "Let $u_1, \\dots, u_k$ be $d$-dimensional vectors, not necessarily orthogonal, but linearly independent.\n",
        "\n",
        "Consider the following matrix:\n",
        "\n",
        "$$\n",
        "\\Sigma = \\sum_{i=1}^k e^{\\lambda_i} u_i u_i^\\top.\n",
        "$$\n",
        "\n",
        "### A.I - Show that $\\Sigma$ is positive semi-definite.\n",
        "\n",
        "Hint: You need to show that for any non-zero vector $x \\in \\mathbb{R}^d$, the quadratic form $x^\\top \\Sigma x \\geq 0$.\n",
        "\n",
        "\n"
      ]
    },
    {
      "cell_type": "markdown",
      "source": [
        "**Answer:**\n",
        "\n",
        "We start with the quadratic form:\n",
        "\n",
        "$$\n",
        "𝑥^T\\sum x = x^T (\\sum_{i=1}^k e^{λ_i} u_i u_i^T) 𝑥\n",
        "$$\n",
        "\n",
        "Distributing the transpose and using properties of matrix multiplication:\n",
        "\n",
        "$$\n",
        "x^T\\sum x = \\sum_{i=1}^k e^{\\lambda_i}(x^T u_i)(u_i^Tx)\n",
        "$$\n",
        "\n",
        "$x^Tu_i=u_i^Tx$ since both are scalars:\n",
        "\n",
        "$$\n",
        "x^T\\sum x = \\sum_{i=1}^k e^{\\lambda_i}(x^Tu_i)^2\n",
        "$$\n",
        "\n",
        "Since the exponential function is always positive, and $(x^Tu_i)^2$ is non-negative, then the quadratic form must be non-negative."
      ],
      "metadata": {
        "id": "LaNs2Bz2nmcx"
      }
    },
    {
      "cell_type": "markdown",
      "metadata": {
        "id": "v7-ocf0O_rbM"
      },
      "source": [
        "### A.II - Numerical exploration of a rank-$k$ covariance matrix\n",
        "\n",
        "Set $d=100$ and $k=10$.\n",
        "Randomly generate $u_1, \\dots, u_k$ from the standard normal distribution.\n",
        "Randomly generate $\\lambda_1, \\dots, \\lambda_k$ from the standard normal distribution.\n",
        "Write Jax code (without a loop) to form the matrix $\\Sigma$ as defined above.\n",
        "Generate a random $\\Sigma$ and plot the eigenvalues.\n",
        "Are they all non-negative?\n",
        "What is the determinant of $\\Sigma$?\n"
      ]
    },
    {
      "cell_type": "code",
      "execution_count": 2,
      "metadata": {
        "id": "gos6qReD_rbM",
        "outputId": "2e0d93be-e8ed-44e1-cfb1-e24d58b3c243",
        "colab": {
          "base_uri": "https://localhost:8080/",
          "height": 530
        }
      },
      "outputs": [
        {
          "output_type": "stream",
          "name": "stderr",
          "text": [
            "/usr/local/lib/python3.11/dist-packages/matplotlib/cbook.py:1709: ComplexWarning: Casting complex values to real discards the imaginary part\n",
            "  return math.isfinite(val)\n",
            "/usr/local/lib/python3.11/dist-packages/pandas/core/dtypes/astype.py:133: ComplexWarning: Casting complex values to real discards the imaginary part\n",
            "  return arr.astype(dtype, copy=True)\n"
          ]
        },
        {
          "output_type": "display_data",
          "data": {
            "text/plain": [
              "<Figure size 600x400 with 1 Axes>"
            ],
            "image/png": "[encoded data removed]"
          },
          "metadata": {}
        },
        {
          "output_type": "stream",
          "name": "stdout",
          "text": [
            "All eigenvalues are non-negative: False\n",
            "Determinant of Sigma: -0.0\n"
          ]
        }
      ],
      "source": [
        "# as many code blocks and markdown blocks as you want\n",
        "import jax\n",
        "import jax.numpy as jnp\n",
        "import matplotlib.pyplot as plt\n",
        "import seaborn as sns\n",
        "\n",
        "d = 100\n",
        "k = 10\n",
        "\n",
        "key = jax.random.PRNGKey(0)\n",
        "u = jax.random.normal(key, shape=(k, d))\n",
        "lambdas = jax.random.normal(key, shape=(k,))\n",
        "\n",
        "Sigma = jnp.sum(jnp.exp(lambdas)[:, None, None] * u[:, :, None] * u[:, None, :], axis=0)\n",
        "\n",
        "eigenvalues = jnp.linalg.eigvals(Sigma)\n",
        "\n",
        "#plot\n",
        "plt.figure(figsize=(6, 4))\n",
        "sns.histplot(eigenvalues, bins=50, kde=True)\n",
        "plt.xlabel(\"Eigenvalues\")\n",
        "plt.ylabel(\"Frequency\")\n",
        "plt.title(\"Distribution of Eigenvalues of Rank-k Covariance Matrix\")\n",
        "plt.show()\n",
        "\n",
        "negative = jnp.all(eigenvalues >= 0)\n",
        "print(f\"All eigenvalues are non-negative: {negative}\")\n",
        "\n",
        "determinant = jnp.linalg.det(Sigma)\n",
        "print(f\"Determinant of Sigma: {determinant}\")"
      ]
    },
    {
      "cell_type": "markdown",
      "metadata": {
        "id": "8ySvJeph_rbM"
      },
      "source": [
        "### A.III - Low-rank approximation that is actually positive definite\n",
        "\n",
        "In the previous part, we saw that the rank-$k$ approximation is not positive definite.\n",
        "To fix it, we typically use this parameterization instead:\n",
        "\n",
        "$$\n",
        "\\Sigma = \\sum_{i=1}^k \\lambda_i u_i u_i^\\top + \\text{diag}(e^{\\theta_1}, \\dots, e^{\\theta_d}),\n",
        "$$\n",
        "\n",
        "where $\\theta_1, \\dots, \\theta_d$ are real numbers.\n",
        "\n",
        "Modify your Jax code and generate a random $\\Sigma$ using this parameterization.\n",
        "Plot the eigenvalues.\n",
        "Are they all non-negative?\n",
        "What is the determinant of $\\Sigma$?"
      ]
    },
    {
      "cell_type": "code",
      "execution_count": 3,
      "metadata": {
        "id": "g4lFSeBg_rbM",
        "outputId": "0427e7bd-d498-4cc9-fd3d-c2d44fed0737",
        "colab": {
          "base_uri": "https://localhost:8080/",
          "height": 530
        }
      },
      "outputs": [
        {
          "output_type": "stream",
          "name": "stderr",
          "text": [
            "/usr/local/lib/python3.11/dist-packages/matplotlib/cbook.py:1709: ComplexWarning: Casting complex values to real discards the imaginary part\n",
            "  return math.isfinite(val)\n",
            "/usr/local/lib/python3.11/dist-packages/pandas/core/dtypes/astype.py:133: ComplexWarning: Casting complex values to real discards the imaginary part\n",
            "  return arr.astype(dtype, copy=True)\n"
          ]
        },
        {
          "output_type": "display_data",
          "data": {
            "text/plain": [
              "<Figure size 600x400 with 1 Axes>"
            ],
            "image/png": "[encoded data removed]"
          },
          "metadata": {}
        },
        {
          "output_type": "stream",
          "name": "stdout",
          "text": [
            "All eigenvalues are non-negative: False\n",
            "Determinant of Sigma: -1.0325547881580338e+23\n"
          ]
        }
      ],
      "source": [
        "# as many code blocks and markdown blocks as you want\n",
        "import jax\n",
        "import jax.numpy as jnp\n",
        "import matplotlib.pyplot as plt\n",
        "import seaborn as sns\n",
        "\n",
        "d = 100\n",
        "k = 10\n",
        "\n",
        "key = jax.random.PRNGKey(0)\n",
        "u = jax.random.normal(key, shape=(k, d))\n",
        "lambdas = jax.random.normal(key, shape=(k,))\n",
        "thetas = jax.random.normal(key, shape=(d,))\n",
        "\n",
        "Sigma = jnp.sum(lambdas[:, None, None] * u[:, :, None] * u[:, None, :], axis=0) + jnp.diag(jnp.exp(thetas))\n",
        "\n",
        "eigenvalues = jnp.linalg.eigvals(Sigma)\n",
        "\n",
        "#plot\n",
        "plt.figure(figsize=(6, 4))\n",
        "sns.histplot(eigenvalues, bins=50, kde=True)\n",
        "plt.xlabel(\"Eigenvalues\")\n",
        "plt.ylabel(\"Frequency\")\n",
        "plt.title(\"Distribution of Eigenvalues of Modified Rank-k Covariance Matrix\")\n",
        "plt.show()\n",
        "\n",
        "negative = jnp.all(eigenvalues >= 0)\n",
        "print(f\"All eigenvalues are non-negative: {negative}\")\n",
        "\n",
        "determinant = jnp.linalg.det(Sigma)\n",
        "print(f\"Determinant of Sigma: {determinant}\")"
      ]
    },
    {
      "cell_type": "markdown",
      "metadata": {
        "id": "wKEiWbq6_rbN"
      },
      "source": [
        "## Part B - Multi-point convexity\n",
        "\n",
        "Let $f:\\mathbb{R}^d \\to \\mathbb{R}$ be a convex function.\n",
        "Let $x_1, \\dots, x_n \\in \\mathbb{R}^d$ be $n$ points.\n",
        "Let $w_1, \\dots, w_n \\in \\mathbb{R}$ be $n$ weights.\n",
        "\n",
        "Show that:\n",
        "\n",
        "$$\n",
        "f\\left(\\sum_{i=1}^n w_i x_i\\right) \\leq \\sum_{i=1}^n w_i f(x_i).\n",
        "$$\n",
        "\n",
        "Hint: Use the definition of convexity and induction.\n"
      ]
    },
    {
      "cell_type": "markdown",
      "source": [
        "\n",
        "**Answer:**\n",
        "\n",
        "We will prove this by induction.\n",
        "\n",
        "Our base case is $n=2$.\n",
        "\n",
        "For any two points $x_1, x_2 \\in \\mathbb{R}^d$, $w\\in[0,1]$ and a convex function $f$:\n",
        "\n",
        "$$\n",
        "f(wx_1+(1-w)x_2)\\leq wf(x_1)+(1-w)f(x_2)\n",
        "$$\n",
        "\n",
        "We start by assuming that the theorem holds for $n=k$ points:\n",
        "\n",
        "$$\n",
        "f(\\sum_{i=1}^k w_ix_i)\\leq\\sum_{i=1}^kw_if(x_i)\n",
        "$$\n",
        "\n",
        "Now we show that the theorem holds for the $n=k+1$ case:\n",
        "\n",
        "Let $W=\\sum_{i=1}^kw_i$, then $w_{k+1}=1-W$.\n",
        "\n",
        "We can rewrite the sum as:\n",
        "\n",
        "$$\n",
        "\\sum_{i=1}^{k+1}w_ix_i = \\sum_{i=1}^kw_ix_i+w_{k+1}x_{k+1}=W(\\sum_{i=1}^k\\frac{w_i}{W}x_i)+(1-W)x_{k+1}\n",
        "$$\n",
        "\n",
        "Since $\\sum_{i=1}^k\\frac{w_i}{W}=1$, we have:\n",
        "\n",
        "$$\n",
        "f(\\sum_{i=1}^k\\frac{w_i}{W}x_i)\\leq\\sum_{i=1}^k\\frac{w_i}{W}f(x_i)\n",
        "$$\n",
        "\n",
        "Now applying convexivity to the original sum:\n",
        "\n",
        "$$\n",
        "f(\\sum_{i=1}^{k+1}w_ix_i)=f(W(\\sum_{i=1}^k\\frac{w_i}{W}x_i)+(1-W)x_{k+1})\\leq W(\\sum_{i=1}^k\\frac{w_i}{W}f(x_i))+(1-W)f(x_{k+1})=\\sum_{i=1}^{k+1}w_if(x_i)\n",
        "$$"
      ],
      "metadata": {
        "id": "hEiZfEfS09ol"
      }
    },
    {
      "cell_type": "markdown",
      "metadata": {
        "id": "OVCfhz8j_rbN"
      },
      "source": [
        "## Part C - Jensen's inequality\n",
        "\n",
        "Let $f:\\mathbb{R}^d \\to \\mathbb{R}$ be a convex function that is continuous.\n",
        "Let $X$ be a random variable with values in $\\mathbb{R}^d$.\n",
        "\n",
        "Show that:\n",
        "\n",
        "$$\n",
        "f(\\mathbb{E}[X]) \\leq \\mathbb{E}[f(X)].\n",
        "$$\n",
        "\n",
        "Hint: Use Part B and the law of large numbers.\n",
        "\n"
      ]
    },
    {
      "cell_type": "markdown",
      "source": [
        "\n",
        "**Answer:**\n",
        "\n",
        "We first consider the case where $X$ is a discrete random variable. The expected value of $X$ is:\n",
        "\n",
        "$$\n",
        "\\mathbb{E}[X]=\\sum_{i=1}^np_ix_i\n",
        "$$\n",
        "\n",
        "The expected value of $f(X)$ is:\n",
        "\n",
        "$$\n",
        "\\mathbb{E}[f(X)]=\\sum_{i=1}^np_if(x_i)\n",
        "$$\n",
        "\n",
        "Since $f$ is convex and $\\sum_{i=1}^np_i=1$ with $p_i\\geq 0$ we can use our solution in part B to obtain:\n",
        "\n",
        "$$\n",
        "f(\\mathbb{E}[X])=f(\\sum_{i=1}^n p_ix_i)\\leq\\sum_{i=1}^n p_if(x_i)=\\mathbb{E}[f(X)]\n",
        "$$\n",
        "\n",
        "Now we consider the case where X is a continuous random variable.\n",
        "\n",
        "By the continuity of f, we have:\n",
        "\n",
        "$$\n",
        "lim_{n\\rightarrow \\infty}f(\\mathbb{E}[X_n]) = f(\\mathbb{E}[X])\n",
        "$$\n",
        "\n",
        "and\n",
        "\n",
        "$$\n",
        "lim_{n\\rightarrow \\infty}\\mathbb{E}[f(X_n)]=\\mathbb{E}[f(X)]\n",
        "$$\n",
        "\n",
        "Since we proved Jensen's inequality for the discrete case:\n",
        "\n",
        "$$\n",
        "f(\\mathbb{E}[X_n])\\leq\\mathbb{E}[f(X_n)]\n",
        "$$\n",
        "\n",
        "and taking the limit as $n\\rightarrow\\infty$:\n",
        "\n",
        "$$\n",
        "f(\\mathbb{E}[X])\\leq\\mathbb{E}[f(X)]\n",
        "$$\n",
        "\n",
        "Which proves Jensen's inequality for the general case."
      ],
      "metadata": {
        "id": "d0ilgkTJ5cza"
      }
    },
    {
      "cell_type": "markdown",
      "metadata": {
        "id": "Ff_-FR4S_rbN"
      },
      "source": [
        "## Part D - Non-negativity of the KL divergence\n",
        "\n",
        "Let $p$ and $q$ be two probability distributions on $\\mathbb{R}^d$.\n",
        "Show that the KL divergence $D_{KL}(p\\|q)$ is always non-negative.\n",
        "\n",
        "Hint: Use the fact that $-\\log$ is a convex function and Jensen's inequality.\n"
      ]
    },
    {
      "cell_type": "markdown",
      "source": [
        "**Answer:**\n",
        "\n",
        "The KL divergence between two probability distributions p and q is defined as:\n",
        "\n",
        "$$\n",
        "DKL(p||q) = \\mathbb{E}_x\\sim p[log(\\frac{p(x)}{q(x)})]=\\int p(x)log(\\frac{p(x)}{q(x)}) dx\n",
        "$$\n",
        "\n",
        "We know that the function $-log$ is convex. Let $X$ be a random variable distributed according to p.\n",
        "\n",
        "We now apply Jensen's inequality which we proved to be true in part C:\n",
        "\n",
        "$$\n",
        "-log(\\mathbb{E}_x\\sim p[\\frac{q(x)}{p(x)}])\\leq\\mathbb{E}_x\\sim p[-log(\\frac{q(x)}{p(x)})]\n",
        "$$\n",
        "\n",
        "Rearranging the terms and using the definition of the expectation:\n",
        "\n",
        "$$\n",
        "-log(\\int p(x) (\\frac{q(x)}{p(x)})dx) \\leq -\\int p(x) log(\\frac{q(x)}{p(x)}) dx\n",
        "$$\n",
        "\n",
        "$$\n",
        "-log(\\int q(x) dx)\\leq\\int p(x) log(\\frac{p(x)}{q(x)})dx\n",
        "$$\n",
        "\n",
        "Since $q$ is a probability distribution, $\\int q(x) dx=1$.\n",
        "\n",
        "Therefore:\n",
        "\n",
        "$$\n",
        "-log(1)\\leq\\int p(x) log(\\frac{p(x)}{q(x)})dx \\Rightarrow 0 \\leq DKL(p||q)\n",
        "$$\n"
      ],
      "metadata": {
        "id": "lTrh9riq-2ra"
      }
    },
    {
      "cell_type": "markdown",
      "metadata": {
        "id": "mftABLFO_rbN"
      },
      "source": [
        "# Problem 3 - Calibrating a pharmacokinetic model\n",
        "\n",
        "A pharmacokinetic (PK) compartment model is a set of ordinary differential equations that describe drug transport in the body.\n",
        "Typically, the body is divided into separate \"compartments\" (e.g., blood, peripheral tissues) and the transfer of the drug between these compartments is assumed to follow first-order kinetics.\n",
        "Consider the following two-compartment model for an *intravenous (IV) bolus* administered drug:\n",
        "\n",
        "$$\n",
        "\\begin{align*}\n",
        "\\frac{dc_1}{dt} &= - k_{12} c_1 + k_{21} c_2\\\\\n",
        "\\frac{dc_2}{dt} &= k_{12} c_1 - (k_{21} + k_d) c_2 \\\\\n",
        "c_1(0) &= \\frac{m_\\text{dose}}{V} \\\\\n",
        "c_2(0) &= 0\n",
        "\\end{align*}\n",
        "$$\n",
        "\n",
        "where $c_1$ is the concentration of the drug in the *central compartment* (e.g., blood, kidney, liver),\n",
        "$c_2$ is the concentration in the *peripheral compartment* (e.g., muscle, fat),\n",
        "$k_i$ are the *rate constants*,\n",
        "$m_\\text{dose}$ is the mass of the drug administered,\n",
        "and $V$ is the *volume of distribution*.\n",
        "\n",
        "(In this context \"IV\" means the drug is injected directly into the bloodstream, and \"bolus\" means the drug is given all at once (instead of slowly administering it over minutes/hours).)\n",
        "\n",
        "<img src=\"https://raw.githubusercontent.com/PredictiveScienceLab/advanced-scientific-machine-learning/refs/heads/main/book/images/compartment_model.png\" alt=\"pk_model\" width=\"400\"/>\n",
        "\n",
        "Here is an analytic solver for the PK model:"
      ]
    },
    {
      "cell_type": "code",
      "execution_count": 46,
      "metadata": {
        "id": "U5WDUmg9_rbN"
      },
      "outputs": [],
      "source": [
        "from jax import tree, jit, vmap\n",
        "import jax.numpy as jnp\n",
        "from functools import partial\n",
        "\n",
        "@partial(vmap, in_axes=(None, 0, None))\n",
        "def solve_pk_iv_bolus(params, time, dosage_mass):\n",
        "    k12, k21, kd = params['k12'], params['k21'], params['kd']\n",
        "    lam1 = (-(k12 + k21 + kd) + jnp.sqrt((k12 + k21 + kd)**2 - 4*k12*kd))/2\n",
        "    lam2 = (-(k12 + k21 + kd) - jnp.sqrt((k12 + k21 + kd)**2 - 4*k12*kd))/2\n",
        "    A = (dosage_mass / params['V'])/(1 - (lam1 + k12)/(lam2 + k12))\n",
        "    B = -(lam1 + k12)/(lam2 + k12)*A\n",
        "    c1 = A*jnp.exp(lam1*time) + B*jnp.exp(lam2*time)\n",
        "    return c1"
      ]
    },
    {
      "cell_type": "markdown",
      "metadata": {
        "id": "5pYia330_rbN"
      },
      "source": [
        "It accepts a dictionary of parameters, the vector of times, and an initial condition:"
      ]
    },
    {
      "cell_type": "code",
      "execution_count": 47,
      "metadata": {
        "id": "l8e_8kMT_rbN",
        "outputId": "eff6b1f9-c555-4cfc-a25f-610cd2d405d4",
        "colab": {
          "base_uri": "https://localhost:8080/"
        }
      },
      "outputs": [
        {
          "output_type": "execute_result",
          "data": {
            "text/plain": [
              "Array([0.1       , 0.09511836, 0.09088126, 0.08714433, 0.08379877,\n",
              "       0.0807624 , 0.07797312, 0.0753839 , 0.07295899, 0.07067117,\n",
              "       0.06849961, 0.0664283 , 0.06444482, 0.06253953, 0.06070482,\n",
              "       0.05893465, 0.05722414, 0.05556932, 0.05396688, 0.05241407],      dtype=float32)"
            ]
          },
          "metadata": {},
          "execution_count": 47
        }
      ],
      "source": [
        "_params_test = {'k12': 0.1, 'k21': 0.2, 'kd': 0.3, 'V': 10.0}\n",
        "_times_test = jnp.linspace(0, 10, 20)\n",
        "_dosage_mass_test = 1.0\n",
        "\n",
        "_c1 = solve_pk_iv_bolus(_params_test, _times_test, _dosage_mass_test)\n",
        "_c1"
      ]
    },
    {
      "cell_type": "markdown",
      "metadata": {
        "id": "Kz4nncEb_rbO"
      },
      "source": [
        "Suppose a subject has received a dose of acetaminophen via IV bolus administration, and we have measured the drug concentration in the blood at discrete times.\n",
        "Let's import these data:"
      ]
    },
    {
      "cell_type": "code",
      "execution_count": 48,
      "metadata": {
        "id": "5BpMpHoV_rbO",
        "outputId": "b88c1492-efd7-49c0-8eb0-5ea721a078b2",
        "colab": {
          "base_uri": "https://localhost:8080/"
        }
      },
      "outputs": [
        {
          "output_type": "stream",
          "name": "stdout",
          "text": [
            "  % Total    % Received % Xferd  Average Speed   Time    Time     Time  Current\n",
            "                                 Dload  Upload   Total   Spent    Left  Speed\n",
            "100   233  100   233    0     0   1166      0 --:--:-- --:--:-- --:--:--  1170\n"
          ]
        }
      ],
      "source": [
        "!curl -O 'https://raw.githubusercontent.com/PredictiveScienceLab/advanced-scientific-machine-learning/refs/heads/main/book/data/pk/iv_bolus_data_single_patient.json'\n",
        "\n",
        "import json\n",
        "import numpy as np\n",
        "\n",
        "with open('iv_bolus_data_single_patient.json', 'r') as f:\n",
        "    data = json.load(f)\n",
        "times = np.array(data['times'])\n",
        "concentrations = np.array(data['concentrations'])\n",
        "dosage_mass = data['dosage_mass']"
      ]
    },
    {
      "cell_type": "markdown",
      "metadata": {
        "id": "n2NExT08_rbO"
      },
      "source": [
        "Here are the observation times (in hours), $\\mathbf{t}=(t_1, \\dots, t_N)\\in\\mathbb{R}_+^N$:"
      ]
    },
    {
      "cell_type": "code",
      "execution_count": 49,
      "metadata": {
        "id": "UTXwc5iL_rbO",
        "outputId": "a4181dcf-09f0-44de-da09-28770cf6dbea",
        "colab": {
          "base_uri": "https://localhost:8080/"
        }
      },
      "outputs": [
        {
          "output_type": "execute_result",
          "data": {
            "text/plain": [
              "array([ 0.08333333,  0.25      ,  0.5       ,  0.75      ,  8.        ,\n",
              "       12.        ])"
            ]
          },
          "metadata": {},
          "execution_count": 49
        }
      ],
      "source": [
        "times"
      ]
    },
    {
      "cell_type": "markdown",
      "metadata": {
        "id": "S158dB15_rbO"
      },
      "source": [
        "Here are the observed concentrations at each time point (in gram/liter), $\\mathbf{y}=(y_1, \\dots, y_N) \\in \\mathbb{R}_+^N$:"
      ]
    },
    {
      "cell_type": "code",
      "execution_count": 50,
      "metadata": {
        "id": "xuikRuDN_rbO",
        "outputId": "7448b44d-0a9b-4cb1-e739-70335dae0e84",
        "colab": {
          "base_uri": "https://localhost:8080/"
        }
      },
      "outputs": [
        {
          "output_type": "execute_result",
          "data": {
            "text/plain": [
              "array([0.01260174, 0.00977533, 0.01046028, 0.00956269, 0.00213941,\n",
              "       0.00060719])"
            ]
          },
          "metadata": {},
          "execution_count": 50
        }
      ],
      "source": [
        "concentrations"
      ]
    },
    {
      "cell_type": "markdown",
      "metadata": {
        "id": "4qEtw1rl_rbO"
      },
      "source": [
        "And here is the dose (in grams), $m_\\text{dose}$:"
      ]
    },
    {
      "cell_type": "code",
      "execution_count": 51,
      "metadata": {
        "id": "nt2BYJ-0_rbO",
        "outputId": "0b4c376f-4a8f-4cf4-e0b7-48d0eb5e1982",
        "colab": {
          "base_uri": "https://localhost:8080/"
        }
      },
      "outputs": [
        {
          "output_type": "execute_result",
          "data": {
            "text/plain": [
              "0.65"
            ]
          },
          "metadata": {},
          "execution_count": 51
        }
      ],
      "source": [
        "dosage_mass"
      ]
    },
    {
      "cell_type": "markdown",
      "metadata": {
        "id": "gEd7j4X-_rbO"
      },
      "source": [
        "Let's plot the PK data:"
      ]
    },
    {
      "cell_type": "code",
      "execution_count": 52,
      "metadata": {
        "id": "-k73z-XQ_rbP",
        "outputId": "b9c5787b-48f0-4b8b-a148-c407e1818c68",
        "colab": {
          "base_uri": "https://localhost:8080/",
          "height": 388
        }
      },
      "outputs": [
        {
          "output_type": "display_data",
          "data": {
            "text/plain": [
              "<Figure size 600x400 with 1 Axes>"
            ],
            "image/png": "[encoded data removed]"
          },
          "metadata": {}
        }
      ],
      "source": [
        "fig, ax = plt.subplots(1, 1, figsize=(6, 4))\n",
        "ax.scatter(times, concentrations, label='Observed concentration', color='tab:blue')\n",
        "ax.set_xlabel('Time')\n",
        "ax.set_ylabel('Concentration')\n",
        "ax.legend()\n",
        "sns.despine()"
      ]
    },
    {
      "cell_type": "markdown",
      "metadata": {
        "id": "j2WQ1rBT_rbP"
      },
      "source": [
        "## Part A - Implement the (unnormalized) log posterior density\n",
        "\n",
        "Let $\\theta=(k_{12}, k_{21}, k_d, V) \\in \\mathbb{R}_+^4$ be the PK parameters, to which we'll assign weakly-informative priors\n",
        "\n",
        "$$\n",
        "\\begin{align*}\n",
        "k_{12} &\\sim \\text{Exp}(0.1)\\\\\n",
        "k_{21} &\\sim \\text{Exp}(0.1)\\\\\n",
        "k_d &\\sim \\text{Exp}(0.1)\\\\\n",
        "V &\\sim \\text{LogNormal}(4, 0.5).\n",
        "\\end{align*}\n",
        "$$\n",
        "\n",
        "Also, let $c_1(t; \\theta, m_\\text{dose}) \\in \\mathbb{R}_+^3$ be the concentration in the central (bloodstream) compartment at time $t$ for initial condition $x_0=(m_\\text{dose}, 0) \\in \\mathbb{R}_+^2$.\n",
        "\n",
        "Assume the observations are independent, identically distributed Gaussian random variables, i.e.,\n",
        "\n",
        "$$\n",
        "y_i|t_i, \\theta, \\sigma \\sim \\text{Normal}\\Big(\\underbrace{c_1(t_i; \\theta, x_0)}_\\text{ODE solver output}, \\sigma^2 I\\Big).\n",
        "$$\n",
        "\n",
        "Suppose you know, from previous studies, that the measurement uncertainty is $\\sigma=0.001$.\n",
        "The (unnormalized) log posterior density function is\n",
        "\n",
        "$$\n",
        "\\begin{align*}\n",
        "    \\underbrace{\\log p(\\theta|\\mathbf{t}, \\mathbf{y}, \\sigma)}_\\text{posterior}\n",
        "    &= \\underbrace{\\log p(\\theta)}_\\text{prior} + \\underbrace{\\log \\prod_{i=1}^N p(y_i | t_i, \\theta, \\sigma)}_\\text{likelihood} + \\underbrace{[\\text{constant terms w.r.t. } \\theta]}_\\text{normalizing contant (we can ignore)} \\\\\n",
        "    &\\propto \\log p(k_{12}) + \\log p(k_{21}) + \\log p(k_d) +\\log p(V) + \\sum_{i=1}^N \\log p(y_i | t_i, \\theta, \\sigma).\n",
        "\\end{align*}\n",
        "$$\n",
        "\n",
        "where we are defining $\\propto$ to mean \"equal up to a normalizing constant\".\n",
        "Now, it is easier to work with a set of \"unconstrained model parameters\" $\\xi$ that span all of $\\mathbb{R}^d$.\n",
        "To this end, define\n",
        "\n",
        "$$\n",
        "\\xi = \\log \\theta = (\\log k_{12}, \\log k_{21}, \\log k_d, \\log V) \\in \\mathbb{R}^4.\n",
        "$$\n",
        "\n",
        "**Your task is to implement the function that computes the (unnormalized) log posterior over $\\xi$**\n",
        "\n",
        "$$\n",
        "\\begin{align*}\n",
        "    \\log p(\\xi | \\mathbf{t}, \\mathbf{y}, \\sigma)\n",
        "    &= \\log p(\\theta | \\mathbf{t}, \\mathbf{y}, \\sigma) + \\log \\det \\left| \\frac{\\partial \\theta}{\\partial \\xi} \\right|\\\\\n",
        "    &= \\log p(\\theta | \\mathbf{t}, \\mathbf{y}, \\sigma) + \\log \\prod_{i=1}^d \\frac{\\partial \\theta_i}{\\partial \\xi_i} \\\\\n",
        "    &= \\log p(\\xi) + \\log p(\\mathbf{y} | \\mathbf{t}, \\xi, \\sigma) + \\sum_{i=1}^d \\xi_i + \\underbrace{\\text{constant terms}}_\\text{ignore these}.\n",
        "\\end{align*}\n",
        "$$\n",
        "\n",
        "We've started it for you&mdash;just fill in the missing pieces of the code below:"
      ]
    },
    {
      "cell_type": "code",
      "execution_count": 53,
      "metadata": {
        "id": "rYl-TrhQ_rbP"
      },
      "outputs": [],
      "source": [
        "import jax\n",
        "sigma = 0.001\n",
        "\n",
        "def constrain(params):\n",
        "    \"\"\"Constrain the parameters to be positive.\"\"\"\n",
        "    return {\n",
        "        'k12': jnp.exp(params['k12']),\n",
        "        'k21': jnp.exp(params['k21']),\n",
        "        'kd': jnp.exp(params['kd']),\n",
        "        'V': jnp.exp(params['V']),\n",
        "    }\n",
        "\n",
        "def unconstrain(params):\n",
        "    \"\"\"Unconstrain the parameters to be real numbers.\"\"\"\n",
        "    return {\n",
        "        'k12': jnp.log(params['k12']),\n",
        "        'k21': jnp.log(params['k21']),\n",
        "        'kd': jnp.log(params['kd']),\n",
        "        'V': jnp.log(params['V']),\n",
        "    }\n",
        "\n",
        "@jit\n",
        "def log_posterior(xi, times=times, concentrations=concentrations, dosage_mass=dosage_mass, sigma=sigma):\n",
        "    \"\"\"Log likelihood function for a single individual's PK data.\n",
        "\n",
        "    Parameters\n",
        "    ----------\n",
        "    xi: dict\n",
        "        Dictionary containing the unconstrained parameters of the model:\n",
        "        - k12: transfer rate from compartment 1 to compartment 2\n",
        "        - k21: transfer rate from compartment 2 to compartment 1\n",
        "        - kd: elimination rate from compartment 2\n",
        "        - V: volume of distribution\n",
        "    times: array\n",
        "        Time points at which to evaluate the solution.\n",
        "    concentrations: array\n",
        "        Observed concentrations at the specified time points.\n",
        "    dosage_mass: float\n",
        "        Mass of the dosage administered.\n",
        "    sigma: float\n",
        "        Standard deviation of the measurement noise.\n",
        "\n",
        "    Returns\n",
        "    -------\n",
        "    float\n",
        "        Log likelihood of the observed data given the model parameters.\n",
        "    \"\"\"\n",
        "    # Log PDF functions for standard distributions\n",
        "    normal_log_pdf = lambda x, mu, sigma: -0.5*jnp.log(2*jnp.pi) - jnp.log(sigma) - 0.5*((x - mu)/sigma)**2\n",
        "    lognormal_log_pdf = lambda x, mu, sigma: -0.5*jnp.log(2*jnp.pi) - jnp.log(sigma) - jnp.log(x) - 0.5*((jnp.log(x) - mu)/sigma)**2\n",
        "    exponential_log_pdf = lambda x, rate: jnp.log(rate) - rate*x\n",
        "\n",
        "    # Transform to constrained space\n",
        "    params = constrain(xi)\n",
        "\n",
        "    # Prior\n",
        "    k12_log_prior = exponential_log_pdf(params['k12'], 0.1)\n",
        "    k21_log_prior = exponential_log_pdf(params['k21'], 0.1)\n",
        "    kd_log_prior = exponential_log_pdf(params['kd'], 0.1)\n",
        "    V_log_prior = lognormal_log_pdf(params['V'], 4, 0.5)\n",
        "    log_prior = k12_log_prior + k21_log_prior + kd_log_prior + V_log_prior\n",
        "\n",
        "    # Likelihood\n",
        "    c1 = solve_pk_iv_bolus(params, times, dosage_mass)\n",
        "    log_likelihood = jnp.sum(jax.scipy.stats.norm.logpdf(concentrations, loc=c1, scale=sigma))\n",
        "\n",
        "    # Determinant of the Jacobian of the transformation\n",
        "    log_det_jac = xi['k12'] + xi['k21'] + xi['kd'] + xi['V']\n",
        "\n",
        "    return log_prior + log_likelihood + log_det_jac"
      ]
    },
    {
      "cell_type": "markdown",
      "metadata": {
        "id": "OIv9mbaz_rbP"
      },
      "source": [
        "Your implementation of $p(\\xi|\\mathbf{t}, \\mathbf{y}, \\sigma)$ above could also be done with a probabilistic programming framework.\n",
        "Here is how to do it with [Numpyro](https://num.pyro.ai/en/latest/index.html#):"
      ]
    },
    {
      "cell_type": "code",
      "source": [
        "!pip install numpyro"
      ],
      "metadata": {
        "id": "jL_SgGMQt9Jn",
        "outputId": "b71ac4e1-e0a4-41ca-a3d3-04bb545d112d",
        "colab": {
          "base_uri": "https://localhost:8080/"
        }
      },
      "execution_count": 54,
      "outputs": [
        {
          "output_type": "stream",
          "name": "stdout",
          "text": [
            "Requirement already satisfied: numpyro in /usr/local/lib/python3.11/dist-packages (0.18.0)\n",
            "Requirement already satisfied: jax>=0.4.25 in /usr/local/lib/python3.11/dist-packages (from numpyro) (0.5.2)\n",
            "Requirement already satisfied: jaxlib>=0.4.25 in /usr/local/lib/python3.11/dist-packages (from numpyro) (0.5.1)\n",
            "Requirement already satisfied: multipledispatch in /usr/local/lib/python3.11/dist-packages (from numpyro) (1.0.0)\n",
            "Requirement already satisfied: numpy in /usr/local/lib/python3.11/dist-packages (from numpyro) (2.0.2)\n",
            "Requirement already satisfied: tqdm in /usr/local/lib/python3.11/dist-packages (from numpyro) (4.67.1)\n",
            "Requirement already satisfied: ml_dtypes>=0.4.0 in /usr/local/lib/python3.11/dist-packages (from jax>=0.4.25->numpyro) (0.4.1)\n",
            "Requirement already satisfied: opt_einsum in /usr/local/lib/python3.11/dist-packages (from jax>=0.4.25->numpyro) (3.4.0)\n",
            "Requirement already satisfied: scipy>=1.11.1 in /usr/local/lib/python3.11/dist-packages (from jax>=0.4.25->numpyro) (1.14.1)\n"
          ]
        }
      ]
    },
    {
      "cell_type": "code",
      "execution_count": 149,
      "metadata": {
        "id": "zHxbSupL_rbP"
      },
      "outputs": [],
      "source": [
        "import jax.random as jr\n",
        "import numpyro\n",
        "import numpyro.distributions as dist\n",
        "from numpyro.infer import util\n",
        "\n",
        "def numpyro_model(times, concentrations, dosage_mass, sigma):\n",
        "    \"\"\"Model function for the JAX-based probabilistic model.\n",
        "\n",
        "    Parameters\n",
        "    ----------\n",
        "    times: array\n",
        "        Time points at which to evaluate the solution.\n",
        "    concentrations: array\n",
        "        Observed concentrations at the specified time points.\n",
        "    dosage_mass: float\n",
        "        Mass of the dosage administered.\n",
        "    sigma: float\n",
        "        Standard deviation of the measurement noise.\n",
        "\n",
        "    Returns\n",
        "    -------\n",
        "    float\n",
        "        Log likelihood of the observed data given the model parameters.\n",
        "    \"\"\"\n",
        "\n",
        "    k12 = numpyro.sample('k12', dist.Exponential(0.1))\n",
        "    k21 = numpyro.sample('k21', dist.Exponential(0.1))\n",
        "    kd = numpyro.sample('kd', dist.Exponential(0.1))\n",
        "    V = numpyro.sample('V', dist.LogNormal(4, 0.5))\n",
        "\n",
        "\n",
        "    # Likelihood\n",
        "    params = {'k12': k12, 'k21': k21, 'kd': kd, 'V': V}\n",
        "    c1 = solve_pk_iv_bolus(params, times, dosage_mass)\n",
        "    with numpyro.plate('data', len(times)):\n",
        "        numpyro.sample('obs', dist.Normal(c1, sigma), obs=concentrations)\n",
        "\n",
        "model_default_args = (times, concentrations, dosage_mass, sigma)\n",
        "\n",
        "(\n",
        "    init_params,\n",
        "    potential_fn_gen,\n",
        "    postprocess_fn_gen,\n",
        "    model_trace\n",
        ") = util.initialize_model(\n",
        "    jr.key(0),\n",
        "    numpyro_model,\n",
        "    model_args=model_default_args,  # Dummy arguments\n",
        "    dynamic_args=True,\n",
        ")\n",
        "\n",
        "# Get the probability density.\n",
        "# This is p(ξ|y)\n",
        "log_posterior_numpyro = lambda x: -potential_fn_gen(*model_default_args)(x)\n",
        "\n",
        "log_posterior_numpyro_2 = lambda x, y: -potential_fn_gen(*model_default_args, y)(x)\n",
        "\n",
        "# Get the transformation function.\n",
        "# This is ξ ↦ θ\n",
        "constrain_numpyro = jit(lambda x: util.constrain_fn(numpyro_model, model_default_args, {}, x))\n",
        "\n",
        "# And get the inverse transformation function.\n",
        "# This is θ ↦ ξ\n",
        "unconstrain_numpyro = jit(lambda x: util.unconstrain_fn(numpyro_model, model_default_args, {}, x))"
      ]
    },
    {
      "cell_type": "markdown",
      "metadata": {
        "id": "SEC3RjEB_rbQ"
      },
      "source": [
        "Run the cell below to test your implementation of $p(\\xi|\\mathbf{t}, \\mathbf{y}, \\sigma)$ against the Numpyro implementation. The printed results should be identical."
      ]
    },
    {
      "cell_type": "code",
      "execution_count": 150,
      "metadata": {
        "id": "FwbuF0EF_rbQ",
        "outputId": "8e2c6f55-9ba2-4407-c818-8e557dd69881",
        "colab": {
          "base_uri": "https://localhost:8080/"
        }
      },
      "outputs": [
        {
          "output_type": "stream",
          "name": "stdout",
          "text": [
            "Log posterior evaluated from scratch:  -272.12408\n",
            "Log posterior evaluated from numpyro:  -272.12408\n"
          ]
        }
      ],
      "source": [
        "xi = {\n",
        "    'k12': 0.1,\n",
        "    'k21': 0.2,\n",
        "    'kd': 0.3,\n",
        "    'V': 10.0,\n",
        "}\n",
        "\n",
        "print('Log posterior evaluated from scratch: ', log_posterior(xi))\n",
        "print('Log posterior evaluated from numpyro: ', log_posterior_numpyro(xi))"
      ]
    },
    {
      "cell_type": "markdown",
      "metadata": {
        "id": "Hp6zV4bE_rbQ"
      },
      "source": [
        "## Part B - Plot the prior predictive distribution\n",
        "\n",
        "First, let's create a function that samples the random variable $\\xi$ (i.e., the prior over the unnormalized variables).\n",
        "\n",
        "Again, complete the missing pieces of the following code:"
      ]
    },
    {
      "cell_type": "code",
      "execution_count": 151,
      "metadata": {
        "id": "B6IfZHsw_rbQ"
      },
      "outputs": [],
      "source": [
        "@partial(jit, static_argnums=1)\n",
        "def sample_prior_xi(key, num_samples):\n",
        "    keys = jr.split(key, 4)\n",
        "    k12 = (1/0.1)*jr.exponential(keys[0], shape=(num_samples,))\n",
        "    k21 = (1/0.1)*jr.exponential(keys[1], shape=(num_samples,))\n",
        "    kd = (1/0.1)*jr.exponential(keys[2], shape=(num_samples,))\n",
        "    V = jnp.exp(4)*jr.lognormal(keys[3], shape=(num_samples,), sigma=0.5)\n",
        "    xi = {\n",
        "        'k12': jnp.log(k12),\n",
        "        'k21': jnp.log(k21),\n",
        "        'kd': jnp.log(kd),\n",
        "        'V': jnp.log(V),\n",
        "    }\n",
        "    return xi"
      ]
    },
    {
      "cell_type": "markdown",
      "metadata": {
        "id": "PS3eZWUA_rbQ"
      },
      "source": [
        "And again, we could implement the same thing using Numpyro.\n",
        "Here is how you could use Numpyro's `Predictive` class to create a function that samples all latent variables defined in `numpyro_model`:"
      ]
    },
    {
      "cell_type": "code",
      "execution_count": 152,
      "metadata": {
        "id": "Af6RQ5Lo_rbQ"
      },
      "outputs": [],
      "source": [
        "@partial(jit, static_argnums=1)\n",
        "def sample_prior_xi_numpyro(key, num_samples):\n",
        "    s = numpyro.infer.Predictive(numpyro_model, num_samples=num_samples)(key, *model_default_args)\n",
        "    xi = vmap(unconstrain_numpyro)(s)\n",
        "    xi = {k: v for k, v in xi.items() if k in init_params.z.keys()}\n",
        "    return xi"
      ]
    },
    {
      "cell_type": "markdown",
      "metadata": {
        "id": "qQcIVi61_rbV"
      },
      "source": [
        "Run the following cell to test your prior sampler against Numpyro's prior sampler.\n",
        "The two should be essentially equivalent."
      ]
    },
    {
      "cell_type": "code",
      "execution_count": 153,
      "metadata": {
        "id": "vOrWds21_rbW",
        "outputId": "06960d96-9e03-4012-9e64-9d0cd65730cd",
        "colab": {
          "base_uri": "https://localhost:8080/",
          "height": 346
        }
      },
      "outputs": [
        {
          "output_type": "display_data",
          "data": {
            "text/plain": [
              "<Figure size 1200x200 with 4 Axes>"
            ],
            "image/png": "[encoded data removed]"
          },
          "metadata": {}
        },
        {
          "output_type": "display_data",
          "data": {
            "text/plain": [
              "<Figure size 1200x200 with 4 Axes>"
            ],
            "image/png": "[encoded data removed]"
          },
          "metadata": {}
        }
      ],
      "source": [
        "xi_prior_samples = sample_prior_xi(jr.key(0), 100_000)\n",
        "xi_prior_samples_numpyro = sample_prior_xi_numpyro(jr.key(0), 100_000)\n",
        "param_prior_samples = vmap(constrain)(xi_prior_samples)\n",
        "param_prior_samples_numpyro = vmap(constrain_numpyro)(xi_prior_samples_numpyro)\n",
        "\n",
        "fig, axes = plt.subplots(1, 4, figsize=(12, 2))\n",
        "\n",
        "ax = axes[0]\n",
        "sns.kdeplot(xi_prior_samples['k12'], label='from scratch', color='tab:blue', ax=ax)\n",
        "sns.kdeplot(xi_prior_samples_numpyro['k12'], label='from numpyro', color='tab:orange', linestyle='--', ax=ax)\n",
        "ax.set_xlabel('Parameter value')\n",
        "ax.set_title(r'Prior for $\\xi_{k_{12}}$')\n",
        "ax.legend()\n",
        "\n",
        "ax = axes[1]\n",
        "sns.kdeplot(xi_prior_samples['k21'], label='from scratch', color='tab:blue', ax=ax)\n",
        "sns.kdeplot(xi_prior_samples_numpyro['k21'], label='from numpyro', color='tab:orange', linestyle='--', ax=ax)\n",
        "ax.set_xlabel('Parameter value')\n",
        "ax.set_title(r'Prior for $\\xi_{k_{21}}$')\n",
        "ax.legend()\n",
        "\n",
        "ax = axes[2]\n",
        "sns.kdeplot(xi_prior_samples['kd'], label='from scratch', color='tab:blue', ax=ax)\n",
        "sns.kdeplot(xi_prior_samples_numpyro['kd'], label='from numpyro', color='tab:orange', linestyle='--', ax=ax)\n",
        "ax.set_xlabel('Parameter value')\n",
        "ax.set_title(r'Prior for $\\xi_{k_{d}}$')\n",
        "ax.legend()\n",
        "\n",
        "ax = axes[3]\n",
        "sns.kdeplot(xi_prior_samples['V'], label='from scratch', color='tab:blue', ax=ax)\n",
        "sns.kdeplot(xi_prior_samples_numpyro['V'], label='from numpyro', color='tab:orange', linestyle='--', ax=ax)\n",
        "ax.set_xlabel('Parameter value')\n",
        "ax.set_title(r'Prior for $\\xi_{V}$')\n",
        "ax.legend()\n",
        "\n",
        "sns.despine()\n",
        "\n",
        "fig, axes = plt.subplots(1, 4, figsize=(12, 2))\n",
        "\n",
        "ax = axes[0]\n",
        "sns.kdeplot(param_prior_samples['k12'], label='from scratch', color='tab:blue', ax=ax)\n",
        "sns.kdeplot(param_prior_samples_numpyro['k12'], label='from numpyro', color='tab:orange', linestyle='--', ax=ax)\n",
        "ax.set_xlabel('Parameter value')\n",
        "ax.set_title(r'Prior for $k_{12}$')\n",
        "ax.legend()\n",
        "\n",
        "ax = axes[1]\n",
        "sns.kdeplot(param_prior_samples['k21'], label='from scratch', color='tab:blue', ax=ax)\n",
        "sns.kdeplot(param_prior_samples_numpyro['k21'], label='from numpyro', color='tab:orange', linestyle='--', ax=ax)\n",
        "ax.set_xlabel('Parameter value')\n",
        "ax.set_title(r'Prior for $k_{21}$')\n",
        "ax.legend()\n",
        "\n",
        "ax = axes[2]\n",
        "sns.kdeplot(param_prior_samples['kd'], label='from scratch', color='tab:blue', ax=ax)\n",
        "sns.kdeplot(param_prior_samples_numpyro['kd'], label='from numpyro', color='tab:orange', linestyle='--', ax=ax)\n",
        "ax.set_xlabel('Parameter value')\n",
        "ax.set_title(r'Prior for $k_{d}$')\n",
        "ax.legend()\n",
        "\n",
        "ax = axes[3]\n",
        "sns.kdeplot(param_prior_samples['V'], label='from scratch', color='tab:blue', ax=ax)\n",
        "sns.kdeplot(param_prior_samples_numpyro['V'], label='from numpyro', color='tab:orange', linestyle='--', ax=ax)\n",
        "ax.set_xlabel('Parameter value')\n",
        "ax.set_title(r'Prior for $V$')\n",
        "ax.legend()\n",
        "\n",
        "sns.despine()"
      ]
    },
    {
      "cell_type": "markdown",
      "metadata": {
        "id": "agAZB8UA_rbW"
      },
      "source": [
        "(From this point forward, feel free to use either your implementation of the log density and prior sampler or the Numpyro implementation.)\n",
        "\n",
        "Now, collect 1000 *prior* samples of $\\theta=e^\\xi$.\n",
        "Plot the the following over the time interval $[0, 12]$ hours:\n",
        "- The 95% credible interval for $c_1(t; \\theta, m_\\text{dose})$\n",
        "- The 95% predictive interval for $c_1(t; \\theta, m_\\text{dose}) + \\epsilon; ~ \\epsilon \\sim \\mathcal{N}(0, \\sigma)$\n",
        "- A few samples of $c_1(t; \\theta, m_\\text{dose})$\n",
        "\n",
        "Hint: You may simply run the following code cell to create the plots."
      ]
    },
    {
      "cell_type": "code",
      "execution_count": 16,
      "metadata": {
        "id": "Ngvrj-2R_rbW",
        "outputId": "7444d030-23fe-4a65-d5c2-bd89061bf893",
        "colab": {
          "base_uri": "https://localhost:8080/",
          "height": 334
        }
      },
      "outputs": [
        {
          "output_type": "display_data",
          "data": {
            "text/plain": [
              "<Figure size 600x300 with 1 Axes>"
            ],
            "image/png": "[encoded data removed]"
          },
          "metadata": {}
        }
      ],
      "source": [
        "key, subkey = jr.split(jr.key(1))\n",
        "\n",
        "t_plt = jnp.linspace(0, 12, 100)\n",
        "xi_prior_samples = sample_prior_xi(jr.key(0), 1_000)\n",
        "theta_prior_samples = vmap(constrain)(xi_prior_samples)\n",
        "c1_prior_samples = vmap(solve_pk_iv_bolus, (0, None, None))(theta_prior_samples, t_plt, 1.0)\n",
        "y_prior_predictive_samples = c1_prior_samples + sigma*jr.normal(key, shape=c1_prior_samples.shape)\n",
        "\n",
        "q05_epistemic, q95_epistemic = jnp.quantile(c1_prior_samples, jnp.array([0.05, 0.95]), axis=0)\n",
        "q05_aleatoric, q95_aleatoric = jnp.quantile(y_prior_predictive_samples, jnp.array([0.05, 0.95]), axis=0)\n",
        "\n",
        "fig, ax = plt.subplots(1, 1, figsize=(6, 3))\n",
        "ax.plot(t_plt, c1_prior_samples[:10].T, color='tab:blue', lw=0.5, alpha=0.8)\n",
        "ax.fill_between(t_plt, q95_aleatoric, q95_epistemic, color='tab:orange', alpha=0.3, lw=0)\n",
        "ax.fill_between(t_plt, q95_epistemic, q05_epistemic, color='tab:blue', alpha=0.3, lw=0, label='Epistemic uncertainty')\n",
        "ax.fill_between(t_plt, q05_epistemic, q05_epistemic, color='tab:orange', alpha=0.3, lw=0, label='Aleatoric uncertainty')\n",
        "ax.set_xlabel('Time (hr)')\n",
        "ax.set_ylabel('Concentration (g/L)')\n",
        "ax.set_title('Prior samples', fontsize=14)\n",
        "ax.legend()\n",
        "sns.despine()"
      ]
    },
    {
      "cell_type": "markdown",
      "metadata": {
        "id": "0Josyh8G_rbW"
      },
      "source": [
        "## Part C - Find the maximum a-posteriori estimate"
      ]
    },
    {
      "cell_type": "markdown",
      "metadata": {
        "id": "a0-JLwXb_rbW"
      },
      "source": [
        "Now, we want to find the maximum a-posteriori (MAP) estimate $\\xi^*$, i.e.,\n",
        "\n",
        "$$\n",
        "\\xi^* = \\arg \\max_\\xi p(\\xi|\\mathbf{t}, \\mathbf{y} , \\sigma).\n",
        "$$\n",
        "\n",
        "We now have an unconstrained optimization problem.\n",
        "\n",
        "**Do the following:**\n",
        "- Use ADAM to find $\\xi^*$. Show that the loss converges. You may want to run ADAM for a few different starting points to ensure you have found the global maximum.\n",
        "- Report the MAP estimate of the parameters *in constrained space*, i.e., $\\theta^*=e^{\\xi^*}$.\n",
        "- Plot the MAP estimate for the central compartment concentration $c_1(t; \\theta^*, m_\\text{dose})$ *and* the 95% predictive interval (aleatoric uncertainty). (Hint: See part B.)\n",
        "Overlay the observations on the plot.\n",
        "- Compute and report the *area under the curve* (AUC) of the $c_1$-$t$ curve from $t=0$ to $t=36$ hours, i.e.,\n",
        "\n",
        "$$\n",
        "\\int_0^{36} c_1(t; \\theta^*, m_\\text{dose}) dt.\n",
        "$$\n",
        "\n",
        "&emsp;&emsp;&ensp;(AUC is a measure of the *total drug exposure*, and it helps assess drug efficacy and safety.)"
      ]
    },
    {
      "cell_type": "markdown",
      "metadata": {
        "id": "P7YELY9j_rbW"
      },
      "source": [
        "**Your answer here:** <br>"
      ]
    },
    {
      "cell_type": "code",
      "source": [
        "import jax\n",
        "import jax.numpy as jnp\n",
        "from jax.example_libraries import optimizers\n",
        "\n",
        "# Define the objective function (negative log posterior)\n",
        "objective_function = lambda xi: -log_posterior(xi)\n",
        "\n",
        "# Initialize the optimizer\n",
        "step_size = 0.01\n",
        "opt_init, opt_update, get_params = optimizers.adam(step_size)\n",
        "\n",
        "# Initialize parameters (try different starting points)\n",
        "xi_init = {'k12': 0.0, 'k21': 0.0, 'kd': 0.0, 'V': 4.0}  # Example starting point\n",
        "opt_state = opt_init(xi_init)\n",
        "\n",
        "# Optimization loop\n",
        "num_iterations = 10000\n",
        "losses = []\n",
        "for i in range(num_iterations):\n",
        "    loss, grads = jax.value_and_grad(objective_function)(get_params(opt_state))\n",
        "    opt_state = opt_update(i, grads, opt_state)\n",
        "    losses.append(loss)\n",
        "\n",
        "# Get the MAP estimate\n",
        "xi_map = get_params(opt_state)\n",
        "\n",
        "# Plot the loss to check convergence\n",
        "plt.plot(losses)\n",
        "plt.xlabel(\"Iteration\")\n",
        "plt.ylabel(\"Loss\")\n",
        "plt.title(\"Convergence of ADAM Optimization\")\n",
        "plt.show()"
      ],
      "metadata": {
        "id": "9Ll37LOWKFFK",
        "outputId": "c113fda7-1871-41a4-8064-1ba7853d52d6",
        "colab": {
          "base_uri": "https://localhost:8080/",
          "height": 468
        }
      },
      "execution_count": 17,
      "outputs": [
        {
          "output_type": "display_data",
          "data": {
            "text/plain": [
              "<Figure size 640x480 with 1 Axes>"
            ],
            "image/png": "[encoded data removed]"
          },
          "metadata": {}
        }
      ]
    },
    {
      "cell_type": "code",
      "source": [
        "# Transform to constrained space\n",
        "theta_map = constrain(xi_map)\n",
        "print(\"MAP Estimate (θ*):\", theta_map)"
      ],
      "metadata": {
        "id": "UGczbvwoKMHp",
        "outputId": "87958bad-9549-4769-ae45-29d52cfb1f5e",
        "colab": {
          "base_uri": "https://localhost:8080/"
        }
      },
      "execution_count": 18,
      "outputs": [
        {
          "output_type": "stream",
          "name": "stdout",
          "text": [
            "MAP Estimate (θ*): {'k12': Array(4.2891383, dtype=float32), 'k21': Array(11.266057, dtype=float32), 'kd': Array(0.86341715, dtype=float32), 'V': Array(42.920387, dtype=float32)}\n"
          ]
        }
      ]
    },
    {
      "cell_type": "code",
      "source": [
        "import matplotlib.pyplot as plt\n",
        "import seaborn as sns\n",
        "import numpy as np\n",
        "\n",
        "# Time points for plotting\n",
        "t_plt = jnp.linspace(0, 12, 100)\n",
        "\n",
        "# Calculate concentrations using the MAP estimate\n",
        "c1_map = solve_pk_iv_bolus(theta_map, t_plt, dosage_mass)\n",
        "\n",
        "# Calculate 95% predictive interval (aleatoric uncertainty)\n",
        "q05_aleatoric = c1_map - 1.96 * sigma\n",
        "q95_aleatoric = c1_map + 1.96 * sigma\n",
        "\n",
        "# Plot\n",
        "plt.figure(figsize=(6, 4))\n",
        "plt.plot(t_plt, c1_map, label=\"MAP Estimate\", color=\"tab:blue\")\n",
        "plt.fill_between(t_plt, q05_aleatoric, q95_aleatoric, color=\"tab:orange\", alpha=0.3, label=\"95% Predictive Interval\")\n",
        "plt.scatter(times, concentrations, label=\"Observations\", color=\"tab:red\")\n",
        "plt.xlabel(\"Time (hr)\")\n",
        "plt.ylabel(\"Concentration (g/L)\")\n",
        "plt.title(\"MAP Estimate and Predictive Interval\")\n",
        "plt.legend()\n",
        "sns.despine()\n",
        "plt.show()"
      ],
      "metadata": {
        "id": "JQQDvxAIKOXx",
        "outputId": "a9ceb8f3-d6e8-49af-f075-3ac09990161c",
        "colab": {
          "base_uri": "https://localhost:8080/",
          "height": 406
        }
      },
      "execution_count": 19,
      "outputs": [
        {
          "output_type": "display_data",
          "data": {
            "text/plain": [
              "<Figure size 600x400 with 1 Axes>"
            ],
            "image/png": "[encoded data removed]"
          },
          "metadata": {}
        }
      ]
    },
    {
      "cell_type": "code",
      "source": [
        "from scipy.integrate import trapezoid\n",
        "\n",
        "# Time points for AUC calculation\n",
        "t_auc = jnp.linspace(0, 36, 100)\n",
        "\n",
        "# Calculate concentrations for AUC\n",
        "c1_auc = solve_pk_iv_bolus(theta_map, t_auc, dosage_mass)\n",
        "\n",
        "# Calculate AUC using trapezoidal rule\n",
        "auc = trapezoid(c1_auc, t_auc)\n",
        "print(\"Area Under the Curve (AUC):\", auc)"
      ],
      "metadata": {
        "id": "Kd4ya0ZwKROr",
        "outputId": "8783b334-914f-4b4f-f1de-b1f532a58e1b",
        "colab": {
          "base_uri": "https://localhost:8080/"
        }
      },
      "execution_count": 20,
      "outputs": [
        {
          "output_type": "stream",
          "name": "stdout",
          "text": [
            "Area Under the Curve (AUC): 0.050083898\n"
          ]
        }
      ]
    },
    {
      "cell_type": "markdown",
      "metadata": {
        "id": "mfqCGZst_rbW"
      },
      "source": [
        "## Part D - Sample the posterior with MCMC\n",
        "\n",
        "Instead of only finding a point estimate of the parameters (as in Part C), we will characterize the full posterior distribution $p(\\xi|\\mathbf{t}, \\mathbf{y}, \\sigma)$.\n",
        "This will allow us to quantify our *epistemic* or *lack-of-data* uncertainty about the parameters.\n",
        "\n",
        "**Do the following:**\n",
        "- Sample the from posterior distribution $p(\\xi|\\mathbf{t}, \\mathbf{y}, \\sigma)$ using the No-U-Turn Sampler (NUTS). Use at least 3 chains and 1000 samples per chain. (Hint: See [this hands-on activity demonstrating NUTS in blackjax](https://predictivesciencelab.github.io/advanced-scientific-machine-learning/inverse/sampling/04_nuts_blackjax.html).)\n",
        "- Show the trace plots of the MCMC chains. Report MCMC diagnostics (R-hat, ESS). Argue whether the chains have converged. (Hint: Use `arviz.plot_trace` and `arviz.summary`.)\n",
        "- Plot all the $\\xi$ samples onto a scatterplot matrix. (Hint: Use `seaborn.pairplot`.)\n",
        "Comment on how identifiable the parameters are.\n",
        "- Compute the concentration $c_1$ for each posterior sample, over the time interval $[0, 12]$.\n",
        "Plot the 95% credible interval, 95% predictive interval, and a few samples from the posterior. (Hint: See Part B.)\n",
        "- Plot a histogram of the area under the curve (AUC) for the posterior samples (see part C for the definition of \"AUC\")."
      ]
    },
    {
      "cell_type": "markdown",
      "metadata": {
        "id": "xHjJleNB_rbX"
      },
      "source": [
        "**Your answer here:** <br>"
      ]
    },
    {
      "cell_type": "code",
      "source": [
        "!pip install blackjax\n",
        "!pip install jaxtyping"
      ],
      "metadata": {
        "id": "Xcd0rAohzT6Y",
        "outputId": "13350ee5-e2d1-4a42-b17e-32cccb003ea1",
        "colab": {
          "base_uri": "https://localhost:8080/"
        }
      },
      "execution_count": 21,
      "outputs": [
        {
          "output_type": "stream",
          "name": "stdout",
          "text": [
            "Collecting blackjax\n",
            "  Downloading blackjax-1.2.5-py3-none-any.whl.metadata (6.5 kB)\n",
            "Requirement already satisfied: fastprogress>=1.0.0 in /usr/local/lib/python3.11/dist-packages (from blackjax) (1.0.3)\n",
            "Requirement already satisfied: jax>=0.4.16 in /usr/local/lib/python3.11/dist-packages (from blackjax) (0.5.2)\n",
            "Requirement already satisfied: jaxlib>=0.4.16 in /usr/local/lib/python3.11/dist-packages (from blackjax) (0.5.1)\n",
            "Collecting jaxopt>=0.8 (from blackjax)\n",
            "  Downloading jaxopt-0.8.4-py3-none-any.whl.metadata (3.2 kB)\n",
            "Requirement already satisfied: optax>=0.1.7 in /usr/local/lib/python3.11/dist-packages (from blackjax) (0.2.4)\n",
            "Requirement already satisfied: typing-extensions>=4.4.0 in /usr/local/lib/python3.11/dist-packages (from blackjax) (4.13.1)\n",
            "Requirement already satisfied: ml_dtypes>=0.4.0 in /usr/local/lib/python3.11/dist-packages (from jax>=0.4.16->blackjax) (0.4.1)\n",
            "Requirement already satisfied: numpy>=1.25 in /usr/local/lib/python3.11/dist-packages (from jax>=0.4.16->blackjax) (2.0.2)\n",
            "Requirement already satisfied: opt_einsum in /usr/local/lib/python3.11/dist-packages (from jax>=0.4.16->blackjax) (3.4.0)\n",
            "Requirement already satisfied: scipy>=1.11.1 in /usr/local/lib/python3.11/dist-packages (from jax>=0.4.16->blackjax) (1.14.1)\n",
            "Requirement already satisfied: absl-py>=0.7.1 in /usr/local/lib/python3.11/dist-packages (from optax>=0.1.7->blackjax) (1.4.0)\n",
            "Requirement already satisfied: chex>=0.1.87 in /usr/local/lib/python3.11/dist-packages (from optax>=0.1.7->blackjax) (0.1.89)\n",
            "Requirement already satisfied: etils[epy] in /usr/local/lib/python3.11/dist-packages (from optax>=0.1.7->blackjax) (1.12.2)\n",
            "Requirement already satisfied: toolz>=0.9.0 in /usr/local/lib/python3.11/dist-packages (from chex>=0.1.87->optax>=0.1.7->blackjax) (0.12.1)\n",
            "Downloading blackjax-1.2.5-py3-none-any.whl (4.6 MB)\n",
            "\u001b[2K   \u001b[90m━━━━━━━━━━━━━━━━━━━━━━━━━━━━━━━━━━━━━━━━\u001b[0m \u001b[32m4.6/4.6 MB\u001b[0m \u001b[31m32.8 MB/s\u001b[0m eta \u001b[36m0:00:00\u001b[0m\n",
            "\u001b[?25hDownloading jaxopt-0.8.4-py3-none-any.whl (172 kB)\n",
            "\u001b[2K   \u001b[90m━━━━━━━━━━━━━━━━━━━━━━━━━━━━━━━━━━━━━━━━\u001b[0m \u001b[32m172.4/172.4 kB\u001b[0m \u001b[31m11.8 MB/s\u001b[0m eta \u001b[36m0:00:00\u001b[0m\n",
            "\u001b[?25hInstalling collected packages: jaxopt, blackjax\n",
            "Successfully installed blackjax-1.2.5 jaxopt-0.8.4\n",
            "Collecting jaxtyping\n",
            "  Downloading jaxtyping-0.3.1-py3-none-any.whl.metadata (7.0 kB)\n",
            "Collecting wadler-lindig>=0.1.3 (from jaxtyping)\n",
            "  Downloading wadler_lindig-0.1.5-py3-none-any.whl.metadata (17 kB)\n",
            "Downloading jaxtyping-0.3.1-py3-none-any.whl (55 kB)\n",
            "\u001b[2K   \u001b[90m━━━━━━━━━━━━━━━━━━━━━━━━━━━━━━━━━━━━━━━━\u001b[0m \u001b[32m55.3/55.3 kB\u001b[0m \u001b[31m2.6 MB/s\u001b[0m eta \u001b[36m0:00:00\u001b[0m\n",
            "\u001b[?25hDownloading wadler_lindig-0.1.5-py3-none-any.whl (20 kB)\n",
            "Installing collected packages: wadler-lindig, jaxtyping\n",
            "Successfully installed jaxtyping-0.3.1 wadler-lindig-0.1.5\n"
          ]
        }
      ]
    },
    {
      "cell_type": "code",
      "source": [
        "import blackjax\n",
        "from jaxtyping import Array, Float, PyTree, PRNGKeyArray\n",
        "from typing import Callable, Tuple\n",
        "\n",
        "def run_inference(\n",
        "    joint_log_prob: Callable,\n",
        "    sample_starting_point: Callable,\n",
        "    key: PRNGKeyArray,\n",
        "    num_warmup: int,\n",
        "    num_samples: int,\n",
        "    num_chains: int\n",
        "):\n",
        "    \"\"\"Do warmup with window adaptation (to tune step size and mass matrix) and then sample using NUTS.\n",
        "    Returns a tuple with the NUTS states and some info.\n",
        "    \"\"\"\n",
        "    # Initialize the window adaptation algorithm\n",
        "    warmup = blackjax.window_adaptation(blackjax.nuts, joint_log_prob)\n",
        "\n",
        "    # Initialize the MCMC chain\n",
        "    key, init_key, warmup_key, sample_key = jax.random.split(key, 4)\n",
        "    init_position = sample_starting_point(init_key, num_chains)\n",
        "\n",
        "    # Run the warmup phase for each chain\n",
        "    @jax.vmap\n",
        "    def call_warmup(seed, param):\n",
        "        \"\"\"Run the warmup phase for a single chain.\"\"\"\n",
        "        (initial_states, tuned_params), _ = warmup.run(seed, param, num_warmup)\n",
        "        return initial_states, tuned_params\n",
        "    warmup_keys = jax.random.split(warmup_key, num_chains)\n",
        "    initial_states, tuned_params = jax.jit(call_warmup)(warmup_keys, init_position)\n",
        "\n",
        "    # Run the sampling phase\n",
        "    states, infos = inference_loop_multiple_chains(sample_key, initial_states, tuned_params, joint_log_prob, num_samples, num_chains)\n",
        "\n",
        "    # `states` contains the samples, `infos` contains other information about the sampling process\n",
        "    return states, infos\n",
        "\n",
        "def sample_starting_point(\n",
        "    key: PRNGKeyArray,\n",
        "    num_chains: int,\n",
        "    mu: Array,\n",
        "    Sigma: Array\n",
        "):\n",
        "    \"\"\"Draw samples from a multivariate normal as starting points for the MCMC chains.\n",
        "    Returns an array of shape (num_chains, num_dims).\n",
        "    \"\"\"\n",
        "    keys = jr.split(key, num_chains)\n",
        "    return vmap(lambda k: jr.multivariate_normal(k, mu, Sigma))(keys)\n",
        "\n",
        "def inference_loop_multiple_chains(\n",
        "    key: PRNGKeyArray,\n",
        "    initial_states: PyTree,\n",
        "    tuned_params: dict,\n",
        "    log_prob_fn: Callable,\n",
        "    num_samples: int,\n",
        "    num_chains: int\n",
        "):\n",
        "    \"\"\"Do NUTS sampling for multiple chains in a vectorized fashion. Returns a tuple with the NUTS states and some info.\"\"\"\n",
        "    # Initialize the NUTS kernel\n",
        "    kernel = blackjax.nuts.build_kernel()\n",
        "\n",
        "    def step_fn(key, state, **params):\n",
        "        \"\"\"A single step of NUTS for one chain.\"\"\"\n",
        "        return kernel(key, state, log_prob_fn, **params)\n",
        "\n",
        "    def one_step(states, key):\n",
        "        \"\"\"A single step of NUTS for multiple chains.\"\"\"\n",
        "        keys = jax.random.split(key, num_chains)\n",
        "        states, infos = jax.vmap(step_fn)(keys, states, **tuned_params)\n",
        "        return states, (states, infos)\n",
        "\n",
        "    # Run the NUTS sampling for multiple chains\n",
        "    keys = jax.random.split(key, num_samples)\n",
        "    _, (states, infos) = jax.lax.scan(one_step, initial_states, keys)\n",
        "\n",
        "    return (states, infos)"
      ],
      "metadata": {
        "id": "I2qyN9Tj701N"
      },
      "execution_count": 92,
      "outputs": []
    },
    {
      "cell_type": "code",
      "source": [
        "rng_key = jr.PRNGKey(0)\n",
        "\n",
        "# sample a random variable\n",
        "k12 = numpyro.sample('k12', dist.Exponential(0.1), rng_key=rng_key)"
      ],
      "metadata": {
        "id": "vROIcwdEDZsH"
      },
      "execution_count": 93,
      "outputs": []
    },
    {
      "cell_type": "code",
      "source": [
        "num_chains = 3\n",
        "num_samples_per_chain = 1000\n",
        "num_warmup = 500\n",
        "key = jr.PRNGKey(123)\n",
        "\n",
        "states, infos = run_inference(\n",
        "    joint_log_prob=log_posterior_numpyro,\n",
        "    sample_starting_point=partial(sample_starting_point, mu=jnp.zeros(4), Sigma=jnp.eye(4)),\n",
        "    key=key,\n",
        "    num_warmup=num_warmup,\n",
        "    num_samples=num_samples_per_chain,\n",
        "    num_chains=num_chains\n",
        ")"
      ],
      "metadata": {
        "id": "opJeceBu8NSc",
        "outputId": "58515925-6dda-4061-d2a7-99183abdea3b",
        "colab": {
          "base_uri": "https://localhost:8080/",
          "height": 1000
        }
      },
      "execution_count": 94,
      "outputs": [
        {
          "output_type": "error",
          "ename": "TypeError",
          "evalue": "<lambda>() missing 1 required positional argument: 'y'",
          "traceback": [
            "\u001b[0;31m---------------------------------------------------------------------------\u001b[0m",
            "\u001b[0;31mTypeError\u001b[0m                                 Traceback (most recent call last)",
            "\u001b[0;32m<ipython-input-94-93e9b26c3340>\u001b[0m in \u001b[0;36m<cell line: 0>\u001b[0;34m()\u001b[0m\n\u001b[1;32m      4\u001b[0m \u001b[0mkey\u001b[0m \u001b[0;34m=\u001b[0m \u001b[0mjr\u001b[0m\u001b[0;34m.\u001b[0m\u001b[0mPRNGKey\u001b[0m\u001b[0;34m(\u001b[0m\u001b[0;36m123\u001b[0m\u001b[0;34m)\u001b[0m\u001b[0;34m\u001b[0m\u001b[0;34m\u001b[0m\u001b[0m\n\u001b[1;32m      5\u001b[0m \u001b[0;34m\u001b[0m\u001b[0m\n\u001b[0;32m----> 6\u001b[0;31m states, infos = run_inference(\n\u001b[0m\u001b[1;32m      7\u001b[0m     \u001b[0mjoint_log_prob\u001b[0m\u001b[0;34m=\u001b[0m\u001b[0mlog_posterior_numpyro_2\u001b[0m\u001b[0;34m,\u001b[0m\u001b[0;34m\u001b[0m\u001b[0;34m\u001b[0m\u001b[0m\n\u001b[1;32m      8\u001b[0m     \u001b[0msample_starting_point\u001b[0m\u001b[0;34m=\u001b[0m\u001b[0mpartial\u001b[0m\u001b[0;34m(\u001b[0m\u001b[0msample_starting_point\u001b[0m\u001b[0;34m,\u001b[0m \u001b[0mmu\u001b[0m\u001b[0;34m=\u001b[0m\u001b[0mjnp\u001b[0m\u001b[0;34m.\u001b[0m\u001b[0mzeros\u001b[0m\u001b[0;34m(\u001b[0m\u001b[0;36m4\u001b[0m\u001b[0;34m)\u001b[0m\u001b[0;34m,\u001b[0m \u001b[0mSigma\u001b[0m\u001b[0;34m=\u001b[0m\u001b[0mjnp\u001b[0m\u001b[0;34m.\u001b[0m\u001b[0meye\u001b[0m\u001b[0;34m(\u001b[0m\u001b[0;36m4\u001b[0m\u001b[0;34m)\u001b[0m\u001b[0;34m)\u001b[0m\u001b[0;34m,\u001b[0m\u001b[0;34m\u001b[0m\u001b[0;34m\u001b[0m\u001b[0m\n",
            "\u001b[0;32m<ipython-input-92-3e8ef9eccae2>\u001b[0m in \u001b[0;36mrun_inference\u001b[0;34m(joint_log_prob, sample_starting_point, key, num_warmup, num_samples, num_chains)\u001b[0m\n\u001b[1;32m     28\u001b[0m         \u001b[0;32mreturn\u001b[0m \u001b[0minitial_states\u001b[0m\u001b[0;34m,\u001b[0m \u001b[0mtuned_params\u001b[0m\u001b[0;34m\u001b[0m\u001b[0;34m\u001b[0m\u001b[0m\n\u001b[1;32m     29\u001b[0m     \u001b[0mwarmup_keys\u001b[0m \u001b[0;34m=\u001b[0m \u001b[0mjax\u001b[0m\u001b[0;34m.\u001b[0m\u001b[0mrandom\u001b[0m\u001b[0;34m.\u001b[0m\u001b[0msplit\u001b[0m\u001b[0;34m(\u001b[0m\u001b[0mwarmup_key\u001b[0m\u001b[0;34m,\u001b[0m \u001b[0mnum_chains\u001b[0m\u001b[0;34m)\u001b[0m\u001b[0;34m\u001b[0m\u001b[0;34m\u001b[0m\u001b[0m\n\u001b[0;32m---> 30\u001b[0;31m     \u001b[0minitial_states\u001b[0m\u001b[0;34m,\u001b[0m \u001b[0mtuned_params\u001b[0m \u001b[0;34m=\u001b[0m \u001b[0mjax\u001b[0m\u001b[0;34m.\u001b[0m\u001b[0mjit\u001b[0m\u001b[0;34m(\u001b[0m\u001b[0mcall_warmup\u001b[0m\u001b[0;34m)\u001b[0m\u001b[0;34m(\u001b[0m\u001b[0mwarmup_keys\u001b[0m\u001b[0;34m,\u001b[0m \u001b[0minit_position\u001b[0m\u001b[0;34m)\u001b[0m\u001b[0;34m\u001b[0m\u001b[0;34m\u001b[0m\u001b[0m\n\u001b[0m\u001b[1;32m     31\u001b[0m \u001b[0;34m\u001b[0m\u001b[0m\n\u001b[1;32m     32\u001b[0m     \u001b[0;31m# Run the sampling phase\u001b[0m\u001b[0;34m\u001b[0m\u001b[0;34m\u001b[0m\u001b[0m\n",
            "    \u001b[0;31m[... skipping hidden 20 frame]\u001b[0m\n",
            "\u001b[0;32m<ipython-input-92-3e8ef9eccae2>\u001b[0m in \u001b[0;36mcall_warmup\u001b[0;34m(seed, param)\u001b[0m\n\u001b[1;32m     25\u001b[0m     \u001b[0;32mdef\u001b[0m \u001b[0mcall_warmup\u001b[0m\u001b[0;34m(\u001b[0m\u001b[0mseed\u001b[0m\u001b[0;34m,\u001b[0m \u001b[0mparam\u001b[0m\u001b[0;34m)\u001b[0m\u001b[0;34m:\u001b[0m\u001b[0;34m\u001b[0m\u001b[0;34m\u001b[0m\u001b[0m\n\u001b[1;32m     26\u001b[0m         \u001b[0;34m\"\"\"Run the warmup phase for a single chain.\"\"\"\u001b[0m\u001b[0;34m\u001b[0m\u001b[0;34m\u001b[0m\u001b[0m\n\u001b[0;32m---> 27\u001b[0;31m         \u001b[0;34m(\u001b[0m\u001b[0minitial_states\u001b[0m\u001b[0;34m,\u001b[0m \u001b[0mtuned_params\u001b[0m\u001b[0;34m)\u001b[0m\u001b[0;34m,\u001b[0m \u001b[0m_\u001b[0m \u001b[0;34m=\u001b[0m \u001b[0mwarmup\u001b[0m\u001b[0;34m.\u001b[0m\u001b[0mrun\u001b[0m\u001b[0;34m(\u001b[0m\u001b[0mseed\u001b[0m\u001b[0;34m,\u001b[0m \u001b[0mparam\u001b[0m\u001b[0;34m,\u001b[0m \u001b[0mnum_warmup\u001b[0m\u001b[0;34m)\u001b[0m\u001b[0;34m\u001b[0m\u001b[0;34m\u001b[0m\u001b[0m\n\u001b[0m\u001b[1;32m     28\u001b[0m         \u001b[0;32mreturn\u001b[0m \u001b[0minitial_states\u001b[0m\u001b[0;34m,\u001b[0m \u001b[0mtuned_params\u001b[0m\u001b[0;34m\u001b[0m\u001b[0;34m\u001b[0m\u001b[0m\n\u001b[1;32m     29\u001b[0m     \u001b[0mwarmup_keys\u001b[0m \u001b[0;34m=\u001b[0m \u001b[0mjax\u001b[0m\u001b[0;34m.\u001b[0m\u001b[0mrandom\u001b[0m\u001b[0;34m.\u001b[0m\u001b[0msplit\u001b[0m\u001b[0;34m(\u001b[0m\u001b[0mwarmup_key\u001b[0m\u001b[0;34m,\u001b[0m \u001b[0mnum_chains\u001b[0m\u001b[0;34m)\u001b[0m\u001b[0;34m\u001b[0m\u001b[0;34m\u001b[0m\u001b[0m\n",
            "\u001b[0;32m/usr/local/lib/python3.11/dist-packages/blackjax/adaptation/window_adaptation.py\u001b[0m in \u001b[0;36mrun\u001b[0;34m(rng_key, position, num_steps)\u001b[0m\n\u001b[1;32m    329\u001b[0m \u001b[0;34m\u001b[0m\u001b[0m\n\u001b[1;32m    330\u001b[0m     \u001b[0;32mdef\u001b[0m \u001b[0mrun\u001b[0m\u001b[0;34m(\u001b[0m\u001b[0mrng_key\u001b[0m\u001b[0;34m:\u001b[0m \u001b[0mPRNGKey\u001b[0m\u001b[0;34m,\u001b[0m \u001b[0mposition\u001b[0m\u001b[0;34m:\u001b[0m \u001b[0mArrayLikeTree\u001b[0m\u001b[0;34m,\u001b[0m \u001b[0mnum_steps\u001b[0m\u001b[0;34m:\u001b[0m \u001b[0mint\u001b[0m \u001b[0;34m=\u001b[0m \u001b[0;36m1000\u001b[0m\u001b[0;34m)\u001b[0m\u001b[0;34m:\u001b[0m\u001b[0;34m\u001b[0m\u001b[0;34m\u001b[0m\u001b[0m\n\u001b[0;32m--> 331\u001b[0;31m         \u001b[0minit_state\u001b[0m \u001b[0;34m=\u001b[0m \u001b[0malgorithm\u001b[0m\u001b[0;34m.\u001b[0m\u001b[0minit\u001b[0m\u001b[0;34m(\u001b[0m\u001b[0mposition\u001b[0m\u001b[0;34m,\u001b[0m \u001b[0mlogdensity_fn\u001b[0m\u001b[0;34m)\u001b[0m\u001b[0;34m\u001b[0m\u001b[0;34m\u001b[0m\u001b[0m\n\u001b[0m\u001b[1;32m    332\u001b[0m         \u001b[0minit_adaptation_state\u001b[0m \u001b[0;34m=\u001b[0m \u001b[0madapt_init\u001b[0m\u001b[0;34m(\u001b[0m\u001b[0mposition\u001b[0m\u001b[0;34m,\u001b[0m \u001b[0minitial_step_size\u001b[0m\u001b[0;34m)\u001b[0m\u001b[0;34m\u001b[0m\u001b[0;34m\u001b[0m\u001b[0m\n\u001b[1;32m    333\u001b[0m \u001b[0;34m\u001b[0m\u001b[0m\n",
            "\u001b[0;32m/usr/local/lib/python3.11/dist-packages/blackjax/mcmc/hmc.py\u001b[0m in \u001b[0;36minit\u001b[0;34m(position, logdensity_fn)\u001b[0m\n\u001b[1;32m     87\u001b[0m \u001b[0;34m\u001b[0m\u001b[0m\n\u001b[1;32m     88\u001b[0m \u001b[0;32mdef\u001b[0m \u001b[0minit\u001b[0m\u001b[0;34m(\u001b[0m\u001b[0mposition\u001b[0m\u001b[0;34m:\u001b[0m \u001b[0mArrayLikeTree\u001b[0m\u001b[0;34m,\u001b[0m \u001b[0mlogdensity_fn\u001b[0m\u001b[0;34m:\u001b[0m \u001b[0mCallable\u001b[0m\u001b[0;34m)\u001b[0m\u001b[0;34m:\u001b[0m\u001b[0;34m\u001b[0m\u001b[0;34m\u001b[0m\u001b[0m\n\u001b[0;32m---> 89\u001b[0;31m     \u001b[0mlogdensity\u001b[0m\u001b[0;34m,\u001b[0m \u001b[0mlogdensity_grad\u001b[0m \u001b[0;34m=\u001b[0m \u001b[0mjax\u001b[0m\u001b[0;34m.\u001b[0m\u001b[0mvalue_and_grad\u001b[0m\u001b[0;34m(\u001b[0m\u001b[0mlogdensity_fn\u001b[0m\u001b[0;34m)\u001b[0m\u001b[0;34m(\u001b[0m\u001b[0mposition\u001b[0m\u001b[0;34m)\u001b[0m\u001b[0;34m\u001b[0m\u001b[0;34m\u001b[0m\u001b[0m\n\u001b[0m\u001b[1;32m     90\u001b[0m     \u001b[0;32mreturn\u001b[0m \u001b[0mHMCState\u001b[0m\u001b[0;34m(\u001b[0m\u001b[0mposition\u001b[0m\u001b[0;34m,\u001b[0m \u001b[0mlogdensity\u001b[0m\u001b[0;34m,\u001b[0m \u001b[0mlogdensity_grad\u001b[0m\u001b[0;34m)\u001b[0m\u001b[0;34m\u001b[0m\u001b[0;34m\u001b[0m\u001b[0m\n\u001b[1;32m     91\u001b[0m \u001b[0;34m\u001b[0m\u001b[0m\n",
            "    \u001b[0;31m[... skipping hidden 15 frame]\u001b[0m\n",
            "\u001b[0;32m/usr/local/lib/python3.11/dist-packages/jax/_src/linear_util.py\u001b[0m in \u001b[0;36m_get_result_paths_thunk\u001b[0;34m(_fun, _store, *args, **kwargs)\u001b[0m\n\u001b[1;32m    368\u001b[0m \u001b[0;34m@\u001b[0m\u001b[0mtransformation_with_aux2\u001b[0m\u001b[0;34m\u001b[0m\u001b[0;34m\u001b[0m\u001b[0m\n\u001b[1;32m    369\u001b[0m \u001b[0;32mdef\u001b[0m \u001b[0m_get_result_paths_thunk\u001b[0m\u001b[0;34m(\u001b[0m\u001b[0m_fun\u001b[0m\u001b[0;34m:\u001b[0m \u001b[0mCallable\u001b[0m\u001b[0;34m,\u001b[0m \u001b[0m_store\u001b[0m\u001b[0;34m:\u001b[0m \u001b[0mStore\u001b[0m\u001b[0;34m,\u001b[0m \u001b[0;34m*\u001b[0m\u001b[0margs\u001b[0m\u001b[0;34m,\u001b[0m \u001b[0;34m**\u001b[0m\u001b[0mkwargs\u001b[0m\u001b[0;34m)\u001b[0m\u001b[0;34m:\u001b[0m\u001b[0;34m\u001b[0m\u001b[0;34m\u001b[0m\u001b[0m\n\u001b[0;32m--> 370\u001b[0;31m   \u001b[0mans\u001b[0m \u001b[0;34m=\u001b[0m \u001b[0m_fun\u001b[0m\u001b[0;34m(\u001b[0m\u001b[0;34m*\u001b[0m\u001b[0margs\u001b[0m\u001b[0;34m,\u001b[0m \u001b[0;34m**\u001b[0m\u001b[0mkwargs\u001b[0m\u001b[0;34m)\u001b[0m\u001b[0;34m\u001b[0m\u001b[0;34m\u001b[0m\u001b[0m\n\u001b[0m\u001b[1;32m    371\u001b[0m   \u001b[0mresult_paths\u001b[0m \u001b[0;34m=\u001b[0m \u001b[0;34m[\u001b[0m\u001b[0m_clean_keystr_arg_names\u001b[0m\u001b[0;34m(\u001b[0m\u001b[0mpath\u001b[0m\u001b[0;34m)\u001b[0m \u001b[0;32mfor\u001b[0m \u001b[0mpath\u001b[0m\u001b[0;34m,\u001b[0m \u001b[0m_\u001b[0m \u001b[0;32min\u001b[0m \u001b[0mgenerate_key_paths\u001b[0m\u001b[0;34m(\u001b[0m\u001b[0mans\u001b[0m\u001b[0;34m)\u001b[0m\u001b[0;34m]\u001b[0m\u001b[0;34m\u001b[0m\u001b[0;34m\u001b[0m\u001b[0m\n\u001b[1;32m    372\u001b[0m   \u001b[0;32mif\u001b[0m \u001b[0m_store\u001b[0m\u001b[0;34m:\u001b[0m\u001b[0;34m\u001b[0m\u001b[0;34m\u001b[0m\u001b[0m\n",
            "\u001b[0;31mTypeError\u001b[0m: <lambda>() missing 1 required positional argument: 'y'"
          ]
        }
      ]
    },
    {
      "cell_type": "code",
      "source": [
        "# Assuming 'states' is the output of run_inference\n",
        "# Assuming 'constrain_numpyro' is your transformation function\n",
        "\n",
        "# Extract the posterior samples for the parameters\n",
        "posterior_samples = states.position\n",
        "\n",
        "# Transform the samples to constrained space\n",
        "samples = vmap(constrain_numpyro)(posterior_samples)"
      ],
      "metadata": {
        "id": "DlPvmzvYH3Ii",
        "outputId": "ce2df94d-e4d9-4d6e-b066-16129703119a",
        "colab": {
          "base_uri": "https://localhost:8080/",
          "height": 211
        }
      },
      "execution_count": 25,
      "outputs": [
        {
          "output_type": "error",
          "ename": "NameError",
          "evalue": "name 'states' is not defined",
          "traceback": [
            "\u001b[0;31m---------------------------------------------------------------------------\u001b[0m",
            "\u001b[0;31mNameError\u001b[0m                                 Traceback (most recent call last)",
            "\u001b[0;32m<ipython-input-25-3453a28c6f1f>\u001b[0m in \u001b[0;36m<cell line: 0>\u001b[0;34m()\u001b[0m\n\u001b[1;32m      3\u001b[0m \u001b[0;34m\u001b[0m\u001b[0m\n\u001b[1;32m      4\u001b[0m \u001b[0;31m# Extract the posterior samples for the parameters\u001b[0m\u001b[0;34m\u001b[0m\u001b[0;34m\u001b[0m\u001b[0m\n\u001b[0;32m----> 5\u001b[0;31m \u001b[0mposterior_samples\u001b[0m \u001b[0;34m=\u001b[0m \u001b[0mstates\u001b[0m\u001b[0;34m.\u001b[0m\u001b[0mposition\u001b[0m\u001b[0;34m\u001b[0m\u001b[0;34m\u001b[0m\u001b[0m\n\u001b[0m\u001b[1;32m      6\u001b[0m \u001b[0;34m\u001b[0m\u001b[0m\n\u001b[1;32m      7\u001b[0m \u001b[0;31m# Transform the samples to constrained space\u001b[0m\u001b[0;34m\u001b[0m\u001b[0;34m\u001b[0m\u001b[0m\n",
            "\u001b[0;31mNameError\u001b[0m: name 'states' is not defined"
          ]
        }
      ]
    },
    {
      "cell_type": "code",
      "source": [
        "import arviz as az\n",
        "\n",
        "# Assuming 'posterior_samples' contains the posterior samples for the parameters and 'xi_map' is your dictionary of parameter keys.\n",
        "\n",
        "# Convert samples to InferenceData object, use posterior_samples to populate the posterior group\n",
        "data = az.convert_to_inference_data(\n",
        "    {\"posterior\": posterior_samples},  # Pass posterior_samples as dictionary value\n",
        "    coords={\"parameters\": list(xi_map.keys())},\n",
        "    dims={\"posterior\": [\"parameters\"]},\n",
        ")\n",
        "\n",
        "# Plot trace plots\n",
        "az.plot_trace(data)\n",
        "plt.show()\n",
        "\n",
        "# Print summary statistics\n",
        "summary = az.summary(data)\n",
        "print(summary)"
      ],
      "metadata": {
        "id": "ealNIqWXxb-B",
        "outputId": "efaaf0cd-f243-4807-c826-6aa97350148f",
        "colab": {
          "base_uri": "https://localhost:8080/",
          "height": 555
        }
      },
      "execution_count": 42,
      "outputs": [
        {
          "output_type": "stream",
          "name": "stderr",
          "text": [
            "/usr/local/lib/python3.11/dist-packages/arviz/data/base.py:272: UserWarning: More chains (1000) than draws (3). Passed array should have shape (chains, draws, *shape)\n",
            "  warnings.warn(\n",
            "/usr/local/lib/python3.11/dist-packages/numpy/_core/_methods.py:188: RuntimeWarning: overflow encountered in multiply\n",
            "  x = um.multiply(x, x, out=x)\n",
            "/usr/local/lib/python3.11/dist-packages/numpy/_core/_methods.py:188: RuntimeWarning: overflow encountered in multiply\n",
            "  x = um.multiply(x, x, out=x)\n"
          ]
        },
        {
          "output_type": "display_data",
          "data": {
            "text/plain": [
              "<Figure size 1200x200 with 2 Axes>"
            ],
            "image/png": "[encoded data removed]"
          },
          "metadata": {}
        },
        {
          "output_type": "stream",
          "name": "stderr",
          "text": [
            "/usr/local/lib/python3.11/dist-packages/numpy/_core/_methods.py:188: RuntimeWarning: overflow encountered in multiply\n",
            "  x = um.multiply(x, x, out=x)\n",
            "Shape validation failed: input_shape: (1000, 3), minimum_shape: (chains=1, draws=4)\n"
          ]
        },
        {
          "output_type": "stream",
          "name": "stdout",
          "text": [
            "                        mean   sd        hdi_3%       hdi_97%  mcse_mean  \\\n",
            "posterior[V]    3.889489e+22  inf -7.691586e+22  1.405172e+23        NaN   \n",
            "posterior[k12] -6.058521e+22  inf -1.145538e+23  1.517794e+22        NaN   \n",
            "posterior[k21] -2.285365e+22  inf -6.789028e+22  3.667826e+22        NaN   \n",
            "posterior[kd]   7.201040e+22  inf -1.326272e+22  1.583496e+23        NaN   \n",
            "\n",
            "                mcse_sd  ess_bulk  ess_tail  r_hat  \n",
            "posterior[V]        NaN       NaN       NaN    NaN  \n",
            "posterior[k12]      NaN       NaN       NaN    NaN  \n",
            "posterior[k21]      NaN       NaN       NaN    NaN  \n",
            "posterior[kd]       NaN       NaN       NaN    NaN  \n"
          ]
        }
      ]
    },
    {
      "cell_type": "code",
      "source": [
        "import seaborn as sns\n",
        "\n",
        "# Convert samples to DataFrame\n",
        "import pandas as pd\n",
        "df = pd.DataFrame(samples, columns=xi_map.keys())\n",
        "\n",
        "# Create scatterplot matrix\n",
        "sns.pairplot(df)\n",
        "plt.show()"
      ],
      "metadata": {
        "id": "hEYUQbpLxe0d",
        "outputId": "63627a94-cf83-4dd8-bf64-f76c9612f456",
        "colab": {
          "base_uri": "https://localhost:8080/",
          "height": 714
        }
      },
      "execution_count": 43,
      "outputs": [
        {
          "output_type": "display_data",
          "data": {
            "text/plain": [
              "<Figure size 1000x1000 with 20 Axes>"
            ],
            "image/png": "[encoded data removed]"
          },
          "metadata": {}
        }
      ]
    },
    {
      "cell_type": "code",
      "source": [
        "# Time points for plotting\n",
        "t_plt = jnp.linspace(0, 12, 100)\n",
        "\n",
        "# Calculate concentrations for each posterior sample\n",
        "c1_posterior_samples = jax.vmap(solve_pk_iv_bolus, in_axes=(0, None, None))(vmap(constrain)(samples), t_plt, dosage_mass)\n",
        "\n",
        "# Calculate credible and predictive intervals\n",
        "q05_epistemic, q95_epistemic = jnp.quantile(c1_posterior_samples, jnp.array([0.05, 0.95]), axis=0)\n",
        "y_posterior_predictive_samples = c1_posterior_samples + sigma * jax.random.normal(jax.random.PRNGKey(0), shape=c1_posterior_samples.shape)\n",
        "q05_aleatoric, q95_aleatoric = jnp.quantile(y_posterior_predictive_samples, jnp.array([0.05, 0.95]), axis=0)\n",
        "\n",
        "# Plot\n",
        "plt.figure(figsize=(6, 4))\n",
        "plt.plot(t_plt, c1_posterior_samples[:10].T, color='tab:blue', lw=0.5, alpha=0.8)\n",
        "plt.fill_between(t_plt, q95_aleatoric, q95_epistemic, color='tab:orange', alpha=0.3, lw=0)\n",
        "plt.fill_between(t_plt, q95_epistemic, q05_epistemic, color='tab:blue', alpha=0.3, lw=0, label='Epistemic uncertainty')\n",
        "plt.fill_between(t_plt, q05_epistemic, q05_epistemic, color='tab:orange', alpha=0.3, lw=0, label='Aleatoric uncertainty')\n",
        "plt.scatter(times, concentrations, label='Observations', color='tab:red')\n",
        "plt.xlabel('Time (hr)')\n",
        "plt.ylabel('Concentration (g/L)')\n",
        "plt.title('Posterior samples', fontsize=14)\n",
        "plt.legend()\n",
        "sns.despine()\n",
        "plt.show()"
      ],
      "metadata": {
        "id": "Ji5EG2LuxgbR",
        "outputId": "320b7bec-a384-4120-bdd2-48058fd7ad1a",
        "colab": {
          "base_uri": "https://localhost:8080/",
          "height": 419
        }
      },
      "execution_count": 44,
      "outputs": [
        {
          "output_type": "error",
          "ename": "ValueError",
          "evalue": "vmap wrapped function must be passed at least one argument containing an array, got empty *args=({},) and **kwargs={}",
          "traceback": [
            "\u001b[0;31m---------------------------------------------------------------------------\u001b[0m",
            "\u001b[0;31mValueError\u001b[0m                                Traceback (most recent call last)",
            "\u001b[0;32m<ipython-input-44-1757f5122a09>\u001b[0m in \u001b[0;36m<cell line: 0>\u001b[0;34m()\u001b[0m\n\u001b[1;32m      3\u001b[0m \u001b[0;34m\u001b[0m\u001b[0m\n\u001b[1;32m      4\u001b[0m \u001b[0;31m# Calculate concentrations for each posterior sample\u001b[0m\u001b[0;34m\u001b[0m\u001b[0;34m\u001b[0m\u001b[0m\n\u001b[0;32m----> 5\u001b[0;31m \u001b[0mc1_posterior_samples\u001b[0m \u001b[0;34m=\u001b[0m \u001b[0mjax\u001b[0m\u001b[0;34m.\u001b[0m\u001b[0mvmap\u001b[0m\u001b[0;34m(\u001b[0m\u001b[0msolve_pk_iv_bolus\u001b[0m\u001b[0;34m,\u001b[0m \u001b[0min_axes\u001b[0m\u001b[0;34m=\u001b[0m\u001b[0;34m(\u001b[0m\u001b[0;36m0\u001b[0m\u001b[0;34m,\u001b[0m \u001b[0;32mNone\u001b[0m\u001b[0;34m,\u001b[0m \u001b[0;32mNone\u001b[0m\u001b[0;34m)\u001b[0m\u001b[0;34m)\u001b[0m\u001b[0;34m(\u001b[0m\u001b[0mvmap\u001b[0m\u001b[0;34m(\u001b[0m\u001b[0mconstrain\u001b[0m\u001b[0;34m)\u001b[0m\u001b[0;34m(\u001b[0m\u001b[0msamples\u001b[0m\u001b[0;34m)\u001b[0m\u001b[0;34m,\u001b[0m \u001b[0mt_plt\u001b[0m\u001b[0;34m,\u001b[0m \u001b[0mdosage_mass\u001b[0m\u001b[0;34m)\u001b[0m\u001b[0;34m\u001b[0m\u001b[0;34m\u001b[0m\u001b[0m\n\u001b[0m\u001b[1;32m      6\u001b[0m \u001b[0;34m\u001b[0m\u001b[0m\n\u001b[1;32m      7\u001b[0m \u001b[0;31m# Calculate credible and predictive intervals\u001b[0m\u001b[0;34m\u001b[0m\u001b[0;34m\u001b[0m\u001b[0m\n",
            "    \u001b[0;31m[... skipping hidden 2 frame]\u001b[0m\n",
            "\u001b[0;32m/usr/local/lib/python3.11/dist-packages/jax/_src/api.py\u001b[0m in \u001b[0;36m_mapped_axis_size\u001b[0;34m(fn, tree, vals, dims, name)\u001b[0m\n\u001b[1;32m   1051\u001b[0m   \u001b[0;32mif\u001b[0m \u001b[0;32mnot\u001b[0m \u001b[0mvals\u001b[0m\u001b[0;34m:\u001b[0m\u001b[0;34m\u001b[0m\u001b[0;34m\u001b[0m\u001b[0m\n\u001b[1;32m   1052\u001b[0m     \u001b[0margs\u001b[0m\u001b[0;34m,\u001b[0m \u001b[0mkwargs\u001b[0m \u001b[0;34m=\u001b[0m \u001b[0mtree_unflatten\u001b[0m\u001b[0;34m(\u001b[0m\u001b[0mtree\u001b[0m\u001b[0;34m,\u001b[0m \u001b[0mvals\u001b[0m\u001b[0;34m)\u001b[0m\u001b[0;34m\u001b[0m\u001b[0;34m\u001b[0m\u001b[0m\n\u001b[0;32m-> 1053\u001b[0;31m     raise ValueError(\n\u001b[0m\u001b[1;32m   1054\u001b[0m         \u001b[0;34mf\"{name} wrapped function must be passed at least one argument \"\u001b[0m\u001b[0;34m\u001b[0m\u001b[0;34m\u001b[0m\u001b[0m\n\u001b[1;32m   1055\u001b[0m         \u001b[0;34mf\"containing an array, got empty *args={args} and **kwargs={kwargs}\"\u001b[0m\u001b[0;34m\u001b[0m\u001b[0;34m\u001b[0m\u001b[0m\n",
            "\u001b[0;31mValueError\u001b[0m: vmap wrapped function must be passed at least one argument containing an array, got empty *args=({},) and **kwargs={}"
          ]
        }
      ]
    },
    {
      "cell_type": "code",
      "source": [
        "from scipy.integrate import trapezoid\n",
        "\n",
        "# Time points for AUC calculation\n",
        "t_auc = jnp.linspace(0, 36, 100)\n",
        "\n",
        "# Calculate AUC for each posterior sample\n",
        "auc_posterior_samples = jax.vmap(lambda theta: trapezoid(solve_pk_iv_bolus(theta, t_auc, dosage_mass), t_auc))(vmap(constrain)(samples))\n",
        "\n",
        "\n",
        "# Plot histogram\n",
        "plt.hist(auc_posterior_samples, bins=50)\n",
        "plt.xlabel(\"AUC\")\n",
        "plt.ylabel(\"Frequency\")\n",
        "plt.title(\"Posterior Distribution of AUC\")\n",
        "plt.show()"
      ],
      "metadata": {
        "id": "olmsGMd0xiff",
        "outputId": "c91cf668-2313-4533-80bc-d14a211c5158",
        "colab": {
          "base_uri": "https://localhost:8080/",
          "height": 419
        }
      },
      "execution_count": 47,
      "outputs": [
        {
          "output_type": "error",
          "ename": "ValueError",
          "evalue": "vmap wrapped function must be passed at least one argument containing an array, got empty *args=({},) and **kwargs={}",
          "traceback": [
            "\u001b[0;31m---------------------------------------------------------------------------\u001b[0m",
            "\u001b[0;31mValueError\u001b[0m                                Traceback (most recent call last)",
            "\u001b[0;32m<ipython-input-47-b247e73b8092>\u001b[0m in \u001b[0;36m<cell line: 0>\u001b[0;34m()\u001b[0m\n\u001b[1;32m      5\u001b[0m \u001b[0;34m\u001b[0m\u001b[0m\n\u001b[1;32m      6\u001b[0m \u001b[0;31m# Calculate AUC for each posterior sample\u001b[0m\u001b[0;34m\u001b[0m\u001b[0;34m\u001b[0m\u001b[0m\n\u001b[0;32m----> 7\u001b[0;31m \u001b[0mauc_posterior_samples\u001b[0m \u001b[0;34m=\u001b[0m \u001b[0mjax\u001b[0m\u001b[0;34m.\u001b[0m\u001b[0mvmap\u001b[0m\u001b[0;34m(\u001b[0m\u001b[0;32mlambda\u001b[0m \u001b[0mtheta\u001b[0m\u001b[0;34m:\u001b[0m \u001b[0mtrapezoid\u001b[0m\u001b[0;34m(\u001b[0m\u001b[0msolve_pk_iv_bolus\u001b[0m\u001b[0;34m(\u001b[0m\u001b[0mtheta\u001b[0m\u001b[0;34m,\u001b[0m \u001b[0mt_auc\u001b[0m\u001b[0;34m,\u001b[0m \u001b[0mdosage_mass\u001b[0m\u001b[0;34m)\u001b[0m\u001b[0;34m,\u001b[0m \u001b[0mt_auc\u001b[0m\u001b[0;34m)\u001b[0m\u001b[0;34m)\u001b[0m\u001b[0;34m(\u001b[0m\u001b[0mvmap\u001b[0m\u001b[0;34m(\u001b[0m\u001b[0mconstrain\u001b[0m\u001b[0;34m)\u001b[0m\u001b[0;34m(\u001b[0m\u001b[0msamples\u001b[0m\u001b[0;34m)\u001b[0m\u001b[0;34m)\u001b[0m\u001b[0;34m\u001b[0m\u001b[0;34m\u001b[0m\u001b[0m\n\u001b[0m\u001b[1;32m      8\u001b[0m \u001b[0;34m\u001b[0m\u001b[0m\n\u001b[1;32m      9\u001b[0m \u001b[0;34m\u001b[0m\u001b[0m\n",
            "    \u001b[0;31m[... skipping hidden 2 frame]\u001b[0m\n",
            "\u001b[0;32m/usr/local/lib/python3.11/dist-packages/jax/_src/api.py\u001b[0m in \u001b[0;36m_mapped_axis_size\u001b[0;34m(fn, tree, vals, dims, name)\u001b[0m\n\u001b[1;32m   1051\u001b[0m   \u001b[0;32mif\u001b[0m \u001b[0;32mnot\u001b[0m \u001b[0mvals\u001b[0m\u001b[0;34m:\u001b[0m\u001b[0;34m\u001b[0m\u001b[0;34m\u001b[0m\u001b[0m\n\u001b[1;32m   1052\u001b[0m     \u001b[0margs\u001b[0m\u001b[0;34m,\u001b[0m \u001b[0mkwargs\u001b[0m \u001b[0;34m=\u001b[0m \u001b[0mtree_unflatten\u001b[0m\u001b[0;34m(\u001b[0m\u001b[0mtree\u001b[0m\u001b[0;34m,\u001b[0m \u001b[0mvals\u001b[0m\u001b[0;34m)\u001b[0m\u001b[0;34m\u001b[0m\u001b[0;34m\u001b[0m\u001b[0m\n\u001b[0;32m-> 1053\u001b[0;31m     raise ValueError(\n\u001b[0m\u001b[1;32m   1054\u001b[0m         \u001b[0;34mf\"{name} wrapped function must be passed at least one argument \"\u001b[0m\u001b[0;34m\u001b[0m\u001b[0;34m\u001b[0m\u001b[0m\n\u001b[1;32m   1055\u001b[0m         \u001b[0;34mf\"containing an array, got empty *args={args} and **kwargs={kwargs}\"\u001b[0m\u001b[0;34m\u001b[0m\u001b[0;34m\u001b[0m\u001b[0m\n",
            "\u001b[0;31mValueError\u001b[0m: vmap wrapped function must be passed at least one argument containing an array, got empty *args=({},) and **kwargs={}"
          ]
        }
      ]
    },
    {
      "cell_type": "markdown",
      "metadata": {
        "id": "zXBahVig_rbX"
      },
      "source": [
        "## Part E - Variational inference with mean-field Gaussian guide\n",
        "\n",
        "**Do the following:**\n",
        "- Construct a mean-field multivariate Gaussian guide (i.e., diagonal covariance matrix)\n",
        "\n",
        "$$\n",
        "q_\\phi(\\xi)=\\mathcal{N}(\\xi| \\mu_\\phi, \\sigma_\\phi I).\n",
        "$$\n",
        "\n",
        "- Maximize the Evidence Lower Bound (ELBO) with respect to the guide parameters $\\phi$ so that the guide approximates the posterior, i.e.\n",
        "\n",
        "$$\n",
        "q_\\phi\\approx p(\\xi|\\mathbf{t}, \\mathbf{y}, \\sigma).\n",
        "$$\n",
        "&emsp;&emsp;&ensp;(Hint: See [this hands-on activity implementing VI with a full-rank Gaussian guide](https://predictivesciencelab.github.io/advanced-scientific-machine-learning/inverse/vi/02_catalysis.html).\n",
        "If you use `FullRankGaussianGuide` from the hands-on activity, at a minimum you will need to modify `Sigma`, `forward`, and `get_num_guide_params` to match the form of a mean-field Gaussian guide.\n",
        ")\n",
        "\n",
        "- Argue whether the optimization converged.\n",
        "- Collect 5,000 (approximate) posterior samples of $\\xi$ from the trained guide.\n",
        "- Plot all the $\\xi$ samples onto a scatterplot matrix.\n",
        "Overlay the MCMC samples from part D.\n",
        "Use transparency so that both VI and MCMC samples are visible.\n",
        "How well does mean-field Gaussian VI approximate the posterior?\n",
        "- As in parts B and D, compute the concentration $c_1$ for each posterior sample, over the time interval $[0, 12]$.\n",
        "Plot the 95% credible interval, 95% predictive interval, and a few samples from the posterior.\n",
        "- Plot a histogram of the AUCs of the posterior samples.\n",
        "Overlay (with transparency) the AUC histogram from part D (MCMC).\n",
        "Do they match?"
      ]
    },
    {
      "cell_type": "code",
      "source": [
        "!pip install equinox"
      ],
      "metadata": {
        "id": "7oxTcnCfSTe6",
        "outputId": "7e62e76a-0af0-4e9d-881e-b7705ba7d53c",
        "colab": {
          "base_uri": "https://localhost:8080/"
        }
      },
      "execution_count": 26,
      "outputs": [
        {
          "output_type": "stream",
          "name": "stdout",
          "text": [
            "Collecting equinox\n",
            "  Downloading equinox-0.12.1-py3-none-any.whl.metadata (18 kB)\n",
            "Requirement already satisfied: jax>=0.4.38 in /usr/local/lib/python3.11/dist-packages (from equinox) (0.5.2)\n",
            "Requirement already satisfied: jaxtyping>=0.2.20 in /usr/local/lib/python3.11/dist-packages (from equinox) (0.3.1)\n",
            "Requirement already satisfied: typing-extensions>=4.5.0 in /usr/local/lib/python3.11/dist-packages (from equinox) (4.13.1)\n",
            "Requirement already satisfied: wadler-lindig>=0.1.0 in /usr/local/lib/python3.11/dist-packages (from equinox) (0.1.5)\n",
            "Requirement already satisfied: jaxlib<=0.5.2,>=0.5.1 in /usr/local/lib/python3.11/dist-packages (from jax>=0.4.38->equinox) (0.5.1)\n",
            "Requirement already satisfied: ml_dtypes>=0.4.0 in /usr/local/lib/python3.11/dist-packages (from jax>=0.4.38->equinox) (0.4.1)\n",
            "Requirement already satisfied: numpy>=1.25 in /usr/local/lib/python3.11/dist-packages (from jax>=0.4.38->equinox) (2.0.2)\n",
            "Requirement already satisfied: opt_einsum in /usr/local/lib/python3.11/dist-packages (from jax>=0.4.38->equinox) (3.4.0)\n",
            "Requirement already satisfied: scipy>=1.11.1 in /usr/local/lib/python3.11/dist-packages (from jax>=0.4.38->equinox) (1.14.1)\n",
            "Downloading equinox-0.12.1-py3-none-any.whl (177 kB)\n",
            "\u001b[2K   \u001b[90m━━━━━━━━━━━━━━━━━━━━━━━━━━━━━━━━━━━━━━━━\u001b[0m \u001b[32m177.1/177.1 kB\u001b[0m \u001b[31m5.4 MB/s\u001b[0m eta \u001b[36m0:00:00\u001b[0m\n",
            "\u001b[?25hInstalling collected packages: equinox\n",
            "Successfully installed equinox-0.12.1\n"
          ]
        }
      ]
    },
    {
      "cell_type": "code",
      "source": [
        "import equinox as eqx"
      ],
      "metadata": {
        "id": "EBIk63FPSRHt"
      },
      "execution_count": 27,
      "outputs": []
    },
    {
      "cell_type": "code",
      "source": [
        "class MeanFieldGaussianGuide(eqx.Module):\n",
        "    \"\"\"Class that represents a multivariate normal guide with variational parameters phi.\"\"\"\n",
        "    guide_params: jnp.ndarray\n",
        "    num_model_params: int = eqx.field(static=True, default=None)\n",
        "\n",
        "    def __post_init__(self):\n",
        "        if self.guide_params.shape[0] != self.get_num_guide_params(self.num_model_params):\n",
        "            raise ValueError(\"The length of phi is not consistent with the number of parameters.\")\n",
        "\n",
        "    def logprob(self, model_params):\n",
        "        \"\"\"The log probability density of the guide.\"\"\"\n",
        "        return jax.scipy.stats.multivariate_normal.logpdf(model_params, self.mu, self.Sigma)\n",
        "\n",
        "    def sample(self, key, num_samples):\n",
        "        \"\"\"Samples from the guide.\"\"\"\n",
        "        return jr.multivariate_normal(key, self.mu, self.Sigma, shape=(num_samples,))\n",
        "\n",
        "    def forward(self, epsilon):\n",
        "        \"\"\"Transforms a multivariate normal sample to a sample from the guide, as per the reparameterization trick.\"\"\"\n",
        "        return self.mu + jnp.dot(jnp.diag(self.Sigma), epsilon)\n",
        "\n",
        "    @property\n",
        "    def mu(self):\n",
        "        \"\"\"The mean of the guide.\"\"\"\n",
        "        return self.guide_params[:self.num_model_params]\n",
        "\n",
        "    @property\n",
        "    def Sigma(self):\n",
        "        \"\"\"The covariance of the guide.\"\"\"\n",
        "        std_devs = jnp.exp(self.guide_params[self.num_model_params:2*self.num_model_params])\n",
        "        return std_devs\n",
        "\n",
        "    @classmethod\n",
        "    def from_mean_covariance(cls, mu, Sigma):\n",
        "        \"\"\"Constructs a guide with a given mean and covariance. Useful for initializing phi to a reasonable value.\"\"\"\n",
        "        diag = jnp.diag(Sigma)\n",
        "        guide_params = jnp.hstack([mu, jnp.log(Sigma)])\n",
        "        return cls(guide_params, mu.shape[0])\n",
        "\n",
        "    @staticmethod\n",
        "    def get_num_guide_params(num_model_params):\n",
        "        \"\"\"Return the number of guide parameters there are.\"\"\"\n",
        "        num_mu_params = num_model_params\n",
        "        num_sigma_I_params = num_model_params\n",
        "        return num_mu_params + num_sigma_I_params\n",
        "\n",
        "# Test\n",
        "_q_test = MeanFieldGaussianGuide(guide_params=jnp.arange(8, dtype=float), num_model_params=4)\n",
        "assert jnp.all(jnp.isclose(_q_test.guide_params, MeanFieldGaussianGuide.from_mean_covariance(_q_test.mu, _q_test.Sigma).guide_params))"
      ],
      "metadata": {
        "id": "QXVUFvA-RIrO"
      },
      "execution_count": 40,
      "outputs": []
    },
    {
      "cell_type": "code",
      "source": [
        "# Set the initial guide to a standard Gaussian\n",
        "q_init = MeanFieldGaussianGuide.from_mean_covariance(mu=jnp.zeros(4), Sigma=jnp.array([1,1,1,1]))"
      ],
      "metadata": {
        "id": "aA9LzuLThYc-"
      },
      "execution_count": 41,
      "outputs": []
    },
    {
      "cell_type": "code",
      "source": [
        "# Minimizing the negative ELBO is equivalent to maximizing the ELBO.\n",
        "def neg_elbo(guide_params, epsilon, model_kwargs, num_model_params):\n",
        "    \"\"\"The integrand of the negative reparameterized ELBO, f(g_phi(xi)).\n",
        "\n",
        "    Parameters\n",
        "    ----------\n",
        "    guide_params : jnp.ndarray\n",
        "        The guide parameters. (Denoted as ϕ in the notes.)\n",
        "    epsilon : jnp.ndarray\n",
        "        The standard Gaussian sample to be transformed to a guide sample.\n",
        "    model_kwargs : dict\n",
        "        The keyword arguments for the model.\n",
        "    num_model_params : int\n",
        "        The number of model parameters. (The dimension of x in the notes.)\n",
        "\n",
        "    Returns the negative ELBO.\n",
        "    \"\"\"\n",
        "    q = MeanFieldGaussianGuide(guide_params=guide_params, num_model_params=num_model_params)\n",
        "    x = q.forward(epsilon)\n",
        "    return -log_posterior_numpyro(x) + q.logprob(x)"
      ],
      "metadata": {
        "id": "wE6Rt73lhFaz"
      },
      "execution_count": 42,
      "outputs": []
    },
    {
      "cell_type": "code",
      "source": [
        "model_kwargs = dict(\n",
        "    times=times,  # Replace with your times array\n",
        "    concentrations=concentrations,  # Replace with your concentrations array\n",
        "    dosage_mass=dosage_mass\n",
        ")"
      ],
      "metadata": {
        "id": "qPqD-aspk0p_"
      },
      "execution_count": 43,
      "outputs": []
    },
    {
      "cell_type": "code",
      "source": [
        "import optax\n",
        "from jax import value_and_grad\n",
        "\n",
        "def step(carry, _, optim, batch_size, model_kwargs, num_model_params):\n",
        "    \"\"\"A single optimization step.\"\"\"\n",
        "    guide_params, opt_state, key = carry\n",
        "\n",
        "    # Sample latent variable ϵ\n",
        "    key, subkey = jr.split(key)\n",
        "    epsilon = jr.normal(subkey, shape=(batch_size, num_model_params))\n",
        "\n",
        "    # Compute ELBO gradient estimate\n",
        "    neg_elbo_val, neg_elbo_grad = tree.map(\n",
        "        lambda x: jnp.sum(x, axis=0),\n",
        "        vmap(value_and_grad(neg_elbo), in_axes=(None, 0, None, None))(guide_params, epsilon, model_kwargs, num_model_params)\n",
        "    )\n",
        "\n",
        "    # Update variational parameters phi\n",
        "    updates, opt_state = optim.update(neg_elbo_grad, opt_state)\n",
        "    guide_params = optax.apply_updates(guide_params, updates)\n",
        "\n",
        "    return (guide_params, opt_state, key), neg_elbo_val\n",
        "\n",
        "# Setup\n",
        "optim = optax.apply_if_finite(optax.adam(5e-2), 10)\n",
        "step_frozen_args = jit(partial(step, optim=optim, batch_size=5, model_kwargs=model_kwargs, num_model_params=4))\n",
        "key, subkey = jr.split(key)\n",
        "vi_state = (q_init.guide_params, optim.init(q_init.guide_params), subkey)\n",
        "neg_elbo_vals = []\n",
        "print_every = 100\n",
        "num_iter = 3000\n",
        "\n",
        "# Run variational inference loop\n",
        "for i in range(num_iter):\n",
        "    vi_state, neg_elbo_val = step_frozen_args(vi_state, None)\n",
        "    neg_elbo_vals.append(neg_elbo_val)\n",
        "    if (i + 1) % print_every == 0:\n",
        "        print(f\"Iteration {(i + 1):4d}/{num_iter:4d} \\t ELBO: {jnp.mean(jnp.array(neg_elbo_vals[-print_every:])):.2f}\")\n",
        "\n",
        "# Extract optimized guide parameters and ELBO values\n",
        "phi_opt, _, _ = vi_state\n",
        "neg_elbo_vals = jnp.array(neg_elbo_vals)"
      ],
      "metadata": {
        "id": "J_HtCwMGhMDG",
        "outputId": "e7cd6fd7-d3a9-46b3-ccd3-22bf0658e5eb",
        "colab": {
          "base_uri": "https://localhost:8080/",
          "height": 460
        }
      },
      "execution_count": 44,
      "outputs": [
        {
          "output_type": "error",
          "ename": "AssertionError",
          "evalue": "",
          "traceback": [
            "\u001b[0;31m---------------------------------------------------------------------------\u001b[0m",
            "\u001b[0;31mAssertionError\u001b[0m                            Traceback (most recent call last)",
            "\u001b[0;32m<ipython-input-44-9094fc4ec3d0>\u001b[0m in \u001b[0;36m<cell line: 0>\u001b[0;34m()\u001b[0m\n\u001b[1;32m     33\u001b[0m \u001b[0;31m# Run variational inference loop\u001b[0m\u001b[0;34m\u001b[0m\u001b[0;34m\u001b[0m\u001b[0m\n\u001b[1;32m     34\u001b[0m \u001b[0;32mfor\u001b[0m \u001b[0mi\u001b[0m \u001b[0;32min\u001b[0m \u001b[0mrange\u001b[0m\u001b[0;34m(\u001b[0m\u001b[0mnum_iter\u001b[0m\u001b[0;34m)\u001b[0m\u001b[0;34m:\u001b[0m\u001b[0;34m\u001b[0m\u001b[0;34m\u001b[0m\u001b[0m\n\u001b[0;32m---> 35\u001b[0;31m     \u001b[0mvi_state\u001b[0m\u001b[0;34m,\u001b[0m \u001b[0mneg_elbo_val\u001b[0m \u001b[0;34m=\u001b[0m \u001b[0mstep_frozen_args\u001b[0m\u001b[0;34m(\u001b[0m\u001b[0mvi_state\u001b[0m\u001b[0;34m,\u001b[0m \u001b[0;32mNone\u001b[0m\u001b[0;34m)\u001b[0m\u001b[0;34m\u001b[0m\u001b[0;34m\u001b[0m\u001b[0m\n\u001b[0m\u001b[1;32m     36\u001b[0m     \u001b[0mneg_elbo_vals\u001b[0m\u001b[0;34m.\u001b[0m\u001b[0mappend\u001b[0m\u001b[0;34m(\u001b[0m\u001b[0mneg_elbo_val\u001b[0m\u001b[0;34m)\u001b[0m\u001b[0;34m\u001b[0m\u001b[0;34m\u001b[0m\u001b[0m\n\u001b[1;32m     37\u001b[0m     \u001b[0;32mif\u001b[0m \u001b[0;34m(\u001b[0m\u001b[0mi\u001b[0m \u001b[0;34m+\u001b[0m \u001b[0;36m1\u001b[0m\u001b[0;34m)\u001b[0m \u001b[0;34m%\u001b[0m \u001b[0mprint_every\u001b[0m \u001b[0;34m==\u001b[0m \u001b[0;36m0\u001b[0m\u001b[0;34m:\u001b[0m\u001b[0;34m\u001b[0m\u001b[0;34m\u001b[0m\u001b[0m\n",
            "    \u001b[0;31m[... skipping hidden 13 frame]\u001b[0m\n",
            "\u001b[0;32m<ipython-input-44-9094fc4ec3d0>\u001b[0m in \u001b[0;36mstep\u001b[0;34m(carry, _, optim, batch_size, model_kwargs, num_model_params)\u001b[0m\n\u001b[1;32m     13\u001b[0m     neg_elbo_val, neg_elbo_grad = tree.map(\n\u001b[1;32m     14\u001b[0m         \u001b[0;32mlambda\u001b[0m \u001b[0mx\u001b[0m\u001b[0;34m:\u001b[0m \u001b[0mjnp\u001b[0m\u001b[0;34m.\u001b[0m\u001b[0msum\u001b[0m\u001b[0;34m(\u001b[0m\u001b[0mx\u001b[0m\u001b[0;34m,\u001b[0m \u001b[0maxis\u001b[0m\u001b[0;34m=\u001b[0m\u001b[0;36m0\u001b[0m\u001b[0;34m)\u001b[0m\u001b[0;34m,\u001b[0m\u001b[0;34m\u001b[0m\u001b[0;34m\u001b[0m\u001b[0m\n\u001b[0;32m---> 15\u001b[0;31m         \u001b[0mvmap\u001b[0m\u001b[0;34m(\u001b[0m\u001b[0mvalue_and_grad\u001b[0m\u001b[0;34m(\u001b[0m\u001b[0mneg_elbo\u001b[0m\u001b[0;34m)\u001b[0m\u001b[0;34m,\u001b[0m \u001b[0min_axes\u001b[0m\u001b[0;34m=\u001b[0m\u001b[0;34m(\u001b[0m\u001b[0;32mNone\u001b[0m\u001b[0;34m,\u001b[0m \u001b[0;36m0\u001b[0m\u001b[0;34m,\u001b[0m \u001b[0;32mNone\u001b[0m\u001b[0;34m,\u001b[0m \u001b[0;32mNone\u001b[0m\u001b[0;34m)\u001b[0m\u001b[0;34m)\u001b[0m\u001b[0;34m(\u001b[0m\u001b[0mguide_params\u001b[0m\u001b[0;34m,\u001b[0m \u001b[0mepsilon\u001b[0m\u001b[0;34m,\u001b[0m \u001b[0mmodel_kwargs\u001b[0m\u001b[0;34m,\u001b[0m \u001b[0mnum_model_params\u001b[0m\u001b[0;34m)\u001b[0m\u001b[0;34m\u001b[0m\u001b[0;34m\u001b[0m\u001b[0m\n\u001b[0m\u001b[1;32m     16\u001b[0m     )\n\u001b[1;32m     17\u001b[0m \u001b[0;34m\u001b[0m\u001b[0m\n",
            "    \u001b[0;31m[... skipping hidden 23 frame]\u001b[0m\n",
            "\u001b[0;32m<ipython-input-42-301f00e195fa>\u001b[0m in \u001b[0;36mneg_elbo\u001b[0;34m(guide_params, epsilon, model_kwargs, num_model_params)\u001b[0m\n\u001b[1;32m     18\u001b[0m     \u001b[0mq\u001b[0m \u001b[0;34m=\u001b[0m \u001b[0mMeanFieldGaussianGuide\u001b[0m\u001b[0;34m(\u001b[0m\u001b[0mguide_params\u001b[0m\u001b[0;34m=\u001b[0m\u001b[0mguide_params\u001b[0m\u001b[0;34m,\u001b[0m \u001b[0mnum_model_params\u001b[0m\u001b[0;34m=\u001b[0m\u001b[0mnum_model_params\u001b[0m\u001b[0;34m)\u001b[0m\u001b[0;34m\u001b[0m\u001b[0;34m\u001b[0m\u001b[0m\n\u001b[1;32m     19\u001b[0m     \u001b[0mx\u001b[0m \u001b[0;34m=\u001b[0m \u001b[0mq\u001b[0m\u001b[0;34m.\u001b[0m\u001b[0mforward\u001b[0m\u001b[0;34m(\u001b[0m\u001b[0mepsilon\u001b[0m\u001b[0;34m)\u001b[0m\u001b[0;34m\u001b[0m\u001b[0;34m\u001b[0m\u001b[0m\n\u001b[0;32m---> 20\u001b[0;31m     \u001b[0;32mreturn\u001b[0m \u001b[0;34m-\u001b[0m\u001b[0mlog_posterior_numpyro\u001b[0m\u001b[0;34m(\u001b[0m\u001b[0mx\u001b[0m\u001b[0;34m)\u001b[0m \u001b[0;34m+\u001b[0m \u001b[0mq\u001b[0m\u001b[0;34m.\u001b[0m\u001b[0mlogprob\u001b[0m\u001b[0;34m(\u001b[0m\u001b[0mx\u001b[0m\u001b[0;34m)\u001b[0m\u001b[0;34m\u001b[0m\u001b[0;34m\u001b[0m\u001b[0m\n\u001b[0m",
            "\u001b[0;32m<ipython-input-11-ba03ddebaaa6>\u001b[0m in \u001b[0;36m<lambda>\u001b[0;34m(x)\u001b[0m\n\u001b[1;32m     51\u001b[0m \u001b[0;31m# Get the probability density.\u001b[0m\u001b[0;34m\u001b[0m\u001b[0;34m\u001b[0m\u001b[0m\n\u001b[1;32m     52\u001b[0m \u001b[0;31m# This is p(ξ|y)\u001b[0m\u001b[0;34m\u001b[0m\u001b[0;34m\u001b[0m\u001b[0m\n\u001b[0;32m---> 53\u001b[0;31m \u001b[0mlog_posterior_numpyro\u001b[0m \u001b[0;34m=\u001b[0m \u001b[0;32mlambda\u001b[0m \u001b[0mx\u001b[0m\u001b[0;34m:\u001b[0m \u001b[0;34m-\u001b[0m\u001b[0mpotential_fn_gen\u001b[0m\u001b[0;34m(\u001b[0m\u001b[0;34m*\u001b[0m\u001b[0mmodel_default_args\u001b[0m\u001b[0;34m)\u001b[0m\u001b[0;34m(\u001b[0m\u001b[0mx\u001b[0m\u001b[0;34m)\u001b[0m\u001b[0;34m\u001b[0m\u001b[0;34m\u001b[0m\u001b[0m\n\u001b[0m\u001b[1;32m     54\u001b[0m \u001b[0;34m\u001b[0m\u001b[0m\n\u001b[1;32m     55\u001b[0m \u001b[0;31m# Get the transformation function.\u001b[0m\u001b[0;34m\u001b[0m\u001b[0;34m\u001b[0m\u001b[0m\n",
            "\u001b[0;32m/usr/local/lib/python3.11/dist-packages/numpyro/infer/util.py\u001b[0m in \u001b[0;36mpotential_energy\u001b[0;34m(model, model_args, model_kwargs, params, enum)\u001b[0m\n\u001b[1;32m    322\u001b[0m     )\n\u001b[1;32m    323\u001b[0m     \u001b[0;31m# no param is needed for log_density computation because we already substitute\u001b[0m\u001b[0;34m\u001b[0m\u001b[0;34m\u001b[0m\u001b[0m\n\u001b[0;32m--> 324\u001b[0;31m     log_joint, model_trace = log_density_(\n\u001b[0m\u001b[1;32m    325\u001b[0m         \u001b[0msubstituted_model\u001b[0m\u001b[0;34m,\u001b[0m \u001b[0mmodel_args\u001b[0m\u001b[0;34m,\u001b[0m \u001b[0mmodel_kwargs\u001b[0m\u001b[0;34m,\u001b[0m \u001b[0;34m{\u001b[0m\u001b[0;34m}\u001b[0m\u001b[0;34m\u001b[0m\u001b[0;34m\u001b[0m\u001b[0m\n\u001b[1;32m    326\u001b[0m     )\n",
            "\u001b[0;32m/usr/local/lib/python3.11/dist-packages/numpyro/infer/util.py\u001b[0m in \u001b[0;36mlog_density\u001b[0;34m(model, model_args, model_kwargs, params)\u001b[0m\n\u001b[1;32m    118\u001b[0m     \u001b[0;34m:\u001b[0m\u001b[0;32mreturn\u001b[0m\u001b[0;34m:\u001b[0m \u001b[0mLog\u001b[0m \u001b[0mof\u001b[0m \u001b[0mjoint\u001b[0m \u001b[0mdensity\u001b[0m \u001b[0;32mand\u001b[0m \u001b[0ma\u001b[0m \u001b[0mcorresponding\u001b[0m \u001b[0mmodel\u001b[0m \u001b[0mtrace\u001b[0m\u001b[0;34m.\u001b[0m\u001b[0;34m\u001b[0m\u001b[0;34m\u001b[0m\u001b[0m\n\u001b[1;32m    119\u001b[0m     \"\"\"\n\u001b[0;32m--> 120\u001b[0;31m     \u001b[0mlog_joint\u001b[0m\u001b[0;34m,\u001b[0m \u001b[0mmodel_trace\u001b[0m \u001b[0;34m=\u001b[0m \u001b[0mcompute_log_probs\u001b[0m\u001b[0;34m(\u001b[0m\u001b[0mmodel\u001b[0m\u001b[0;34m,\u001b[0m \u001b[0mmodel_args\u001b[0m\u001b[0;34m,\u001b[0m \u001b[0mmodel_kwargs\u001b[0m\u001b[0;34m,\u001b[0m \u001b[0mparams\u001b[0m\u001b[0;34m)\u001b[0m\u001b[0;34m\u001b[0m\u001b[0;34m\u001b[0m\u001b[0m\n\u001b[0m\u001b[1;32m    121\u001b[0m     \u001b[0;31m# We need to start with 0.0 instead of 0 because log_joint may be empty or only\u001b[0m\u001b[0;34m\u001b[0m\u001b[0;34m\u001b[0m\u001b[0m\n\u001b[1;32m    122\u001b[0m     \u001b[0;31m# contain integers, but log_density must be a floating point value to be\u001b[0m\u001b[0;34m\u001b[0m\u001b[0;34m\u001b[0m\u001b[0m\n",
            "\u001b[0;32m/usr/local/lib/python3.11/dist-packages/numpyro/infer/util.py\u001b[0m in \u001b[0;36mcompute_log_probs\u001b[0;34m(model, model_args, model_kwargs, params, sum_log_prob)\u001b[0m\n\u001b[1;32m     76\u001b[0m     \"\"\"\n\u001b[1;32m     77\u001b[0m     \u001b[0mmodel\u001b[0m \u001b[0;34m=\u001b[0m \u001b[0msubstitute\u001b[0m\u001b[0;34m(\u001b[0m\u001b[0mmodel\u001b[0m\u001b[0;34m,\u001b[0m \u001b[0mdata\u001b[0m\u001b[0;34m=\u001b[0m\u001b[0mparams\u001b[0m\u001b[0;34m)\u001b[0m\u001b[0;34m\u001b[0m\u001b[0;34m\u001b[0m\u001b[0m\n\u001b[0;32m---> 78\u001b[0;31m     \u001b[0mmodel_trace\u001b[0m \u001b[0;34m=\u001b[0m \u001b[0mtrace\u001b[0m\u001b[0;34m(\u001b[0m\u001b[0mmodel\u001b[0m\u001b[0;34m)\u001b[0m\u001b[0;34m.\u001b[0m\u001b[0mget_trace\u001b[0m\u001b[0;34m(\u001b[0m\u001b[0;34m*\u001b[0m\u001b[0mmodel_args\u001b[0m\u001b[0;34m,\u001b[0m \u001b[0;34m**\u001b[0m\u001b[0mmodel_kwargs\u001b[0m\u001b[0;34m)\u001b[0m\u001b[0;34m\u001b[0m\u001b[0;34m\u001b[0m\u001b[0m\n\u001b[0m\u001b[1;32m     79\u001b[0m     \u001b[0mlog_joint\u001b[0m \u001b[0;34m=\u001b[0m \u001b[0;34m{\u001b[0m\u001b[0;34m}\u001b[0m\u001b[0;34m\u001b[0m\u001b[0;34m\u001b[0m\u001b[0m\n\u001b[1;32m     80\u001b[0m     \u001b[0;32mfor\u001b[0m \u001b[0msite\u001b[0m \u001b[0;32min\u001b[0m \u001b[0mmodel_trace\u001b[0m\u001b[0;34m.\u001b[0m\u001b[0mvalues\u001b[0m\u001b[0;34m(\u001b[0m\u001b[0;34m)\u001b[0m\u001b[0;34m:\u001b[0m\u001b[0;34m\u001b[0m\u001b[0;34m\u001b[0m\u001b[0m\n",
            "\u001b[0;32m/usr/local/lib/python3.11/dist-packages/numpyro/handlers.py\u001b[0m in \u001b[0;36mget_trace\u001b[0;34m(self, *args, **kwargs)\u001b[0m\n\u001b[1;32m    189\u001b[0m         \u001b[0;34m:\u001b[0m\u001b[0;32mreturn\u001b[0m\u001b[0;34m:\u001b[0m\u001b[0;31m \u001b[0m\u001b[0;31m`\u001b[0m\u001b[0mOrderedDict\u001b[0m\u001b[0;31m`\u001b[0m \u001b[0mcontaining\u001b[0m \u001b[0mthe\u001b[0m \u001b[0mexecution\u001b[0m \u001b[0mtrace\u001b[0m\u001b[0;34m.\u001b[0m\u001b[0;34m\u001b[0m\u001b[0;34m\u001b[0m\u001b[0m\n\u001b[1;32m    190\u001b[0m         \"\"\"\n\u001b[0;32m--> 191\u001b[0;31m         \u001b[0mself\u001b[0m\u001b[0;34m(\u001b[0m\u001b[0;34m*\u001b[0m\u001b[0margs\u001b[0m\u001b[0;34m,\u001b[0m \u001b[0;34m**\u001b[0m\u001b[0mkwargs\u001b[0m\u001b[0;34m)\u001b[0m\u001b[0;34m\u001b[0m\u001b[0;34m\u001b[0m\u001b[0m\n\u001b[0m\u001b[1;32m    192\u001b[0m         \u001b[0;32mreturn\u001b[0m \u001b[0mself\u001b[0m\u001b[0;34m.\u001b[0m\u001b[0mtrace\u001b[0m\u001b[0;34m\u001b[0m\u001b[0;34m\u001b[0m\u001b[0m\n\u001b[1;32m    193\u001b[0m \u001b[0;34m\u001b[0m\u001b[0m\n",
            "\u001b[0;32m/usr/local/lib/python3.11/dist-packages/numpyro/primitives.py\u001b[0m in \u001b[0;36m__call__\u001b[0;34m(self, *args, **kwargs)\u001b[0m\n\u001b[1;32m    119\u001b[0m             \u001b[0;32mreturn\u001b[0m \u001b[0mself\u001b[0m\u001b[0;34m\u001b[0m\u001b[0;34m\u001b[0m\u001b[0m\n\u001b[1;32m    120\u001b[0m         \u001b[0;32mwith\u001b[0m \u001b[0mself\u001b[0m\u001b[0;34m:\u001b[0m\u001b[0;34m\u001b[0m\u001b[0;34m\u001b[0m\u001b[0m\n\u001b[0;32m--> 121\u001b[0;31m             \u001b[0;32mreturn\u001b[0m \u001b[0mself\u001b[0m\u001b[0;34m.\u001b[0m\u001b[0mfn\u001b[0m\u001b[0;34m(\u001b[0m\u001b[0;34m*\u001b[0m\u001b[0margs\u001b[0m\u001b[0;34m,\u001b[0m \u001b[0;34m**\u001b[0m\u001b[0mkwargs\u001b[0m\u001b[0;34m)\u001b[0m\u001b[0;34m\u001b[0m\u001b[0;34m\u001b[0m\u001b[0m\n\u001b[0m\u001b[1;32m    122\u001b[0m \u001b[0;34m\u001b[0m\u001b[0m\n\u001b[1;32m    123\u001b[0m \u001b[0;34m\u001b[0m\u001b[0m\n",
            "\u001b[0;32m/usr/local/lib/python3.11/dist-packages/numpyro/primitives.py\u001b[0m in \u001b[0;36m__call__\u001b[0;34m(self, *args, **kwargs)\u001b[0m\n\u001b[1;32m    119\u001b[0m             \u001b[0;32mreturn\u001b[0m \u001b[0mself\u001b[0m\u001b[0;34m\u001b[0m\u001b[0;34m\u001b[0m\u001b[0m\n\u001b[1;32m    120\u001b[0m         \u001b[0;32mwith\u001b[0m \u001b[0mself\u001b[0m\u001b[0;34m:\u001b[0m\u001b[0;34m\u001b[0m\u001b[0;34m\u001b[0m\u001b[0m\n\u001b[0;32m--> 121\u001b[0;31m             \u001b[0;32mreturn\u001b[0m \u001b[0mself\u001b[0m\u001b[0;34m.\u001b[0m\u001b[0mfn\u001b[0m\u001b[0;34m(\u001b[0m\u001b[0;34m*\u001b[0m\u001b[0margs\u001b[0m\u001b[0;34m,\u001b[0m \u001b[0;34m**\u001b[0m\u001b[0mkwargs\u001b[0m\u001b[0;34m)\u001b[0m\u001b[0;34m\u001b[0m\u001b[0;34m\u001b[0m\u001b[0m\n\u001b[0m\u001b[1;32m    122\u001b[0m \u001b[0;34m\u001b[0m\u001b[0m\n\u001b[1;32m    123\u001b[0m \u001b[0;34m\u001b[0m\u001b[0m\n",
            "\u001b[0;32m/usr/local/lib/python3.11/dist-packages/numpyro/primitives.py\u001b[0m in \u001b[0;36m__call__\u001b[0;34m(self, *args, **kwargs)\u001b[0m\n\u001b[1;32m    119\u001b[0m             \u001b[0;32mreturn\u001b[0m \u001b[0mself\u001b[0m\u001b[0;34m\u001b[0m\u001b[0;34m\u001b[0m\u001b[0m\n\u001b[1;32m    120\u001b[0m         \u001b[0;32mwith\u001b[0m \u001b[0mself\u001b[0m\u001b[0;34m:\u001b[0m\u001b[0;34m\u001b[0m\u001b[0;34m\u001b[0m\u001b[0m\n\u001b[0;32m--> 121\u001b[0;31m             \u001b[0;32mreturn\u001b[0m \u001b[0mself\u001b[0m\u001b[0;34m.\u001b[0m\u001b[0mfn\u001b[0m\u001b[0;34m(\u001b[0m\u001b[0;34m*\u001b[0m\u001b[0margs\u001b[0m\u001b[0;34m,\u001b[0m \u001b[0;34m**\u001b[0m\u001b[0mkwargs\u001b[0m\u001b[0;34m)\u001b[0m\u001b[0;34m\u001b[0m\u001b[0;34m\u001b[0m\u001b[0m\n\u001b[0m\u001b[1;32m    122\u001b[0m \u001b[0;34m\u001b[0m\u001b[0m\n\u001b[1;32m    123\u001b[0m \u001b[0;34m\u001b[0m\u001b[0m\n",
            "\u001b[0;32m/usr/local/lib/python3.11/dist-packages/numpyro/primitives.py\u001b[0m in \u001b[0;36m__call__\u001b[0;34m(self, *args, **kwargs)\u001b[0m\n\u001b[1;32m    119\u001b[0m             \u001b[0;32mreturn\u001b[0m \u001b[0mself\u001b[0m\u001b[0;34m\u001b[0m\u001b[0;34m\u001b[0m\u001b[0m\n\u001b[1;32m    120\u001b[0m         \u001b[0;32mwith\u001b[0m \u001b[0mself\u001b[0m\u001b[0;34m:\u001b[0m\u001b[0;34m\u001b[0m\u001b[0;34m\u001b[0m\u001b[0m\n\u001b[0;32m--> 121\u001b[0;31m             \u001b[0;32mreturn\u001b[0m \u001b[0mself\u001b[0m\u001b[0;34m.\u001b[0m\u001b[0mfn\u001b[0m\u001b[0;34m(\u001b[0m\u001b[0;34m*\u001b[0m\u001b[0margs\u001b[0m\u001b[0;34m,\u001b[0m \u001b[0;34m**\u001b[0m\u001b[0mkwargs\u001b[0m\u001b[0;34m)\u001b[0m\u001b[0;34m\u001b[0m\u001b[0;34m\u001b[0m\u001b[0m\n\u001b[0m\u001b[1;32m    122\u001b[0m \u001b[0;34m\u001b[0m\u001b[0m\n\u001b[1;32m    123\u001b[0m \u001b[0;34m\u001b[0m\u001b[0m\n",
            "\u001b[0;32m/usr/local/lib/python3.11/dist-packages/numpyro/primitives.py\u001b[0m in \u001b[0;36m__call__\u001b[0;34m(self, *args, **kwargs)\u001b[0m\n\u001b[1;32m    119\u001b[0m             \u001b[0;32mreturn\u001b[0m \u001b[0mself\u001b[0m\u001b[0;34m\u001b[0m\u001b[0;34m\u001b[0m\u001b[0m\n\u001b[1;32m    120\u001b[0m         \u001b[0;32mwith\u001b[0m \u001b[0mself\u001b[0m\u001b[0;34m:\u001b[0m\u001b[0;34m\u001b[0m\u001b[0;34m\u001b[0m\u001b[0m\n\u001b[0;32m--> 121\u001b[0;31m             \u001b[0;32mreturn\u001b[0m \u001b[0mself\u001b[0m\u001b[0;34m.\u001b[0m\u001b[0mfn\u001b[0m\u001b[0;34m(\u001b[0m\u001b[0;34m*\u001b[0m\u001b[0margs\u001b[0m\u001b[0;34m,\u001b[0m \u001b[0;34m**\u001b[0m\u001b[0mkwargs\u001b[0m\u001b[0;34m)\u001b[0m\u001b[0;34m\u001b[0m\u001b[0;34m\u001b[0m\u001b[0m\n\u001b[0m\u001b[1;32m    122\u001b[0m \u001b[0;34m\u001b[0m\u001b[0m\n\u001b[1;32m    123\u001b[0m \u001b[0;34m\u001b[0m\u001b[0m\n",
            "\u001b[0;32m<ipython-input-11-ba03ddebaaa6>\u001b[0m in \u001b[0;36mnumpyro_model\u001b[0;34m(times, concentrations, dosage_mass, sigma)\u001b[0m\n\u001b[1;32m     24\u001b[0m     \"\"\"\n\u001b[1;32m     25\u001b[0m     \u001b[0;31m# Prior\u001b[0m\u001b[0;34m\u001b[0m\u001b[0;34m\u001b[0m\u001b[0m\n\u001b[0;32m---> 26\u001b[0;31m     \u001b[0mk12\u001b[0m \u001b[0;34m=\u001b[0m \u001b[0mnumpyro\u001b[0m\u001b[0;34m.\u001b[0m\u001b[0msample\u001b[0m\u001b[0;34m(\u001b[0m\u001b[0;34m'k12'\u001b[0m\u001b[0;34m,\u001b[0m \u001b[0mdist\u001b[0m\u001b[0;34m.\u001b[0m\u001b[0mExponential\u001b[0m\u001b[0;34m(\u001b[0m\u001b[0;36m0.1\u001b[0m\u001b[0;34m)\u001b[0m\u001b[0;34m)\u001b[0m\u001b[0;34m\u001b[0m\u001b[0;34m\u001b[0m\u001b[0m\n\u001b[0m\u001b[1;32m     27\u001b[0m     \u001b[0mk21\u001b[0m \u001b[0;34m=\u001b[0m \u001b[0mnumpyro\u001b[0m\u001b[0;34m.\u001b[0m\u001b[0msample\u001b[0m\u001b[0;34m(\u001b[0m\u001b[0;34m'k21'\u001b[0m\u001b[0;34m,\u001b[0m \u001b[0mdist\u001b[0m\u001b[0;34m.\u001b[0m\u001b[0mExponential\u001b[0m\u001b[0;34m(\u001b[0m\u001b[0;36m0.1\u001b[0m\u001b[0;34m)\u001b[0m\u001b[0;34m)\u001b[0m\u001b[0;34m\u001b[0m\u001b[0;34m\u001b[0m\u001b[0m\n\u001b[1;32m     28\u001b[0m     \u001b[0mkd\u001b[0m \u001b[0;34m=\u001b[0m \u001b[0mnumpyro\u001b[0m\u001b[0;34m.\u001b[0m\u001b[0msample\u001b[0m\u001b[0;34m(\u001b[0m\u001b[0;34m'kd'\u001b[0m\u001b[0;34m,\u001b[0m \u001b[0mdist\u001b[0m\u001b[0;34m.\u001b[0m\u001b[0mExponential\u001b[0m\u001b[0;34m(\u001b[0m\u001b[0;36m0.1\u001b[0m\u001b[0;34m)\u001b[0m\u001b[0;34m)\u001b[0m\u001b[0;34m\u001b[0m\u001b[0;34m\u001b[0m\u001b[0m\n",
            "\u001b[0;32m/usr/local/lib/python3.11/dist-packages/numpyro/primitives.py\u001b[0m in \u001b[0;36msample\u001b[0;34m(name, fn, obs, rng_key, sample_shape, infer, obs_mask)\u001b[0m\n\u001b[1;32m    248\u001b[0m \u001b[0;34m\u001b[0m\u001b[0m\n\u001b[1;32m    249\u001b[0m     \u001b[0;31m# ...and use apply_stack to send it to the Messengers\u001b[0m\u001b[0;34m\u001b[0m\u001b[0;34m\u001b[0m\u001b[0m\n\u001b[0;32m--> 250\u001b[0;31m     \u001b[0mmsg\u001b[0m \u001b[0;34m=\u001b[0m \u001b[0mapply_stack\u001b[0m\u001b[0;34m(\u001b[0m\u001b[0minitial_msg\u001b[0m\u001b[0;34m)\u001b[0m\u001b[0;34m\u001b[0m\u001b[0;34m\u001b[0m\u001b[0m\n\u001b[0m\u001b[1;32m    251\u001b[0m     \u001b[0;32mreturn\u001b[0m \u001b[0mmsg\u001b[0m\u001b[0;34m[\u001b[0m\u001b[0;34m\"value\"\u001b[0m\u001b[0;34m]\u001b[0m\u001b[0;34m\u001b[0m\u001b[0;34m\u001b[0m\u001b[0m\n\u001b[1;32m    252\u001b[0m \u001b[0;34m\u001b[0m\u001b[0m\n",
            "\u001b[0;32m/usr/local/lib/python3.11/dist-packages/numpyro/primitives.py\u001b[0m in \u001b[0;36mapply_stack\u001b[0;34m(msg)\u001b[0m\n\u001b[1;32m     59\u001b[0m             \u001b[0;32mbreak\u001b[0m\u001b[0;34m\u001b[0m\u001b[0;34m\u001b[0m\u001b[0m\n\u001b[1;32m     60\u001b[0m \u001b[0;34m\u001b[0m\u001b[0m\n\u001b[0;32m---> 61\u001b[0;31m     \u001b[0mdefault_process_message\u001b[0m\u001b[0;34m(\u001b[0m\u001b[0mmsg\u001b[0m\u001b[0;34m)\u001b[0m\u001b[0;34m\u001b[0m\u001b[0;34m\u001b[0m\u001b[0m\n\u001b[0m\u001b[1;32m     62\u001b[0m \u001b[0;34m\u001b[0m\u001b[0m\n\u001b[1;32m     63\u001b[0m     \u001b[0;31m# A Messenger that sets msg[\"stop\"] == True also prevents application\u001b[0m\u001b[0;34m\u001b[0m\u001b[0;34m\u001b[0m\u001b[0m\n",
            "\u001b[0;32m/usr/local/lib/python3.11/dist-packages/numpyro/primitives.py\u001b[0m in \u001b[0;36mdefault_process_message\u001b[0;34m(msg)\u001b[0m\n\u001b[1;32m     30\u001b[0m     \u001b[0;32mif\u001b[0m \u001b[0mmsg\u001b[0m\u001b[0;34m[\u001b[0m\u001b[0;34m\"value\"\u001b[0m\u001b[0;34m]\u001b[0m \u001b[0;32mis\u001b[0m \u001b[0;32mNone\u001b[0m\u001b[0;34m:\u001b[0m\u001b[0;34m\u001b[0m\u001b[0;34m\u001b[0m\u001b[0m\n\u001b[1;32m     31\u001b[0m         \u001b[0;32mif\u001b[0m \u001b[0mmsg\u001b[0m\u001b[0;34m[\u001b[0m\u001b[0;34m\"type\"\u001b[0m\u001b[0;34m]\u001b[0m \u001b[0;34m==\u001b[0m \u001b[0;34m\"sample\"\u001b[0m\u001b[0;34m:\u001b[0m\u001b[0;34m\u001b[0m\u001b[0;34m\u001b[0m\u001b[0m\n\u001b[0;32m---> 32\u001b[0;31m             msg[\"value\"], msg[\"intermediates\"] = msg[\"fn\"](\n\u001b[0m\u001b[1;32m     33\u001b[0m                 \u001b[0;34m*\u001b[0m\u001b[0mmsg\u001b[0m\u001b[0;34m[\u001b[0m\u001b[0;34m\"args\"\u001b[0m\u001b[0;34m]\u001b[0m\u001b[0;34m,\u001b[0m \u001b[0msample_intermediates\u001b[0m\u001b[0;34m=\u001b[0m\u001b[0;32mTrue\u001b[0m\u001b[0;34m,\u001b[0m \u001b[0;34m**\u001b[0m\u001b[0mmsg\u001b[0m\u001b[0;34m[\u001b[0m\u001b[0;34m\"kwargs\"\u001b[0m\u001b[0;34m]\u001b[0m\u001b[0;34m\u001b[0m\u001b[0;34m\u001b[0m\u001b[0m\n\u001b[1;32m     34\u001b[0m             )\n",
            "\u001b[0;32m/usr/local/lib/python3.11/dist-packages/numpyro/distributions/distribution.py\u001b[0m in \u001b[0;36m__call__\u001b[0;34m(self, *args, **kwargs)\u001b[0m\n\u001b[1;32m    391\u001b[0m         \u001b[0msample_intermediates\u001b[0m \u001b[0;34m=\u001b[0m \u001b[0mkwargs\u001b[0m\u001b[0;34m.\u001b[0m\u001b[0mpop\u001b[0m\u001b[0;34m(\u001b[0m\u001b[0;34m\"sample_intermediates\"\u001b[0m\u001b[0;34m,\u001b[0m \u001b[0;32mFalse\u001b[0m\u001b[0;34m)\u001b[0m\u001b[0;34m\u001b[0m\u001b[0;34m\u001b[0m\u001b[0m\n\u001b[1;32m    392\u001b[0m         \u001b[0;32mif\u001b[0m \u001b[0msample_intermediates\u001b[0m\u001b[0;34m:\u001b[0m\u001b[0;34m\u001b[0m\u001b[0;34m\u001b[0m\u001b[0m\n\u001b[0;32m--> 393\u001b[0;31m             \u001b[0;32mreturn\u001b[0m \u001b[0mself\u001b[0m\u001b[0;34m.\u001b[0m\u001b[0msample_with_intermediates\u001b[0m\u001b[0;34m(\u001b[0m\u001b[0mkey\u001b[0m\u001b[0;34m,\u001b[0m \u001b[0;34m*\u001b[0m\u001b[0margs\u001b[0m\u001b[0;34m,\u001b[0m \u001b[0;34m**\u001b[0m\u001b[0mkwargs\u001b[0m\u001b[0;34m)\u001b[0m\u001b[0;34m\u001b[0m\u001b[0;34m\u001b[0m\u001b[0m\n\u001b[0m\u001b[1;32m    394\u001b[0m         \u001b[0;32mreturn\u001b[0m \u001b[0mself\u001b[0m\u001b[0;34m.\u001b[0m\u001b[0msample\u001b[0m\u001b[0;34m(\u001b[0m\u001b[0mkey\u001b[0m\u001b[0;34m,\u001b[0m \u001b[0;34m*\u001b[0m\u001b[0margs\u001b[0m\u001b[0;34m,\u001b[0m \u001b[0;34m**\u001b[0m\u001b[0mkwargs\u001b[0m\u001b[0;34m)\u001b[0m\u001b[0;34m\u001b[0m\u001b[0;34m\u001b[0m\u001b[0m\n\u001b[1;32m    395\u001b[0m \u001b[0;34m\u001b[0m\u001b[0m\n",
            "\u001b[0;32m/usr/local/lib/python3.11/dist-packages/numpyro/distributions/distribution.py\u001b[0m in \u001b[0;36msample_with_intermediates\u001b[0;34m(self, key, sample_shape)\u001b[0m\n\u001b[1;32m    349\u001b[0m         \u001b[0;34m:\u001b[0m\u001b[0mrtype\u001b[0m\u001b[0;34m:\u001b[0m \u001b[0mnumpy\u001b[0m\u001b[0;34m.\u001b[0m\u001b[0mndarray\u001b[0m\u001b[0;34m\u001b[0m\u001b[0;34m\u001b[0m\u001b[0m\n\u001b[1;32m    350\u001b[0m         \"\"\"\n\u001b[0;32m--> 351\u001b[0;31m         \u001b[0;32mreturn\u001b[0m \u001b[0mself\u001b[0m\u001b[0;34m.\u001b[0m\u001b[0msample\u001b[0m\u001b[0;34m(\u001b[0m\u001b[0mkey\u001b[0m\u001b[0;34m,\u001b[0m \u001b[0msample_shape\u001b[0m\u001b[0;34m=\u001b[0m\u001b[0msample_shape\u001b[0m\u001b[0;34m)\u001b[0m\u001b[0;34m,\u001b[0m \u001b[0;34m[\u001b[0m\u001b[0;34m]\u001b[0m\u001b[0;34m\u001b[0m\u001b[0;34m\u001b[0m\u001b[0m\n\u001b[0m\u001b[1;32m    352\u001b[0m \u001b[0;34m\u001b[0m\u001b[0m\n\u001b[1;32m    353\u001b[0m     \u001b[0;32mdef\u001b[0m \u001b[0mlog_prob\u001b[0m\u001b[0;34m(\u001b[0m\u001b[0mself\u001b[0m\u001b[0;34m,\u001b[0m \u001b[0mvalue\u001b[0m\u001b[0;34m)\u001b[0m\u001b[0;34m:\u001b[0m\u001b[0;34m\u001b[0m\u001b[0;34m\u001b[0m\u001b[0m\n",
            "\u001b[0;32m/usr/local/lib/python3.11/dist-packages/numpyro/distributions/continuous.py\u001b[0m in \u001b[0;36msample\u001b[0;34m(self, key, sample_shape)\u001b[0m\n\u001b[1;32m    466\u001b[0m \u001b[0;34m\u001b[0m\u001b[0m\n\u001b[1;32m    467\u001b[0m     \u001b[0;32mdef\u001b[0m \u001b[0msample\u001b[0m\u001b[0;34m(\u001b[0m\u001b[0mself\u001b[0m\u001b[0;34m,\u001b[0m \u001b[0mkey\u001b[0m\u001b[0;34m,\u001b[0m \u001b[0msample_shape\u001b[0m\u001b[0;34m=\u001b[0m\u001b[0;34m(\u001b[0m\u001b[0;34m)\u001b[0m\u001b[0;34m)\u001b[0m\u001b[0;34m:\u001b[0m\u001b[0;34m\u001b[0m\u001b[0;34m\u001b[0m\u001b[0m\n\u001b[0;32m--> 468\u001b[0;31m         \u001b[0;32massert\u001b[0m \u001b[0mis_prng_key\u001b[0m\u001b[0;34m(\u001b[0m\u001b[0mkey\u001b[0m\u001b[0;34m)\u001b[0m\u001b[0;34m\u001b[0m\u001b[0;34m\u001b[0m\u001b[0m\n\u001b[0m\u001b[1;32m    469\u001b[0m         return (\n\u001b[1;32m    470\u001b[0m             \u001b[0mrandom\u001b[0m\u001b[0;34m.\u001b[0m\u001b[0mexponential\u001b[0m\u001b[0;34m(\u001b[0m\u001b[0mkey\u001b[0m\u001b[0;34m,\u001b[0m \u001b[0mshape\u001b[0m\u001b[0;34m=\u001b[0m\u001b[0msample_shape\u001b[0m \u001b[0;34m+\u001b[0m \u001b[0mself\u001b[0m\u001b[0;34m.\u001b[0m\u001b[0mbatch_shape\u001b[0m\u001b[0;34m)\u001b[0m \u001b[0;34m/\u001b[0m \u001b[0mself\u001b[0m\u001b[0;34m.\u001b[0m\u001b[0mrate\u001b[0m\u001b[0;34m\u001b[0m\u001b[0;34m\u001b[0m\u001b[0m\n",
            "\u001b[0;31mAssertionError\u001b[0m: "
          ]
        }
      ]
    },
    {
      "cell_type": "code",
      "source": [
        "fig, ax = plt.subplots(figsize=(3, 2))\n",
        "sliding_window = 20\n",
        "elbo_vals_averaged = jnp.convolve(neg_elbo_vals - neg_elbo_vals.min(), jnp.ones(sliding_window)/sliding_window, mode='valid')\n",
        "iters_averaged = jnp.arange(neg_elbo_vals.shape[0])[:elbo_vals_averaged.shape[0]]\n",
        "ax.plot(iters_averaged, elbo_vals_averaged)\n",
        "ax.set_title('Variational inference convergence')\n",
        "ax.set_xlabel('Iteration')\n",
        "ax.set_ylabel('Negative ELBO')\n",
        "ax.set_yscale('log')\n",
        "sns.despine(trim=True)"
      ],
      "metadata": {
        "id": "JVOIe3RuhR8G"
      },
      "execution_count": null,
      "outputs": []
    },
    {
      "cell_type": "code",
      "source": [
        "q = MeanFieldGaussianGuide(guide_params=phi_opt, num_model_params=4)\n",
        "samples_q = q.sample(key, num_samples=5000)  # (num_samples, num_model_params)"
      ],
      "metadata": {
        "id": "tlwpqchme7k7"
      },
      "execution_count": null,
      "outputs": []
    },
    {
      "cell_type": "code",
      "source": [
        "import seaborn as sns\n",
        "\n",
        "# Convert samples to DataFrame\n",
        "import pandas as pd\n",
        "df = pd.DataFrame(samples_q, columns=xi_map.keys())\n",
        "\n",
        "# Create scatterplot matrix\n",
        "sns.pairplot(df)\n",
        "plt.show()"
      ],
      "metadata": {
        "id": "d0uXBCYefXC0"
      },
      "execution_count": null,
      "outputs": []
    },
    {
      "cell_type": "code",
      "source": [
        "t_plt = jnp.linspace(0, 12, 100)\n",
        "theta_prior_samples = vmap(constrain)(samples_q)\n",
        "c1_prior_samples = vmap(solve_pk_iv_bolus, (0, None, None))(theta_prior_samples, t_plt, 1.0)\n",
        "y_prior_predictive_samples = c1_prior_samples + sigma*jr.normal(key, shape=c1_prior_samples.shape)\n",
        "\n",
        "q05_epistemic, q95_epistemic = jnp.quantile(c1_prior_samples, jnp.array([0.05, 0.95]), axis=0)\n",
        "q05_aleatoric, q95_aleatoric = jnp.quantile(y_prior_predictive_samples, jnp.array([0.05, 0.95]), axis=0)\n",
        "\n",
        "fig, ax = plt.subplots(1, 1, figsize=(6, 3))\n",
        "ax.plot(t_plt, c1_prior_samples[:10].T, color='tab:blue', lw=0.5, alpha=0.8)\n",
        "ax.fill_between(t_plt, q95_aleatoric, q95_epistemic, color='tab:orange', alpha=0.3, lw=0)\n",
        "ax.fill_between(t_plt, q95_epistemic, q05_epistemic, color='tab:blue', alpha=0.3, lw=0, label='Epistemic uncertainty')\n",
        "ax.fill_between(t_plt, q05_epistemic, q05_epistemic, color='tab:orange', alpha=0.3, lw=0, label='Aleatoric uncertainty')\n",
        "ax.set_xlabel('Time (hr)')\n",
        "ax.set_ylabel('Concentration (g/L)')\n",
        "ax.set_title('Prior samples', fontsize=14)\n",
        "ax.legend()\n",
        "sns.despine()"
      ],
      "metadata": {
        "id": "gEhHmXh6oAOx"
      },
      "execution_count": null,
      "outputs": []
    },
    {
      "cell_type": "code",
      "source": [
        "from scipy.integrate import trapezoid\n",
        "\n",
        "# Time points for AUC calculation\n",
        "t_auc = jnp.linspace(0, 36, 100)\n",
        "\n",
        "# Calculate AUC for each posterior sample\n",
        "auc_posterior_samples = jax.vmap(lambda theta: trapezoid(solve_pk_iv_bolus(theta, t_auc, dosage_mass), t_auc))(vmap(constrain)(samples))\n",
        "\n",
        "\n",
        "# Plot histogram\n",
        "plt.hist(auc_posterior_samples, bins=50)\n",
        "plt.xlabel(\"AUC\")\n",
        "plt.ylabel(\"Frequency\")\n",
        "plt.title(\"Posterior Distribution of AUC\")\n",
        "plt.show()"
      ],
      "metadata": {
        "id": "pO67d_qqWlvT"
      },
      "execution_count": null,
      "outputs": []
    },
    {
      "cell_type": "markdown",
      "metadata": {
        "id": "u4SiDR6y_rbX"
      },
      "source": [
        "## Part F - Variational inference with full-rank Gaussian guide\n",
        "\n",
        "**Do the following:**\n",
        "- Construct a full-rank multivariate Gaussian guide\n",
        "\n",
        "$$\n",
        "\\begin{align*}\n",
        "q_\\phi(\\xi) &=\\mathcal{N}(\\xi| \\mu_\\phi, \\Sigma_\\phi) \\\\\n",
        "\\Sigma_\\phi &= L_\\phi L_\\phi^T \\\\\n",
        "\\end{align*}\n",
        "$$\n",
        "&emsp;&emsp;&ensp;where $L_\\phi$ is a lower-triangular matrix parameterized by $\\phi$.\n",
        "\n",
        "- Repeat the steps from part E (including the plots) using the new guide.\n",
        "- How do the full-rank and mean-field VI approximations compare?"
      ]
    },
    {
      "cell_type": "markdown",
      "metadata": {
        "id": "s05sgj7-_rbX"
      },
      "source": [
        "**Your answer here:** <br>"
      ]
    },
    {
      "cell_type": "code",
      "source": [
        "class FullRankGaussianGuide(eqx.Module):\n",
        "    \"\"\"Class that represents a multivariate normal guide with variational parameters phi.\"\"\"\n",
        "    guide_params: jnp.ndarray\n",
        "    num_model_params: int = eqx.field(static=True, default=None)\n",
        "\n",
        "    def __post_init__(self):\n",
        "        if self.guide_params.shape[0] != self.get_num_guide_params(self.num_model_params):\n",
        "            raise ValueError(\"The length of phi is not consistent with the number of parameters.\")\n",
        "\n",
        "    def logprob(self, model_params):\n",
        "        \"\"\"The log probability density of the guide.\"\"\"\n",
        "        return jax.scipy.stats.multivariate_normal.logpdf(model_params, self.mu, self.Sigma)\n",
        "\n",
        "    def sample(self, key, num_samples):\n",
        "        \"\"\"Samples from the guide.\"\"\"\n",
        "        return jr.multivariate_normal(key, self.mu, self.Sigma, shape=(num_samples,))\n",
        "\n",
        "    def forward(self, epsilon):\n",
        "        \"\"\"Transforms a multivariate normal sample to a sample from the guide, as per the reparameterization trick.\"\"\"\n",
        "        return self.mu + jnp.dot(self.L, epsilon)\n",
        "\n",
        "    @property\n",
        "    def mu(self):\n",
        "        \"\"\"The mean of the guide.\"\"\"\n",
        "        return self.guide_params[:self.num_model_params]\n",
        "\n",
        "    @property\n",
        "    def Sigma(self):\n",
        "        \"\"\"The covariance of the guide.\"\"\"\n",
        "        L = self.L\n",
        "        return jnp.dot(L, L.T)\n",
        "\n",
        "    @property\n",
        "    def L(self):\n",
        "        \"\"\"The Cholesky decomposition of the covariance of the guide.\"\"\"\n",
        "        # The diagonal\n",
        "        ell = jnp.exp(self.guide_params[self.num_model_params:2*self.num_model_params])\n",
        "        L = jnp.diag(ell)\n",
        "\n",
        "        # The lower triangular part\n",
        "        L = L.at[jnp.tril_indices(self.num_model_params, -1)].set(self.guide_params[2*self.num_model_params:])\n",
        "        return L\n",
        "\n",
        "    @classmethod\n",
        "    def from_mean_covariance(cls, mu, Sigma):\n",
        "        \"\"\"Constructs a guide with a given mean and covariance. Useful for initializing phi to a reasonable value.\"\"\"\n",
        "        L = jnp.linalg.cholesky(Sigma)\n",
        "        ell = jnp.diag(L)\n",
        "        tri = L[jnp.tril_indices(L.shape[0], -1)]\n",
        "        guide_params = jnp.hstack([mu, jnp.log(ell), tri])\n",
        "        return cls(guide_params, mu.shape[0])\n",
        "\n",
        "    @staticmethod\n",
        "    def get_num_guide_params(num_model_params):\n",
        "        \"\"\"Return the number of guide parameters there are.\"\"\"\n",
        "        num_mu_params = num_model_params\n",
        "        num_L_params = num_model_params*(num_model_params + 1)//2\n",
        "        return num_mu_params + num_L_params\n",
        "\n",
        "# Test\n",
        "_q_test = FullRankGaussianGuide(guide_params=jnp.arange(14, dtype=float), num_model_params=4)\n",
        "assert jnp.all(jnp.isclose(_q_test.guide_params, FullRankGaussianGuide.from_mean_covariance(_q_test.mu, _q_test.Sigma).guide_params))"
      ],
      "metadata": {
        "id": "26SJMbgDWug7"
      },
      "execution_count": null,
      "outputs": []
    },
    {
      "cell_type": "code",
      "source": [
        "# Set the initial guide to a standard Gaussian\n",
        "q_init = MeanFieldGaussianGuide.from_mean_covariance(mu=jnp.zeros(4), Sigma=jnp.array([1,1,1,1]))"
      ],
      "metadata": {
        "id": "qMOcGe4EXzsz"
      },
      "execution_count": null,
      "outputs": []
    },
    {
      "cell_type": "code",
      "source": [
        "# Minimizing the negative ELBO is equivalent to maximizing the ELBO.\n",
        "def neg_elbo(guide_params, epsilon, model_kwargs, num_model_params):\n",
        "    \"\"\"The integrand of the negative reparameterized ELBO, f(g_phi(xi)).\n",
        "\n",
        "    Parameters\n",
        "    ----------\n",
        "    guide_params : jnp.ndarray\n",
        "        The guide parameters. (Denoted as ϕ in the notes.)\n",
        "    epsilon : jnp.ndarray\n",
        "        The standard Gaussian sample to be transformed to a guide sample.\n",
        "    model_kwargs : dict\n",
        "        The keyword arguments for the model.\n",
        "    num_model_params : int\n",
        "        The number of model parameters. (The dimension of x in the notes.)\n",
        "\n",
        "    Returns the negative ELBO.\n",
        "    \"\"\"\n",
        "    q = MeanFieldGaussianGuide(guide_params=guide_params, num_model_params=num_model_params)\n",
        "    x = q.forward(epsilon)\n",
        "    return -log_posterior_numpyro(x) + q.logprob(x)"
      ],
      "metadata": {
        "id": "LHuhlLDLX4ma"
      },
      "execution_count": null,
      "outputs": []
    },
    {
      "cell_type": "code",
      "source": [
        "# Setup\n",
        "optim = optax.apply_if_finite(optax.adam(5e-2), 10)\n",
        "step_frozen_args = jit(partial(step, optim=optim, batch_size=5, model_kwargs=model_kwargs, num_model_params=4))\n",
        "key, subkey = jr.split(key)\n",
        "vi_state = (q_init.guide_params, optim.init(q_init.guide_params), subkey)\n",
        "neg_elbo_vals = []\n",
        "print_every = 100\n",
        "num_iter = 3000\n",
        "\n",
        "# Run variational inference loop\n",
        "for i in range(num_iter):\n",
        "    vi_state, neg_elbo_val = step_frozen_args(vi_state, None)\n",
        "    neg_elbo_vals.append(neg_elbo_val)\n",
        "    if (i + 1) % print_every == 0:\n",
        "        print(f\"Iteration {(i + 1):4d}/{num_iter:4d} \\t ELBO: {jnp.mean(jnp.array(neg_elbo_vals[-print_every:])):.2f}\")\n",
        "\n",
        "# Extract optimized guide parameters and ELBO values\n",
        "phi_opt, _, _ = vi_state\n",
        "neg_elbo_vals = jnp.array(neg_elbo_vals)"
      ],
      "metadata": {
        "id": "FpKs4z2FYNP2"
      },
      "execution_count": null,
      "outputs": []
    },
    {
      "cell_type": "code",
      "source": [
        "q = MeanFieldGaussianGuide(guide_params=phi_opt, num_model_params=4)\n",
        "samples_q = q.sample(key, num_samples=5000)  # (num_samples, num_model_params)"
      ],
      "metadata": {
        "id": "sGvVDtIGYWM7"
      },
      "execution_count": null,
      "outputs": []
    }
  ],
  "metadata": {
    "kernelspec": {
      "display_name": "Python 3 (ipykernel)",
      "language": "python",
      "name": "python3"
    },
    "language_info": {
      "codemirror_mode": {
        "name": "ipython",
        "version": 3
      },
      "file_extension": ".py",
      "mimetype": "text/x-python",
      "name": "python",
      "nbconvert_exporter": "python",
      "pygments_lexer": "ipython3",
      "version": "3.11.11"
    },
    "colab": {
      "provenance": []
    }
  },
  "nbformat": 4,
  "nbformat_minor": 0
}