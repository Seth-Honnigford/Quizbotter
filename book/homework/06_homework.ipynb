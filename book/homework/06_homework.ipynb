{
  "cells": [
    {
      "cell_type": "code",
      "execution_count": 1,
      "metadata": {
        "tags": [
          "hide-input",
          "hide-output"
        ],
        "id": "2GF1hDon_rbG"
      },
      "outputs": [],
      "source": [
        "import matplotlib.pyplot as plt\n",
        "%matplotlib inline\n",
        "import matplotlib_inline\n",
        "matplotlib_inline.backend_inline.set_matplotlib_formats('png')\n",
        "import seaborn as sns\n",
        "sns.set_context(\"paper\")\n",
        "sns.set_style(\"ticks\");"
      ]
    },
    {
      "cell_type": "markdown",
      "metadata": {
        "id": "yz_-ptmI_rbI"
      },
      "source": [
        "# Homework 6\n",
        "\n",
        "## References\n",
        "\n",
        "+ Module 5: Inverse problems in deterministic scientifc models\n",
        "   - Inverse problems basics\n",
        "   - Sampling from posteriors\n",
        "   - Variational inference\n",
        "   - Deterministic, finite-dimensional dynamical systems\n",
        "   <!-- - PDE-constrained inverse problems -->\n",
        "   <!-- - Purely data-driven learning of dynamical systems -->\n",
        "\n",
        "## Instructions\n",
        "\n",
        "+ Type your name and email in the \"Student details\" section below.\n",
        "+ Develop the code and generate the figures you need to solve the problems using this notebook.\n",
        "+ For the answers that require a mathematical proof or derivation you should type them using latex. If you have never written latex before and you find it exceedingly difficult, we will likely accept handwritten solutions.\n",
        "+ The total homework points are 100. Please note that the problems are not weighed equally.\n",
        "\n",
        "## Student details\n",
        "\n",
        "+ **First Name:** Seth\n",
        "+ **Last Name:** Honnigford\n",
        "+ **Email:** shonnigf@purdue.edu\n",
        "+ **Used generative AI to complete this assignment (Yes/No):** Yes\n",
        "+ **Which generative AI tool did you use (if applicable)?:** Colab AI"
      ]
    },
    {
      "cell_type": "markdown",
      "metadata": {
        "id": "Yxro104Z_rbJ"
      },
      "source": [
        "# Problem 1 - Why does the Metropolis algorithm work\n",
        "\n",
        "The objective of this problem is to understand why the Metropolis algorithm works.\n",
        "\n",
        "Consider a Markov chain $x_n$ with transition probabilities $p(x_{n+1}|x_n)$ and a probability density $\\pi(x)$.\n",
        "We say that $x_n$ has stationary distribution $\\pi$ if:\n",
        "\n",
        "$$\n",
        "\\pi(x_{n+1}) = \\int p(x_{n+1}|x_n)\\pi(x_n)dx_n.\n",
        "$$\n",
        "\n",
        "Intuitively, we can think of the equation above as follows.\n",
        "If we, somehow, sample $x_n$ from $\\pi$ and then sample $x_{n+1}$ from the transition probability $p(x_{n+1}|x_n)$, then $x_{n+1}$ is also a sample from $\\pi(x)$.\n",
        "It is like once we have a sample $\\pi$ sampling the Markov chain keeps giving us samples from $\\pi$.\n",
        "\n",
        "We say that the Markov chain $x_n$ is *reversible* with respect to $\\pi$ (equivalently, satisfies the *detailed balance* condition) with respect to $\\pi$, if:\n",
        "\n",
        "$$\n",
        "p(x_{n+1}|x_n)\\pi(x_n) = p(x_n|x_{n+1})\\pi(x_{n+1}).\n",
        "$$\n",
        "\n",
        "Intuitively, this condition means that going from sampling $x_{n}$ from $\\pi$ and transition to $x_{n+1}$ has the same probability as doing the inverse."
      ]
    },
    {
      "cell_type": "markdown",
      "metadata": {
        "id": "6OgkJg1W_rbK"
      },
      "source": [
        "## Part A - Prove that detailed balance implies stationarity\n",
        "\n",
        "Suppose that the Markov chain $x_n$ satisfies the detailed balance condition with respect to $\\pi$. Prove that $\\pi$ is a stationary distribution of the Markov chain.\n",
        "\n",
        "**Answer:**"
      ]
    },
    {
      "cell_type": "markdown",
      "metadata": {
        "id": "TldPwKsa_rbK"
      },
      "source": [
        "We start with the detailed balance condition:\n",
        "\n",
        "$$\n",
        "p(x_{n+1}|x_n)\\pi(x_n)=p(x_n|x_{n+1})\\pi(x_{n+1})\n",
        "$$\n",
        "\n",
        "We then integrate both sides:\n",
        "\n",
        "$$\n",
        "\\int p(x_{n+1}|x_n)\\pi(x_n)dx_n=\\int p(x_n|x_{n+1})\\pi(x_{n+1})dx_n\n",
        "$$\n",
        "\n",
        "Since $\\pi(x_{n+1})$ is constant with respect to $dx_n$:\n",
        "\n",
        "$$\n",
        "\\int p(x_{n+1}|x_n)\\pi(x_n)dx_n=\\pi(x_{n+1})\\int p(x_n|x_{n+1})dx_n\n",
        "$$\n",
        "\n",
        "Probability density functions always integrate to 1, which implies:\n",
        "\n",
        "$$\n",
        "\\int p(x_{n+1}|x_n)\\pi(x_n)dx_n=\\pi(x_{n+1}) \\cdot (1)\n",
        "$$\n",
        "\n",
        "This can be rearranged to:\n",
        "\n",
        "$$\n",
        "\\pi(x_{n+1}) = \\int p(x_{n+1}|x_n)\\pi(x_n)dx_n\n",
        "$$\n",
        "\n",
        "Which shows that $x_n$ has a stationary distribution."
      ]
    },
    {
      "cell_type": "markdown",
      "metadata": {
        "id": "MK2Cui1O_rbK"
      },
      "source": [
        "## Part B - The Metropolis-Hastings transition kernel\n",
        "\n",
        "Let $\\pi(x)$ be the target distribution.\n",
        "Let $q(\\tilde{x}_{n+1}|x_n)$ be a proposal distribution of the Metropolis-Hastings algorithm.\n",
        "\n",
        "The Metropolis-Hastings algorithm results in a Markov chain $x_n$ defined as follows:\n",
        "\n",
        "+ Sample $\\tilde{x}_{n+1} \\sim q(\\tilde{x}_{n+1}|x_n)$\n",
        "+ Accept $\\tilde{x}_{n+1}$ and set $x_{n+1} = \\tilde{x}_{n+1}$ with probability $\\alpha(x_n, \\tilde{x}_{n+1})$\n",
        "+ Reject $\\tilde{x}_{n+1}$ and set $x_{n+1} = x_n$ with probability $1-\\alpha(x_n, \\tilde{x}_{n+1}),$\n",
        "\n",
        "\n",
        "where\n",
        "\n",
        "$$\n",
        "\\alpha(x_n, \\tilde{x}_{n+1}) = \\min\\left(1, \\frac{\\pi(\\tilde{x}_{n+1})q(x_n|\\tilde{x}_{n+1})}{\\pi(x_n)q(\\tilde{x}_{n+1}|x_n)}\\right).\n",
        "$$\n",
        "\n",
        "The purpose of this problem is to show that the transition kernel of the resulting Markov chain satisfies the detailed balance condition with respect to $\\pi$, and thus $\\pi$ is its stationary distribution.\n",
        "\n",
        "### B.I - Derive the transition kernel of the Metropolis algorithm\n",
        "\n",
        "Show that the transition kernel of the Metropolis algorithm is:\n",
        "\n",
        "$$\n",
        "p(x_{n+1}|x_n) = \\alpha(x_n, x_{n+1})q(x_{n+1}|x_n) +\n",
        "\\delta(x_{n+1} - x_n)\\int (1 - \\alpha(x_n, \\tilde{x}_{n+1}))q(\\tilde{x}_{n+1}|x_n)d\\tilde{x}_{n+1},\n",
        "$$\n",
        "\n",
        "where $\\delta$ is the Dirac delta function.\n",
        "\n",
        "Hints:\n",
        "\n",
        "+ Introduce an intermediate variable $i$ that takes the value $1$ if the proposed move is accepted and $0$ otherwise. That is:\n",
        "\n",
        "$$\n",
        "i | x_n, \\tilde{x}_{n+1} \\sim \\begin{cases}\n",
        "    1 & \\text{with probability } \\alpha(x_n, \\tilde{x}_{n+1}) \\\\\n",
        "    0 & \\text{with probability } 1 - \\alpha(x_n, \\tilde{x}_{n+1}).\n",
        "\\end{cases}\n",
        "$$\n",
        "\n",
        "+ Write the joint distribution $p(x_{n+1}| i, x_n, \\tilde{x}_{n+1})$ in terms of $i$ and $\\tilde{x}_{n+1}$:\n",
        "\n",
        "$$\n",
        "p(x_{n+1}| i, x_n, \\tilde{x}_{n+1}) = [\\delta(x_{n+1} - \\tilde{x}_{n+1})]^i [\\delta(x_{n+1} - x_n)]^{1-i}.\n",
        "$$\n",
        "\n",
        "+ Use the sum rule to express $p(x_{n+1}|x_n)$ in terms of $i$ and $\\tilde{x}_{n+1}$:\n",
        "\n",
        "$$\n",
        "p(x_{n+1}|x_n) = \\int \\sum_i p(x_{n+1}| i, x_n, \\tilde{x}_{n+1}) p(i | x_n, \\tilde{x}_{n+1}) q(\\tilde{x}_{n+1}|x_n) d\\tilde{x}_{n+1}.\n",
        "$$\n",
        "\n",
        "+ Use the definition of the Dirac delta function to simplify the expression.\n",
        "\n"
      ]
    },
    {
      "cell_type": "markdown",
      "source": [
        "**Answer:**\n",
        "\n",
        "We start by defining $i$ as:\n",
        "\n",
        "$$\n",
        "i|x_n,\\tilde x_{n+1}\\sim\\begin{cases}\n",
        "    1 & \\text{with probability } \\alpha(x_n, \\tilde{x}_{n+1}) \\\\\n",
        "    0 & \\text{with probability } 1 - \\alpha(x_n, \\tilde{x}_{n+1}).\n",
        "\\end{cases}\n",
        "$$\n",
        "\n",
        "We can express the joint distribution as:\n",
        "\n",
        "$$\n",
        "p(x_{n+1}| i, x_n, \\tilde{x}_{n+1}) = [\\delta(x_{n+1} - \\tilde{x}_{n+1})]^i [\\delta(x_{n+1} - x_n)]^{1-i}\n",
        "$$\n",
        "\n",
        "Substituting with definitions we get:\n",
        "\n",
        "$$\n",
        "p(x_{n+1}|x_n)=\\int\\sum_i [\\delta(x_{n+1})-\\tilde x_{n+1})]^i[\\delta(x_{n+1})-x_n)]^{(1-i)}p(i|x_n,\\tilde x_{n+1})q(\\tilde x_{n+1}|x_n)d\\tilde x_{n+1}\n",
        "$$\n",
        "\n",
        "By using the properties of the Dirac delta function and combining the terms for acceptance and rejection:\n",
        "\n",
        "$$\n",
        "p(x_{n+1}|x_n)=\\alpha(x_n, x_{n+1})q(x_{n+1}|x_n)+\\delta(x_{n+1}-x_n)\\int(1-\\alpha(x_n, \\tilde x_{n+1}))q(\\tilde x_{n+1}|x_n) d\\tilde x_{n+1}\n",
        "$$"
      ],
      "metadata": {
        "id": "3t-6jBH4L55U"
      }
    },
    {
      "cell_type": "markdown",
      "metadata": {
        "id": "TGwo4qaz_rbL"
      },
      "source": [
        "### B.II - Show that the transition kernel satisfies the detailed balance condition\n",
        "\n",
        "Show that the transition kernel of the Metropolis algorithm satisfies the detailed balance condition with respect to $\\pi$, and thus $\\pi$ is its stationary distribution.\n",
        "Mathematically, you need to show that:\n",
        "\n",
        "$$\n",
        "p(x_{n+1}|x_n) \\pi(x_n) = p(x_n|x_{n+1}) \\pi(x_{n+1}).\n",
        "$$\n",
        "\n",
        "Hints:\n",
        "\n",
        "+ First prove that $a(x_n, x_{n+1})q(x_{n+1}|x_n)\\pi(x_n) = a(x_{n+1}, x_n)q(x_n|x_{n+1})\\pi(x_{n+1})$.\n",
        "+ Then, reuse the result above the symmetry of the Dirac delta function.\n",
        "\n"
      ]
    },
    {
      "cell_type": "markdown",
      "source": [
        "\n",
        "**Answer:**\n",
        "\n",
        "Recall that the acceptance probability $\\alpha$ is defined as:\n",
        "\n",
        "$$\n",
        "\\alpha(x_n,x_{n+1})=min(1,\\pi(x_{n+1})q(x_n|x_{n+1})\\pi(x_n)q(x_{n+1}|x_n))\n",
        "$$\n",
        "\n",
        "There are two cases that we need to consider:\n",
        "\n",
        "Case 1:\n",
        "\n",
        "$$\n",
        "\\pi(x_{n+1})q(x_n|x_{n+1})\\pi(x_n)q(x_{n+1}|x_n)\\geq1\n",
        "$$\n",
        "\n",
        "In this case, $\\alpha(x_n,x_{n+1})=1$ and $\\alpha(x_{n+1},x_n)=\\pi(x_n)q(x_{n+1}|x_n)\\pi(x_{n_1})q(x_n|x_{n+1})$\n",
        "\n",
        "Substituting these values into the equation:\n",
        "\n",
        "$$\n",
        "q(x_{n+1}|x_n)\\pi(x_n)=\\pi(x_n)q(x_{n+1}|x_n)\\pi(x_{n+1})q(x_n|x_{n+1})q(x_n|x_{n+1})\\pi(x_{n+1})\n",
        "$$\n",
        "\n",
        "Which simplifies to:\n",
        "\n",
        "$$\n",
        "q(x_{n+1}|x_n)\\pi(x_n)=q(x_{n+1}|x_n)\\pi(x_n)\n",
        "$$\n",
        "\n",
        "Case 2:\n",
        "\n",
        "$$\n",
        "\\pi(x_{n_1})q(x_n|x_{n+1})\\pi(x_n)q(x_{n+1}|x_n)\\lt 1\n",
        "$$\n",
        "\n",
        "In this case, $\\alpha(x_n,x_{n+1})=\\pi(x_{n+1})q(x_n|x_{n+1})\\pi(x_n)q(x_{n+1}|x_n)$ and $\\alpha(x_{n+1},x_n)=1$\n",
        "\n",
        "Substituting these values:\n",
        "\n",
        "$$\n",
        "\\pi(x_{n+1})q(x_n|x_{n+1})\\pi(x_n)q(x_{n+1}|x_n)q(x_{n+1}|x_n)\\pi(x_n)=q(x_n|x_{n+1})\\pi(x_{n+1})\n",
        "$$\n",
        "\n",
        "Which simplifies to:\n",
        "\n",
        "$$\n",
        "q(x_n|x_{n+1})\\pi(x_{n+1})=q(x_n|x_{n+1})\\pi(x_{n+1})\n",
        "$$\n",
        "\n",
        "We have now shown that:\n",
        "\n",
        "$$\n",
        "\\alpha(x_n,x_{n+1})q(x_{n+1}|x_n)\\pi(x_n)=\\alpha(x_{n+1},x_n)q(x_n|x_{n+1})\\pi(x_{n+1})\n",
        "$$\n",
        "\n",
        "in both cases.\n",
        "\n",
        "Recall that the transition kernel of the Metropolis algorithm is:\n",
        "\n",
        "$$\n",
        "𝑝(𝑥_{𝑛+1}|𝑥_𝑛)=𝛼(𝑥_𝑛,𝑥_{𝑛+1})𝑞(𝑥_{𝑛+1}|𝑥_𝑛)+𝛿(𝑥_{𝑛+1}−𝑥_𝑛)∫(1−𝛼(𝑥_𝑛,𝑥̃_{𝑛+1}))𝑞(𝑥̃_{𝑛+1}|𝑥_𝑛)𝑑𝑥̃_{𝑛+1}\n",
        "$$\n",
        "\n",
        "We want to show that:\n",
        "\n",
        "$$\n",
        "𝑝(𝑥_{𝑛+1}|𝑥_𝑛)𝜋(𝑥_𝑛)=𝑝(𝑥_𝑛|𝑥_{𝑛+1})𝜋(𝑥_{𝑛+1})\n",
        "$$\n",
        "\n",
        "Substituting the transition kernel into the equation, we get:\n",
        "\n",
        "$$\n",
        "[𝛼(𝑥_𝑛,𝑥_{𝑛+1})𝑞(𝑥_{𝑛+1}|𝑥_𝑛)+𝛿(𝑥_{𝑛+1}−𝑥_𝑛)∫(1−𝛼(𝑥_𝑛,𝑥̃_{𝑛+1}))𝑞(𝑥̃_{𝑛+1}|𝑥_𝑛)𝑑𝑥̃_{𝑛+1}]𝜋(𝑥_𝑛)=[𝛼(𝑥_{𝑛+1},𝑥_𝑛)𝑞(𝑥_𝑛|𝑥_{𝑛+1})+𝛿(𝑥_𝑛−𝑥_{𝑛+1})∫(1−𝛼(𝑥_{𝑛+1},𝑥̃_{𝑛+1}))𝑞(𝑥̃_{𝑛+1}|𝑥_{𝑛+1})𝑑𝑥̃_{𝑛+1}]𝜋(𝑥_{𝑛+1})\n",
        "$$\n",
        "\n",
        "Using the results from proving both cases in conjunction with the symmetry of the Dirac function we can simplify to:\n",
        "\n",
        "$$\n",
        "𝛿(𝑥_{𝑛+1}−𝑥_𝑛)∫(1−𝛼(𝑥_𝑛,𝑥̃_{𝑛+1}))𝑞(𝑥̃_{𝑛+1}|𝑥_𝑛)𝑑𝑥̃_{𝑛+1}𝜋(𝑥_𝑛)=𝛿(𝑥_𝑛−𝑥_{𝑛+1})∫(1−𝛼(𝑥_{𝑛+1},𝑥̃_{𝑛+1}))𝑞(𝑥̃_{𝑛+1}|𝑥_{𝑛+1})𝑑𝑥̃_{𝑛+1}𝜋(𝑥_{𝑛+1})\n",
        "$$"
      ],
      "metadata": {
        "id": "r8xRdctya0pI"
      }
    },
    {
      "cell_type": "markdown",
      "metadata": {
        "id": "NC4BVMRQ_rbL"
      },
      "source": [
        "# Problem 2 - Mathematics of Variational Inference\n",
        "\n",
        "## Part A - Parameterization of a covariance matrix\n",
        "\n",
        "The purpose is to show that the commonly used rank-$k$ parameterization of the covariance matrix is indeed positive definite.\n",
        "\n",
        "Let $k$ be a positive integer, and $\\lambda_1, \\dots, \\lambda_k$ be real numbers.\n",
        "Let $d$ be another positive integer (the dimension of the covariance matrix) with $d \\geq k$.\n",
        "Let $u_1, \\dots, u_k$ be $d$-dimensional vectors, not necessarily orthogonal, but linearly independent.\n",
        "\n",
        "Consider the following matrix:\n",
        "\n",
        "$$\n",
        "\\Sigma = \\sum_{i=1}^k e^{\\lambda_i} u_i u_i^\\top.\n",
        "$$\n",
        "\n",
        "### A.I - Show that $\\Sigma$ is positive semi-definite.\n",
        "\n",
        "Hint: You need to show that for any non-zero vector $x \\in \\mathbb{R}^d$, the quadratic form $x^\\top \\Sigma x \\geq 0$.\n",
        "\n",
        "\n"
      ]
    },
    {
      "cell_type": "markdown",
      "source": [
        "**Answer:**\n",
        "\n",
        "We start with the quadratic form:\n",
        "\n",
        "$$\n",
        "𝑥^T\\sum x = x^T (\\sum_{i=1}^k e^{λ_i} u_i u_i^T) 𝑥\n",
        "$$\n",
        "\n",
        "Distributing the transpose and using properties of matrix multiplication:\n",
        "\n",
        "$$\n",
        "x^T\\sum x = \\sum_{i=1}^k e^{\\lambda_i}(x^T u_i)(u_i^Tx)\n",
        "$$\n",
        "\n",
        "$x^Tu_i=u_i^Tx$ since both are scalars:\n",
        "\n",
        "$$\n",
        "x^T\\sum x = \\sum_{i=1}^k e^{\\lambda_i}(x^Tu_i)^2\n",
        "$$\n",
        "\n",
        "Since the exponential function is always positive, and $(x^Tu_i)^2$ is non-negative, then the quadratic form must be non-negative."
      ],
      "metadata": {
        "id": "LaNs2Bz2nmcx"
      }
    },
    {
      "cell_type": "markdown",
      "metadata": {
        "id": "v7-ocf0O_rbM"
      },
      "source": [
        "### A.II - Numerical exploration of a rank-$k$ covariance matrix\n",
        "\n",
        "Set $d=100$ and $k=10$.\n",
        "Randomly generate $u_1, \\dots, u_k$ from the standard normal distribution.\n",
        "Randomly generate $\\lambda_1, \\dots, \\lambda_k$ from the standard normal distribution.\n",
        "Write Jax code (without a loop) to form the matrix $\\Sigma$ as defined above.\n",
        "Generate a random $\\Sigma$ and plot the eigenvalues.\n",
        "Are they all non-negative?\n",
        "What is the determinant of $\\Sigma$?\n"
      ]
    },
    {
      "cell_type": "code",
      "execution_count": 6,
      "metadata": {
        "id": "gos6qReD_rbM",
        "outputId": "80f6796b-dc2f-4e39-cd94-e59eb63cbe53",
        "colab": {
          "base_uri": "https://localhost:8080/",
          "height": 530
        }
      },
      "outputs": [
        {
          "output_type": "stream",
          "name": "stderr",
          "text": [
            "/usr/local/lib/python3.11/dist-packages/matplotlib/cbook.py:1709: ComplexWarning: Casting complex values to real discards the imaginary part\n",
            "  return math.isfinite(val)\n",
            "/usr/local/lib/python3.11/dist-packages/pandas/core/dtypes/astype.py:133: ComplexWarning: Casting complex values to real discards the imaginary part\n",
            "  return arr.astype(dtype, copy=True)\n"
          ]
        },
        {
          "output_type": "display_data",
          "data": {
            "text/plain": [
              "<Figure size 600x400 with 1 Axes>"
            ],
            "image/png": "[encoded data removed]"
          },
          "metadata": {}
        },
        {
          "output_type": "stream",
          "name": "stdout",
          "text": [
            "All eigenvalues are non-negative: False\n",
            "Determinant of Sigma: -0.0\n"
          ]
        }
      ],
      "source": [
        "# as many code blocks and markdown blocks as you want\n",
        "import jax\n",
        "import jax.numpy as jnp\n",
        "import matplotlib.pyplot as plt\n",
        "import seaborn as sns\n",
        "\n",
        "d = 100\n",
        "k = 10\n",
        "\n",
        "key = jax.random.PRNGKey(0)\n",
        "u = jax.random.normal(key, shape=(k, d))\n",
        "lambdas = jax.random.normal(key, shape=(k,))\n",
        "\n",
        "Sigma = jnp.sum(jnp.exp(lambdas)[:, None, None] * u[:, :, None] * u[:, None, :], axis=0)\n",
        "\n",
        "eigenvalues = jnp.linalg.eigvals(Sigma)\n",
        "\n",
        "#plot\n",
        "plt.figure(figsize=(6, 4))\n",
        "sns.histplot(eigenvalues, bins=50, kde=True)\n",
        "plt.xlabel(\"Eigenvalues\")\n",
        "plt.ylabel(\"Frequency\")\n",
        "plt.title(\"Distribution of Eigenvalues of Rank-k Covariance Matrix\")\n",
        "plt.show()\n",
        "\n",
        "negative = jnp.all(eigenvalues >= 0)\n",
        "print(f\"All eigenvalues are non-negative: {negative}\")\n",
        "\n",
        "determinant = jnp.linalg.det(Sigma)\n",
        "print(f\"Determinant of Sigma: {determinant}\")"
      ]
    },
    {
      "cell_type": "markdown",
      "metadata": {
        "id": "8ySvJeph_rbM"
      },
      "source": [
        "### A.III - Low-rank approximation that is actually positive definite\n",
        "\n",
        "In the previous part, we saw that the rank-$k$ approximation is not positive definite.\n",
        "To fix it, we typically use this parameterization instead:\n",
        "\n",
        "$$\n",
        "\\Sigma = \\sum_{i=1}^k \\lambda_i u_i u_i^\\top + \\text{diag}(e^{\\theta_1}, \\dots, e^{\\theta_d}),\n",
        "$$\n",
        "\n",
        "where $\\theta_1, \\dots, \\theta_d$ are real numbers.\n",
        "\n",
        "Modify your Jax code and generate a random $\\Sigma$ using this parameterization.\n",
        "Plot the eigenvalues.\n",
        "Are they all non-negative?\n",
        "What is the determinant of $\\Sigma$?"
      ]
    },
    {
      "cell_type": "code",
      "execution_count": 7,
      "metadata": {
        "id": "g4lFSeBg_rbM",
        "outputId": "7db453c5-cd8d-4937-edff-f5dd7c907df2",
        "colab": {
          "base_uri": "https://localhost:8080/",
          "height": 530
        }
      },
      "outputs": [
        {
          "output_type": "stream",
          "name": "stderr",
          "text": [
            "/usr/local/lib/python3.11/dist-packages/matplotlib/cbook.py:1709: ComplexWarning: Casting complex values to real discards the imaginary part\n",
            "  return math.isfinite(val)\n",
            "/usr/local/lib/python3.11/dist-packages/pandas/core/dtypes/astype.py:133: ComplexWarning: Casting complex values to real discards the imaginary part\n",
            "  return arr.astype(dtype, copy=True)\n"
          ]
        },
        {
          "output_type": "display_data",
          "data": {
            "text/plain": [
              "<Figure size 600x400 with 1 Axes>"
            ],
            "image/png": "[encoded data removed]"
          },
          "metadata": {}
        },
        {
          "output_type": "stream",
          "name": "stdout",
          "text": [
            "All eigenvalues are non-negative: False\n",
            "Determinant of Sigma: -1.0325547881580338e+23\n"
          ]
        }
      ],
      "source": [
        "# as many code blocks and markdown blocks as you want\n",
        "import jax\n",
        "import jax.numpy as jnp\n",
        "import matplotlib.pyplot as plt\n",
        "import seaborn as sns\n",
        "\n",
        "d = 100\n",
        "k = 10\n",
        "\n",
        "key = jax.random.PRNGKey(0)\n",
        "u = jax.random.normal(key, shape=(k, d))\n",
        "lambdas = jax.random.normal(key, shape=(k,))\n",
        "thetas = jax.random.normal(key, shape=(d,))\n",
        "\n",
        "Sigma = jnp.sum(lambdas[:, None, None] * u[:, :, None] * u[:, None, :], axis=0) + jnp.diag(jnp.exp(thetas))\n",
        "\n",
        "eigenvalues = jnp.linalg.eigvals(Sigma)\n",
        "\n",
        "#plot\n",
        "plt.figure(figsize=(6, 4))\n",
        "sns.histplot(eigenvalues, bins=50, kde=True)\n",
        "plt.xlabel(\"Eigenvalues\")\n",
        "plt.ylabel(\"Frequency\")\n",
        "plt.title(\"Distribution of Eigenvalues of Modified Rank-k Covariance Matrix\")\n",
        "plt.show()\n",
        "\n",
        "negative = jnp.all(eigenvalues >= 0)\n",
        "print(f\"All eigenvalues are non-negative: {negative}\")\n",
        "\n",
        "determinant = jnp.linalg.det(Sigma)\n",
        "print(f\"Determinant of Sigma: {determinant}\")"
      ]
    },
    {
      "cell_type": "markdown",
      "metadata": {
        "id": "wKEiWbq6_rbN"
      },
      "source": [
        "## Part B - Multi-point convexity\n",
        "\n",
        "Let $f:\\mathbb{R}^d \\to \\mathbb{R}$ be a convex function.\n",
        "Let $x_1, \\dots, x_n \\in \\mathbb{R}^d$ be $n$ points.\n",
        "Let $w_1, \\dots, w_n \\in \\mathbb{R}$ be $n$ weights.\n",
        "\n",
        "Show that:\n",
        "\n",
        "$$\n",
        "f\\left(\\sum_{i=1}^n w_i x_i\\right) \\leq \\sum_{i=1}^n w_i f(x_i).\n",
        "$$\n",
        "\n",
        "Hint: Use the definition of convexity and induction.\n"
      ]
    },
    {
      "cell_type": "markdown",
      "source": [
        "\n",
        "**Answer:**\n",
        "\n",
        "We will prove this by induction.\n",
        "\n",
        "Our base case is $n=2$.\n",
        "\n",
        "For any two points $x_1, x_2 \\in \\mathbb{R}^d$, $w\\in[0,1]$ and a convex function $f$:\n",
        "\n",
        "$$\n",
        "f(wx_1+(1-w)x_2)\\leq wf(x_1)+(1-w)f(x_2)\n",
        "$$\n",
        "\n",
        "We start by assuming that the theorem holds for $n=k$ points:\n",
        "\n",
        "$$\n",
        "f(\\sum_{i=1}^k w_ix_i)\\leq\\sum_{i=1}^kw_if(x_i)\n",
        "$$\n",
        "\n",
        "Now we show that the theorem holds for the $n=k+1$ case:\n",
        "\n",
        "Let $W=\\sum_{i=1}^kw_i$, then $w_{k+1}=1-W$.\n",
        "\n",
        "We can rewrite the sum as:\n",
        "\n",
        "$$\n",
        "\\sum_{i=1}^{k+1}w_ix_i = \\sum_{i=1}^kw_ix_i+w_{k+1}x_{k+1}=W(\\sum_{i=1}^k\\frac{w_i}{W}x_i)+(1-W)x_{k+1}\n",
        "$$\n",
        "\n",
        "Since $\\sum_{i=1}^k\\frac{w_i}{W}=1$, we have:\n",
        "\n",
        "$$\n",
        "f(\\sum_{i=1}^k\\frac{w_i}{W}x_i)\\leq\\sum_{i=1}^k\\frac{w_i}{W}f(x_i)\n",
        "$$\n",
        "\n",
        "Now applying convexivity to the original sum:\n",
        "\n",
        "$$\n",
        "f(\\sum_{i=1}^{k+1}w_ix_i)=f(W(\\sum_{i=1}^k\\frac{w_i}{W}x_i)+(1-W)x_{k+1})\\leq W(\\sum_{i=1}^k\\frac{w_i}{W}f(x_i))+(1-W)f(x_{k+1})=\\sum_{i=1}^{k+1}w_if(x_i)\n",
        "$$"
      ],
      "metadata": {
        "id": "hEiZfEfS09ol"
      }
    },
    {
      "cell_type": "markdown",
      "metadata": {
        "id": "OVCfhz8j_rbN"
      },
      "source": [
        "## Part C - Jensen's inequality\n",
        "\n",
        "Let $f:\\mathbb{R}^d \\to \\mathbb{R}$ be a convex function that is continuous.\n",
        "Let $X$ be a random variable with values in $\\mathbb{R}^d$.\n",
        "\n",
        "Show that:\n",
        "\n",
        "$$\n",
        "f(\\mathbb{E}[X]) \\leq \\mathbb{E}[f(X)].\n",
        "$$\n",
        "\n",
        "Hint: Use Part B and the law of large numbers.\n",
        "\n"
      ]
    },
    {
      "cell_type": "markdown",
      "source": [
        "\n",
        "**Answer:**\n",
        "\n",
        "We first consider the case where $X$ is a discrete random variable. The expected value of $X$ is:\n",
        "\n",
        "$$\n",
        "\\mathbb{E}[X]=\\sum_{i=1}^np_ix_i\n",
        "$$\n",
        "\n",
        "The expected value of $f(X)$ is:\n",
        "\n",
        "$$\n",
        "\\mathbb{E}[f(X)]=\\sum_{i=1}^np_if(x_i)\n",
        "$$\n",
        "\n",
        "Since $f$ is convex and $\\sum_{i=1}^np_i=1$ with $p_i\\geq 0$ we can use our solution in part B to obtain:\n",
        "\n",
        "$$\n",
        "f(\\mathbb{E}[X])=f(\\sum_{i=1}^n p_ix_i)\\leq\\sum_{i=1}^n p_if(x_i)=\\mathbb{E}[f(X)]\n",
        "$$\n",
        "\n",
        "Now we consider the case where X is a continuous random variable.\n",
        "\n",
        "By the continuity of f, we have:\n",
        "\n",
        "$$\n",
        "lim_{n\\rightarrow \\infty}f(\\mathbb{E}[X_n]) = f(\\mathbb{E}[X])\n",
        "$$\n",
        "\n",
        "and\n",
        "\n",
        "$$\n",
        "lim_{n\\rightarrow \\infty}\\mathbb{E}[f(X_n)]=\\mathbb{E}[f(X)]\n",
        "$$\n",
        "\n",
        "Since we proved Jensen's inequality for the discrete case:\n",
        "\n",
        "$$\n",
        "f(\\mathbb{E}[X_n])\\leq\\mathbb{E}[f(X_n)]\n",
        "$$\n",
        "\n",
        "and taking the limit as $n\\rightarrow\\infty$:\n",
        "\n",
        "$$\n",
        "f(\\mathbb{E}[X])\\leq\\mathbb{E}[f(X)]\n",
        "$$\n",
        "\n",
        "Which proves Jensen's inequality for the general case."
      ],
      "metadata": {
        "id": "d0ilgkTJ5cza"
      }
    },
    {
      "cell_type": "markdown",
      "metadata": {
        "id": "Ff_-FR4S_rbN"
      },
      "source": [
        "## Part D - Non-negativity of the KL divergence\n",
        "\n",
        "Let $p$ and $q$ be two probability distributions on $\\mathbb{R}^d$.\n",
        "Show that the KL divergence $D_{KL}(p\\|q)$ is always non-negative.\n",
        "\n",
        "Hint: Use the fact that $-\\log$ is a convex function and Jensen's inequality.\n"
      ]
    },
    {
      "cell_type": "markdown",
      "source": [
        "**Answer:**\n",
        "\n",
        "The KL divergence between two probability distributions p and q is defined as:\n",
        "\n",
        "$$\n",
        "DKL(p||q) = \\mathbb{E}_x\\sim p[log(\\frac{p(x)}{q(x)})]=\\int p(x)log(\\frac{p(x)}{q(x)}) dx\n",
        "$$\n",
        "\n",
        "We know that the function $-log$ is convex. Let $X$ be a random variable distributed according to p.\n",
        "\n",
        "We now apply Jensen's inequality which we proved to be true in part C:\n",
        "\n",
        "$$\n",
        "-log(\\mathbb{E}_x\\sim p[\\frac{q(x)}{p(x)}])\\leq\\mathbb{E}_x\\sim p[-log(\\frac{q(x)}{p(x)})]\n",
        "$$\n",
        "\n",
        "Rearranging the terms and using the definition of the expectation:\n",
        "\n",
        "$$\n",
        "-log(\\int p(x) (\\frac{q(x)}{p(x)})dx) \\leq -\\int p(x) log(\\frac{q(x)}{p(x)}) dx\n",
        "$$\n",
        "\n",
        "$$\n",
        "-log(\\int q(x) dx)\\leq\\int p(x) log(\\frac{p(x)}{q(x)})dx\n",
        "$$\n",
        "\n",
        "Since $q$ is a probability distribution, $\\int q(x) dx=1$.\n",
        "\n",
        "Therefore:\n",
        "\n",
        "$$\n",
        "-log(1)\\leq\\int p(x) log(\\frac{p(x)}{q(x)})dx \\Rightarrow 0 \\leq DKL(p||q)\n",
        "$$\n"
      ],
      "metadata": {
        "id": "lTrh9riq-2ra"
      }
    },
    {
      "cell_type": "markdown",
      "metadata": {
        "id": "mftABLFO_rbN"
      },
      "source": [
        "# Problem 3 - Calibrating a pharmacokinetic model\n",
        "\n",
        "A pharmacokinetic (PK) compartment model is a set of ordinary differential equations that describe drug transport in the body.\n",
        "Typically, the body is divided into separate \"compartments\" (e.g., blood, peripheral tissues) and the transfer of the drug between these compartments is assumed to follow first-order kinetics.\n",
        "Consider the following two-compartment model for an *intravenous (IV) bolus* administered drug:\n",
        "\n",
        "$$\n",
        "\\begin{align*}\n",
        "\\frac{dc_1}{dt} &= - k_{12} c_1 + k_{21} c_2\\\\\n",
        "\\frac{dc_2}{dt} &= k_{12} c_1 - (k_{21} + k_d) c_2 \\\\\n",
        "c_1(0) &= \\frac{m_\\text{dose}}{V} \\\\\n",
        "c_2(0) &= 0\n",
        "\\end{align*}\n",
        "$$\n",
        "\n",
        "where $c_1$ is the concentration of the drug in the *central compartment* (e.g., blood, kidney, liver),\n",
        "$c_2$ is the concentration in the *peripheral compartment* (e.g., muscle, fat),\n",
        "$k_i$ are the *rate constants*,\n",
        "$m_\\text{dose}$ is the mass of the drug administered,\n",
        "and $V$ is the *volume of distribution*.\n",
        "\n",
        "(In this context \"IV\" means the drug is injected directly into the bloodstream, and \"bolus\" means the drug is given all at once (instead of slowly administering it over minutes/hours).)\n",
        "\n",
        "<img src=\"https://raw.githubusercontent.com/PredictiveScienceLab/advanced-scientific-machine-learning/refs/heads/main/book/images/compartment_model.png\" alt=\"pk_model\" width=\"400\"/>\n",
        "\n",
        "Here is an analytic solver for the PK model:"
      ]
    },
    {
      "cell_type": "code",
      "execution_count": 2,
      "metadata": {
        "id": "U5WDUmg9_rbN"
      },
      "outputs": [],
      "source": [
        "from jax import tree, jit, vmap\n",
        "import jax.numpy as jnp\n",
        "from functools import partial\n",
        "\n",
        "@partial(vmap, in_axes=(None, 0, None))\n",
        "def solve_pk_iv_bolus(params, time, dosage_mass):\n",
        "    k12, k21, kd = params['k12'], params['k21'], params['kd']\n",
        "    lam1 = (-(k12 + k21 + kd) + jnp.sqrt((k12 + k21 + kd)**2 - 4*k12*kd))/2\n",
        "    lam2 = (-(k12 + k21 + kd) - jnp.sqrt((k12 + k21 + kd)**2 - 4*k12*kd))/2\n",
        "    A = (dosage_mass / params['V'])/(1 - (lam1 + k12)/(lam2 + k12))\n",
        "    B = -(lam1 + k12)/(lam2 + k12)*A\n",
        "    c1 = A*jnp.exp(lam1*time) + B*jnp.exp(lam2*time)\n",
        "    return c1"
      ]
    },
    {
      "cell_type": "markdown",
      "metadata": {
        "id": "5pYia330_rbN"
      },
      "source": [
        "It accepts a dictionary of parameters, the vector of times, and an initial condition:"
      ]
    },
    {
      "cell_type": "code",
      "execution_count": 3,
      "metadata": {
        "id": "l8e_8kMT_rbN",
        "outputId": "425c26b5-59c8-45c5-f049-3eb4a6387f49",
        "colab": {
          "base_uri": "https://localhost:8080/"
        }
      },
      "outputs": [
        {
          "output_type": "execute_result",
          "data": {
            "text/plain": [
              "Array([0.1       , 0.09511836, 0.09088126, 0.08714433, 0.08379877,\n",
              "       0.0807624 , 0.07797312, 0.0753839 , 0.07295899, 0.07067117,\n",
              "       0.06849961, 0.0664283 , 0.06444482, 0.06253953, 0.06070482,\n",
              "       0.05893465, 0.05722414, 0.05556932, 0.05396688, 0.05241407],      dtype=float32)"
            ]
          },
          "metadata": {},
          "execution_count": 3
        }
      ],
      "source": [
        "_params_test = {'k12': 0.1, 'k21': 0.2, 'kd': 0.3, 'V': 10.0}\n",
        "_times_test = jnp.linspace(0, 10, 20)\n",
        "_dosage_mass_test = 1.0\n",
        "\n",
        "_c1 = solve_pk_iv_bolus(_params_test, _times_test, _dosage_mass_test)\n",
        "_c1"
      ]
    },
    {
      "cell_type": "markdown",
      "metadata": {
        "id": "Kz4nncEb_rbO"
      },
      "source": [
        "Suppose a subject has received a dose of acetaminophen via IV bolus administration, and we have measured the drug concentration in the blood at discrete times.\n",
        "Let's import these data:"
      ]
    },
    {
      "cell_type": "code",
      "execution_count": 4,
      "metadata": {
        "id": "5BpMpHoV_rbO",
        "outputId": "f2cb4fcc-b320-4ec0-8c07-c543a0017b72",
        "colab": {
          "base_uri": "https://localhost:8080/"
        }
      },
      "outputs": [
        {
          "output_type": "stream",
          "name": "stdout",
          "text": [
            "  % Total    % Received % Xferd  Average Speed   Time    Time     Time  Current\n",
            "                                 Dload  Upload   Total   Spent    Left  Speed\n",
            "100   233  100   233    0     0    824      0 --:--:-- --:--:-- --:--:--   826\n"
          ]
        }
      ],
      "source": [
        "!curl -O 'https://raw.githubusercontent.com/PredictiveScienceLab/advanced-scientific-machine-learning/refs/heads/main/book/data/pk/iv_bolus_data_single_patient.json'\n",
        "\n",
        "import json\n",
        "import numpy as np\n",
        "\n",
        "with open('iv_bolus_data_single_patient.json', 'r') as f:\n",
        "    data = json.load(f)\n",
        "times = np.array(data['times'])\n",
        "concentrations = np.array(data['concentrations'])\n",
        "dosage_mass = data['dosage_mass']"
      ]
    },
    {
      "cell_type": "markdown",
      "metadata": {
        "id": "n2NExT08_rbO"
      },
      "source": [
        "Here are the observation times (in hours), $\\mathbf{t}=(t_1, \\dots, t_N)\\in\\mathbb{R}_+^N$:"
      ]
    },
    {
      "cell_type": "code",
      "execution_count": 5,
      "metadata": {
        "id": "UTXwc5iL_rbO",
        "outputId": "d1dde9e3-be2f-46a7-c718-52db57dbba6f",
        "colab": {
          "base_uri": "https://localhost:8080/"
        }
      },
      "outputs": [
        {
          "output_type": "execute_result",
          "data": {
            "text/plain": [
              "array([ 0.08333333,  0.25      ,  0.5       ,  0.75      ,  8.        ,\n",
              "       12.        ])"
            ]
          },
          "metadata": {},
          "execution_count": 5
        }
      ],
      "source": [
        "times"
      ]
    },
    {
      "cell_type": "markdown",
      "metadata": {
        "id": "S158dB15_rbO"
      },
      "source": [
        "Here are the observed concentrations at each time point (in gram/liter), $\\mathbf{y}=(y_1, \\dots, y_N) \\in \\mathbb{R}_+^N$:"
      ]
    },
    {
      "cell_type": "code",
      "execution_count": 6,
      "metadata": {
        "id": "xuikRuDN_rbO",
        "outputId": "fc9a01cd-6513-40de-c430-660213900be2",
        "colab": {
          "base_uri": "https://localhost:8080/"
        }
      },
      "outputs": [
        {
          "output_type": "execute_result",
          "data": {
            "text/plain": [
              "array([0.01260174, 0.00977533, 0.01046028, 0.00956269, 0.00213941,\n",
              "       0.00060719])"
            ]
          },
          "metadata": {},
          "execution_count": 6
        }
      ],
      "source": [
        "concentrations"
      ]
    },
    {
      "cell_type": "markdown",
      "metadata": {
        "id": "4qEtw1rl_rbO"
      },
      "source": [
        "And here is the dose (in grams), $m_\\text{dose}$:"
      ]
    },
    {
      "cell_type": "code",
      "execution_count": 7,
      "metadata": {
        "id": "nt2BYJ-0_rbO",
        "outputId": "8976d4af-28e2-47c5-805c-2ef1166777ac",
        "colab": {
          "base_uri": "https://localhost:8080/"
        }
      },
      "outputs": [
        {
          "output_type": "execute_result",
          "data": {
            "text/plain": [
              "0.65"
            ]
          },
          "metadata": {},
          "execution_count": 7
        }
      ],
      "source": [
        "dosage_mass"
      ]
    },
    {
      "cell_type": "markdown",
      "metadata": {
        "id": "gEd7j4X-_rbO"
      },
      "source": [
        "Let's plot the PK data:"
      ]
    },
    {
      "cell_type": "code",
      "execution_count": 8,
      "metadata": {
        "id": "-k73z-XQ_rbP",
        "outputId": "0be30a0b-fa76-4592-f5ca-68a188830508",
        "colab": {
          "base_uri": "https://localhost:8080/",
          "height": 388
        }
      },
      "outputs": [
        {
          "output_type": "display_data",
          "data": {
            "text/plain": [
              "<Figure size 600x400 with 1 Axes>"
            ],
            "image/png": "[encoded data removed]"
          },
          "metadata": {}
        }
      ],
      "source": [
        "fig, ax = plt.subplots(1, 1, figsize=(6, 4))\n",
        "ax.scatter(times, concentrations, label='Observed concentration', color='tab:blue')\n",
        "ax.set_xlabel('Time')\n",
        "ax.set_ylabel('Concentration')\n",
        "ax.legend()\n",
        "sns.despine()"
      ]
    },
    {
      "cell_type": "markdown",
      "metadata": {
        "id": "j2WQ1rBT_rbP"
      },
      "source": [
        "## Part A - Implement the (unnormalized) log posterior density\n",
        "\n",
        "Let $\\theta=(k_{12}, k_{21}, k_d, V) \\in \\mathbb{R}_+^4$ be the PK parameters, to which we'll assign weakly-informative priors\n",
        "\n",
        "$$\n",
        "\\begin{align*}\n",
        "k_{12} &\\sim \\text{Exp}(0.1)\\\\\n",
        "k_{21} &\\sim \\text{Exp}(0.1)\\\\\n",
        "k_d &\\sim \\text{Exp}(0.1)\\\\\n",
        "V &\\sim \\text{LogNormal}(4, 0.5).\n",
        "\\end{align*}\n",
        "$$\n",
        "\n",
        "Also, let $c_1(t; \\theta, m_\\text{dose}) \\in \\mathbb{R}_+^3$ be the concentration in the central (bloodstream) compartment at time $t$ for initial condition $x_0=(m_\\text{dose}, 0) \\in \\mathbb{R}_+^2$.\n",
        "\n",
        "Assume the observations are independent, identically distributed Gaussian random variables, i.e.,\n",
        "\n",
        "$$\n",
        "y_i|t_i, \\theta, \\sigma \\sim \\text{Normal}\\Big(\\underbrace{c_1(t_i; \\theta, x_0)}_\\text{ODE solver output}, \\sigma^2 I\\Big).\n",
        "$$\n",
        "\n",
        "Suppose you know, from previous studies, that the measurement uncertainty is $\\sigma=0.001$.\n",
        "The (unnormalized) log posterior density function is\n",
        "\n",
        "$$\n",
        "\\begin{align*}\n",
        "    \\underbrace{\\log p(\\theta|\\mathbf{t}, \\mathbf{y}, \\sigma)}_\\text{posterior}\n",
        "    &= \\underbrace{\\log p(\\theta)}_\\text{prior} + \\underbrace{\\log \\prod_{i=1}^N p(y_i | t_i, \\theta, \\sigma)}_\\text{likelihood} + \\underbrace{[\\text{constant terms w.r.t. } \\theta]}_\\text{normalizing contant (we can ignore)} \\\\\n",
        "    &\\propto \\log p(k_{12}) + \\log p(k_{21}) + \\log p(k_d) +\\log p(V) + \\sum_{i=1}^N \\log p(y_i | t_i, \\theta, \\sigma).\n",
        "\\end{align*}\n",
        "$$\n",
        "\n",
        "where we are defining $\\propto$ to mean \"equal up to a normalizing constant\".\n",
        "Now, it is easier to work with a set of \"unconstrained model parameters\" $\\xi$ that span all of $\\mathbb{R}^d$.\n",
        "To this end, define\n",
        "\n",
        "$$\n",
        "\\xi = \\log \\theta = (\\log k_{12}, \\log k_{21}, \\log k_d, \\log V) \\in \\mathbb{R}^4.\n",
        "$$\n",
        "\n",
        "**Your task is to implement the function that computes the (unnormalized) log posterior over $\\xi$**\n",
        "\n",
        "$$\n",
        "\\begin{align*}\n",
        "    \\log p(\\xi | \\mathbf{t}, \\mathbf{y}, \\sigma)\n",
        "    &= \\log p(\\theta | \\mathbf{t}, \\mathbf{y}, \\sigma) + \\log \\det \\left| \\frac{\\partial \\theta}{\\partial \\xi} \\right|\\\\\n",
        "    &= \\log p(\\theta | \\mathbf{t}, \\mathbf{y}, \\sigma) + \\log \\prod_{i=1}^d \\frac{\\partial \\theta_i}{\\partial \\xi_i} \\\\\n",
        "    &= \\log p(\\xi) + \\log p(\\mathbf{y} | \\mathbf{t}, \\xi, \\sigma) + \\sum_{i=1}^d \\xi_i + \\underbrace{\\text{constant terms}}_\\text{ignore these}.\n",
        "\\end{align*}\n",
        "$$\n",
        "\n",
        "We've started it for you&mdash;just fill in the missing pieces of the code below:"
      ]
    },
    {
      "cell_type": "code",
      "execution_count": 9,
      "metadata": {
        "id": "rYl-TrhQ_rbP"
      },
      "outputs": [],
      "source": [
        "import jax\n",
        "sigma = 0.001\n",
        "\n",
        "def constrain(params):\n",
        "    \"\"\"Constrain the parameters to be positive.\"\"\"\n",
        "    return {\n",
        "        'k12': jnp.exp(params['k12']),\n",
        "        'k21': jnp.exp(params['k21']),\n",
        "        'kd': jnp.exp(params['kd']),\n",
        "        'V': jnp.exp(params['V']),\n",
        "    }\n",
        "\n",
        "def unconstrain(params):\n",
        "    \"\"\"Unconstrain the parameters to be real numbers.\"\"\"\n",
        "    return {\n",
        "        'k12': jnp.log(params['k12']),\n",
        "        'k21': jnp.log(params['k21']),\n",
        "        'kd': jnp.log(params['kd']),\n",
        "        'V': jnp.log(params['V']),\n",
        "    }\n",
        "\n",
        "@jit\n",
        "def log_posterior(xi, times=times, concentrations=concentrations, dosage_mass=dosage_mass, sigma=sigma):\n",
        "    \"\"\"Log likelihood function for a single individual's PK data.\n",
        "\n",
        "    Parameters\n",
        "    ----------\n",
        "    xi: dict\n",
        "        Dictionary containing the unconstrained parameters of the model:\n",
        "        - k12: transfer rate from compartment 1 to compartment 2\n",
        "        - k21: transfer rate from compartment 2 to compartment 1\n",
        "        - kd: elimination rate from compartment 2\n",
        "        - V: volume of distribution\n",
        "    times: array\n",
        "        Time points at which to evaluate the solution.\n",
        "    concentrations: array\n",
        "        Observed concentrations at the specified time points.\n",
        "    dosage_mass: float\n",
        "        Mass of the dosage administered.\n",
        "    sigma: float\n",
        "        Standard deviation of the measurement noise.\n",
        "\n",
        "    Returns\n",
        "    -------\n",
        "    float\n",
        "        Log likelihood of the observed data given the model parameters.\n",
        "    \"\"\"\n",
        "    # Log PDF functions for standard distributions\n",
        "    normal_log_pdf = lambda x, mu, sigma: -0.5*jnp.log(2*jnp.pi) - jnp.log(sigma) - 0.5*((x - mu)/sigma)**2\n",
        "    lognormal_log_pdf = lambda x, mu, sigma: -0.5*jnp.log(2*jnp.pi) - jnp.log(sigma) - jnp.log(x) - 0.5*((jnp.log(x) - mu)/sigma)**2\n",
        "    exponential_log_pdf = lambda x, rate: jnp.log(rate) - rate*x\n",
        "\n",
        "    # Transform to constrained space\n",
        "    params = constrain(xi)\n",
        "\n",
        "    # Prior\n",
        "    k12_log_prior = exponential_log_pdf(params['k12'], 0.1)\n",
        "    k21_log_prior = exponential_log_pdf(params['k21'], 0.1)\n",
        "    kd_log_prior = exponential_log_pdf(params['kd'], 0.1)\n",
        "    V_log_prior = lognormal_log_pdf(params['V'], 4, 0.5)\n",
        "    log_prior = k12_log_prior + k21_log_prior + kd_log_prior + V_log_prior\n",
        "\n",
        "    # Likelihood\n",
        "    c1 = solve_pk_iv_bolus(params, times, dosage_mass)\n",
        "    log_likelihood = jnp.sum(jax.scipy.stats.norm.logpdf(concentrations, loc=c1, scale=sigma))\n",
        "\n",
        "    # Determinant of the Jacobian of the transformation\n",
        "    log_det_jac = xi['k12'] + xi['k21'] + xi['kd'] + xi['V']\n",
        "\n",
        "    return log_prior + log_likelihood + log_det_jac"
      ]
    },
    {
      "cell_type": "markdown",
      "metadata": {
        "id": "OIv9mbaz_rbP"
      },
      "source": [
        "Your implementation of $p(\\xi|\\mathbf{t}, \\mathbf{y}, \\sigma)$ above could also be done with a probabilistic programming framework.\n",
        "Here is how to do it with [Numpyro](https://num.pyro.ai/en/latest/index.html#):"
      ]
    },
    {
      "cell_type": "code",
      "source": [
        "!pip install numpyro"
      ],
      "metadata": {
        "id": "jL_SgGMQt9Jn",
        "outputId": "1b53144f-2584-46cc-a17c-92ea21a5be0b",
        "colab": {
          "base_uri": "https://localhost:8080/"
        }
      },
      "execution_count": 10,
      "outputs": [
        {
          "output_type": "stream",
          "name": "stdout",
          "text": [
            "Collecting numpyro\n",
            "  Downloading numpyro-0.18.0-py3-none-any.whl.metadata (37 kB)\n",
            "Requirement already satisfied: jax>=0.4.25 in /usr/local/lib/python3.11/dist-packages (from numpyro) (0.5.2)\n",
            "Requirement already satisfied: jaxlib>=0.4.25 in /usr/local/lib/python3.11/dist-packages (from numpyro) (0.5.1)\n",
            "Requirement already satisfied: multipledispatch in /usr/local/lib/python3.11/dist-packages (from numpyro) (1.0.0)\n",
            "Requirement already satisfied: numpy in /usr/local/lib/python3.11/dist-packages (from numpyro) (2.0.2)\n",
            "Requirement already satisfied: tqdm in /usr/local/lib/python3.11/dist-packages (from numpyro) (4.67.1)\n",
            "Requirement already satisfied: ml_dtypes>=0.4.0 in /usr/local/lib/python3.11/dist-packages (from jax>=0.4.25->numpyro) (0.4.1)\n",
            "Requirement already satisfied: opt_einsum in /usr/local/lib/python3.11/dist-packages (from jax>=0.4.25->numpyro) (3.4.0)\n",
            "Requirement already satisfied: scipy>=1.11.1 in /usr/local/lib/python3.11/dist-packages (from jax>=0.4.25->numpyro) (1.14.1)\n",
            "Downloading numpyro-0.18.0-py3-none-any.whl (365 kB)\n",
            "\u001b[?25l   \u001b[90m━━━━━━━━━━━━━━━━━━━━━━━━━━━━━━━━━━━━━━━━\u001b[0m \u001b[32m0.0/365.8 kB\u001b[0m \u001b[31m?\u001b[0m eta \u001b[36m-:--:--\u001b[0m\r\u001b[2K   \u001b[90m━━━━━━━━━━━━━━━━━━━━━━━━━━━━━━━━━━━━━━━━\u001b[0m \u001b[32m365.8/365.8 kB\u001b[0m \u001b[31m12.8 MB/s\u001b[0m eta \u001b[36m0:00:00\u001b[0m\n",
            "\u001b[?25hInstalling collected packages: numpyro\n",
            "Successfully installed numpyro-0.18.0\n"
          ]
        }
      ]
    },
    {
      "cell_type": "code",
      "execution_count": 41,
      "metadata": {
        "id": "zHxbSupL_rbP"
      },
      "outputs": [],
      "source": [
        "import jax.random as jr\n",
        "import numpyro\n",
        "import numpyro.distributions as dist\n",
        "from numpyro.infer import util\n",
        "\n",
        "def numpyro_model(times=times, concentrations=concentrations, dosage_mass=dosage_mass, sigma=sigma):\n",
        "    \"\"\"Model function for the JAX-based probabilistic model.\n",
        "\n",
        "    Parameters\n",
        "    ----------\n",
        "    times: array\n",
        "        Time points at which to evaluate the solution.\n",
        "    concentrations: array\n",
        "        Observed concentrations at the specified time points.\n",
        "    dosage_mass: float\n",
        "        Mass of the dosage administered.\n",
        "    sigma: float\n",
        "        Standard deviation of the measurement noise.\n",
        "\n",
        "    Returns\n",
        "    -------\n",
        "    float\n",
        "        Log likelihood of the observed data given the model parameters.\n",
        "    \"\"\"\n",
        "    # Prior\n",
        "    k12 = numpyro.sample('k12', dist.Exponential(0.1), rng_key=jr.PRNGKey(0))\n",
        "    k21 = numpyro.sample('k21', dist.Exponential(0.1), rng_key=jr.PRNGKey(1))\n",
        "    kd = numpyro.sample('kd', dist.Exponential(0.1), rng_key=jr.PRNGKey(2))\n",
        "    V = numpyro.sample('V', dist.LogNormal(4, 0.5), rng_key=jr.PRNGKey(3))\n",
        "\n",
        "    # Likelihood\n",
        "    params = {'k12': k12, 'k21': k21, 'kd': kd, 'V': V}\n",
        "    c1 = solve_pk_iv_bolus(params, times, dosage_mass)\n",
        "    with numpyro.plate('data', len(times)):\n",
        "        numpyro.sample('obs', dist.Normal(c1, sigma), obs=concentrations)\n",
        "\n",
        "model_default_args = (times, concentrations, dosage_mass, sigma)\n",
        "\n",
        "(\n",
        "    init_params,\n",
        "    potential_fn_gen,\n",
        "    postprocess_fn_gen,\n",
        "    model_trace\n",
        ") = util.initialize_model(\n",
        "    jr.key(0),\n",
        "    numpyro_model,\n",
        "    model_args=model_default_args,  # Dummy arguments\n",
        "    dynamic_args=True,\n",
        ")\n",
        "\n",
        "# Get the probability density.\n",
        "# This is p(ξ|y)\n",
        "log_posterior_numpyro = lambda x: -potential_fn_gen(*model_default_args)(x)\n",
        "\n",
        "# Get the transformation function.\n",
        "# This is ξ ↦ θ\n",
        "constrain_numpyro = jit(lambda x: util.constrain_fn(numpyro_model, model_default_args, {}, x))\n",
        "\n",
        "# And get the inverse transformation function.\n",
        "# This is θ ↦ ξ\n",
        "unconstrain_numpyro = jit(lambda x: util.unconstrain_fn(numpyro_model, model_default_args, {}, x))"
      ]
    },
    {
      "cell_type": "markdown",
      "metadata": {
        "id": "SEC3RjEB_rbQ"
      },
      "source": [
        "Run the cell below to test your implementation of $p(\\xi|\\mathbf{t}, \\mathbf{y}, \\sigma)$ against the Numpyro implementation. The printed results should be identical."
      ]
    },
    {
      "cell_type": "code",
      "execution_count": 12,
      "metadata": {
        "id": "FwbuF0EF_rbQ",
        "outputId": "9b983120-88fb-45d3-fe2c-ab3e5b9d3ddb",
        "colab": {
          "base_uri": "https://localhost:8080/"
        }
      },
      "outputs": [
        {
          "output_type": "stream",
          "name": "stdout",
          "text": [
            "Log posterior evaluated from scratch:  -272.12408\n",
            "Log posterior evaluated from numpyro:  -272.12408\n"
          ]
        }
      ],
      "source": [
        "xi = {\n",
        "    'k12': 0.1,\n",
        "    'k21': 0.2,\n",
        "    'kd': 0.3,\n",
        "    'V': 10.0,\n",
        "}\n",
        "\n",
        "print('Log posterior evaluated from scratch: ', log_posterior(xi))\n",
        "print('Log posterior evaluated from numpyro: ', log_posterior_numpyro(xi))"
      ]
    },
    {
      "cell_type": "markdown",
      "metadata": {
        "id": "Hp6zV4bE_rbQ"
      },
      "source": [
        "## Part B - Plot the prior predictive distribution\n",
        "\n",
        "First, let's create a function that samples the random variable $\\xi$ (i.e., the prior over the unnormalized variables).\n",
        "\n",
        "Again, complete the missing pieces of the following code:"
      ]
    },
    {
      "cell_type": "code",
      "execution_count": 13,
      "metadata": {
        "id": "B6IfZHsw_rbQ"
      },
      "outputs": [],
      "source": [
        "@partial(jit, static_argnums=1)\n",
        "def sample_prior_xi(key, num_samples):\n",
        "    keys = jr.split(key, 4)\n",
        "    k12 = (1/0.1)*jr.exponential(keys[0], shape=(num_samples,))\n",
        "    k21 = (1/0.1)*jr.exponential(keys[1], shape=(num_samples,))\n",
        "    kd = (1/0.1)*jr.exponential(keys[2], shape=(num_samples,))\n",
        "    V = jnp.exp(4)*jr.lognormal(keys[3], shape=(num_samples,), sigma=0.5)\n",
        "    xi = {\n",
        "        'k12': jnp.log(k12),\n",
        "        'k21': jnp.log(k21),\n",
        "        'kd': jnp.log(kd),\n",
        "        'V': jnp.log(V),\n",
        "    }\n",
        "    return xi"
      ]
    },
    {
      "cell_type": "markdown",
      "metadata": {
        "id": "PS3eZWUA_rbQ"
      },
      "source": [
        "And again, we could implement the same thing using Numpyro.\n",
        "Here is how you could use Numpyro's `Predictive` class to create a function that samples all latent variables defined in `numpyro_model`:"
      ]
    },
    {
      "cell_type": "code",
      "execution_count": 14,
      "metadata": {
        "id": "Af6RQ5Lo_rbQ"
      },
      "outputs": [],
      "source": [
        "@partial(jit, static_argnums=1)\n",
        "def sample_prior_xi_numpyro(key, num_samples):\n",
        "    s = numpyro.infer.Predictive(numpyro_model, num_samples=num_samples)(key, *model_default_args)\n",
        "    xi = vmap(unconstrain_numpyro)(s)\n",
        "    xi = {k: v for k, v in xi.items() if k in init_params.z.keys()}\n",
        "    return xi"
      ]
    },
    {
      "cell_type": "markdown",
      "metadata": {
        "id": "qQcIVi61_rbV"
      },
      "source": [
        "Run the following cell to test your prior sampler against Numpyro's prior sampler.\n",
        "The two should be essentially equivalent."
      ]
    },
    {
      "cell_type": "code",
      "execution_count": 15,
      "metadata": {
        "id": "vOrWds21_rbW",
        "outputId": "04b254c4-c8cf-410a-989f-bf0070c8b6ee",
        "colab": {
          "base_uri": "https://localhost:8080/",
          "height": 346
        }
      },
      "outputs": [
        {
          "output_type": "display_data",
          "data": {
            "text/plain": [
              "<Figure size 1200x200 with 4 Axes>"
            ],
            "image/png": "[encoded data removed]"
          },
          "metadata": {}
        },
        {
          "output_type": "display_data",
          "data": {
            "text/plain": [
              "<Figure size 1200x200 with 4 Axes>"
            ],
            "image/png": "[encoded data removed]"
          },
          "metadata": {}
        }
      ],
      "source": [
        "xi_prior_samples = sample_prior_xi(jr.key(0), 100_000)\n",
        "xi_prior_samples_numpyro = sample_prior_xi_numpyro(jr.key(0), 100_000)\n",
        "param_prior_samples = vmap(constrain)(xi_prior_samples)\n",
        "param_prior_samples_numpyro = vmap(constrain_numpyro)(xi_prior_samples_numpyro)\n",
        "\n",
        "fig, axes = plt.subplots(1, 4, figsize=(12, 2))\n",
        "\n",
        "ax = axes[0]\n",
        "sns.kdeplot(xi_prior_samples['k12'], label='from scratch', color='tab:blue', ax=ax)\n",
        "sns.kdeplot(xi_prior_samples_numpyro['k12'], label='from numpyro', color='tab:orange', linestyle='--', ax=ax)\n",
        "ax.set_xlabel('Parameter value')\n",
        "ax.set_title(r'Prior for $\\xi_{k_{12}}$')\n",
        "ax.legend()\n",
        "\n",
        "ax = axes[1]\n",
        "sns.kdeplot(xi_prior_samples['k21'], label='from scratch', color='tab:blue', ax=ax)\n",
        "sns.kdeplot(xi_prior_samples_numpyro['k21'], label='from numpyro', color='tab:orange', linestyle='--', ax=ax)\n",
        "ax.set_xlabel('Parameter value')\n",
        "ax.set_title(r'Prior for $\\xi_{k_{21}}$')\n",
        "ax.legend()\n",
        "\n",
        "ax = axes[2]\n",
        "sns.kdeplot(xi_prior_samples['kd'], label='from scratch', color='tab:blue', ax=ax)\n",
        "sns.kdeplot(xi_prior_samples_numpyro['kd'], label='from numpyro', color='tab:orange', linestyle='--', ax=ax)\n",
        "ax.set_xlabel('Parameter value')\n",
        "ax.set_title(r'Prior for $\\xi_{k_{d}}$')\n",
        "ax.legend()\n",
        "\n",
        "ax = axes[3]\n",
        "sns.kdeplot(xi_prior_samples['V'], label='from scratch', color='tab:blue', ax=ax)\n",
        "sns.kdeplot(xi_prior_samples_numpyro['V'], label='from numpyro', color='tab:orange', linestyle='--', ax=ax)\n",
        "ax.set_xlabel('Parameter value')\n",
        "ax.set_title(r'Prior for $\\xi_{V}$')\n",
        "ax.legend()\n",
        "\n",
        "sns.despine()\n",
        "\n",
        "fig, axes = plt.subplots(1, 4, figsize=(12, 2))\n",
        "\n",
        "ax = axes[0]\n",
        "sns.kdeplot(param_prior_samples['k12'], label='from scratch', color='tab:blue', ax=ax)\n",
        "sns.kdeplot(param_prior_samples_numpyro['k12'], label='from numpyro', color='tab:orange', linestyle='--', ax=ax)\n",
        "ax.set_xlabel('Parameter value')\n",
        "ax.set_title(r'Prior for $k_{12}$')\n",
        "ax.legend()\n",
        "\n",
        "ax = axes[1]\n",
        "sns.kdeplot(param_prior_samples['k21'], label='from scratch', color='tab:blue', ax=ax)\n",
        "sns.kdeplot(param_prior_samples_numpyro['k21'], label='from numpyro', color='tab:orange', linestyle='--', ax=ax)\n",
        "ax.set_xlabel('Parameter value')\n",
        "ax.set_title(r'Prior for $k_{21}$')\n",
        "ax.legend()\n",
        "\n",
        "ax = axes[2]\n",
        "sns.kdeplot(param_prior_samples['kd'], label='from scratch', color='tab:blue', ax=ax)\n",
        "sns.kdeplot(param_prior_samples_numpyro['kd'], label='from numpyro', color='tab:orange', linestyle='--', ax=ax)\n",
        "ax.set_xlabel('Parameter value')\n",
        "ax.set_title(r'Prior for $k_{d}$')\n",
        "ax.legend()\n",
        "\n",
        "ax = axes[3]\n",
        "sns.kdeplot(param_prior_samples['V'], label='from scratch', color='tab:blue', ax=ax)\n",
        "sns.kdeplot(param_prior_samples_numpyro['V'], label='from numpyro', color='tab:orange', linestyle='--', ax=ax)\n",
        "ax.set_xlabel('Parameter value')\n",
        "ax.set_title(r'Prior for $V$')\n",
        "ax.legend()\n",
        "\n",
        "sns.despine()"
      ]
    },
    {
      "cell_type": "markdown",
      "metadata": {
        "id": "agAZB8UA_rbW"
      },
      "source": [
        "(From this point forward, feel free to use either your implementation of the log density and prior sampler or the Numpyro implementation.)\n",
        "\n",
        "Now, collect 1000 *prior* samples of $\\theta=e^\\xi$.\n",
        "Plot the the following over the time interval $[0, 12]$ hours:\n",
        "- The 95% credible interval for $c_1(t; \\theta, m_\\text{dose})$\n",
        "- The 95% predictive interval for $c_1(t; \\theta, m_\\text{dose}) + \\epsilon; ~ \\epsilon \\sim \\mathcal{N}(0, \\sigma)$\n",
        "- A few samples of $c_1(t; \\theta, m_\\text{dose})$\n",
        "\n",
        "Hint: You may simply run the following code cell to create the plots."
      ]
    },
    {
      "cell_type": "code",
      "execution_count": 16,
      "metadata": {
        "id": "Ngvrj-2R_rbW",
        "outputId": "7ec00bdc-97b9-4aff-c900-1ebb7e1edea1",
        "colab": {
          "base_uri": "https://localhost:8080/",
          "height": 334
        }
      },
      "outputs": [
        {
          "output_type": "display_data",
          "data": {
            "text/plain": [
              "<Figure size 600x300 with 1 Axes>"
            ],
            "image/png": "[encoded data removed]"
          },
          "metadata": {}
        }
      ],
      "source": [
        "key, subkey = jr.split(jr.key(1))\n",
        "\n",
        "t_plt = jnp.linspace(0, 12, 100)\n",
        "xi_prior_samples = sample_prior_xi(jr.key(0), 1_000)\n",
        "theta_prior_samples = vmap(constrain)(xi_prior_samples)\n",
        "c1_prior_samples = vmap(solve_pk_iv_bolus, (0, None, None))(theta_prior_samples, t_plt, 1.0)\n",
        "y_prior_predictive_samples = c1_prior_samples + sigma*jr.normal(key, shape=c1_prior_samples.shape)\n",
        "\n",
        "q05_epistemic, q95_epistemic = jnp.quantile(c1_prior_samples, jnp.array([0.05, 0.95]), axis=0)\n",
        "q05_aleatoric, q95_aleatoric = jnp.quantile(y_prior_predictive_samples, jnp.array([0.05, 0.95]), axis=0)\n",
        "\n",
        "fig, ax = plt.subplots(1, 1, figsize=(6, 3))\n",
        "ax.plot(t_plt, c1_prior_samples[:10].T, color='tab:blue', lw=0.5, alpha=0.8)\n",
        "ax.fill_between(t_plt, q95_aleatoric, q95_epistemic, color='tab:orange', alpha=0.3, lw=0)\n",
        "ax.fill_between(t_plt, q95_epistemic, q05_epistemic, color='tab:blue', alpha=0.3, lw=0, label='Epistemic uncertainty')\n",
        "ax.fill_between(t_plt, q05_epistemic, q05_epistemic, color='tab:orange', alpha=0.3, lw=0, label='Aleatoric uncertainty')\n",
        "ax.set_xlabel('Time (hr)')\n",
        "ax.set_ylabel('Concentration (g/L)')\n",
        "ax.set_title('Prior samples', fontsize=14)\n",
        "ax.legend()\n",
        "sns.despine()"
      ]
    },
    {
      "cell_type": "markdown",
      "metadata": {
        "id": "0Josyh8G_rbW"
      },
      "source": [
        "## Part C - Find the maximum a-posteriori estimate"
      ]
    },
    {
      "cell_type": "markdown",
      "metadata": {
        "id": "a0-JLwXb_rbW"
      },
      "source": [
        "Now, we want to find the maximum a-posteriori (MAP) estimate $\\xi^*$, i.e.,\n",
        "\n",
        "$$\n",
        "\\xi^* = \\arg \\max_\\xi p(\\xi|\\mathbf{t}, \\mathbf{y} , \\sigma).\n",
        "$$\n",
        "\n",
        "We now have an unconstrained optimization problem.\n",
        "\n",
        "**Do the following:**\n",
        "- Use ADAM to find $\\xi^*$. Show that the loss converges. You may want to run ADAM for a few different starting points to ensure you have found the global maximum.\n",
        "- Report the MAP estimate of the parameters *in constrained space*, i.e., $\\theta^*=e^{\\xi^*}$.\n",
        "- Plot the MAP estimate for the central compartment concentration $c_1(t; \\theta^*, m_\\text{dose})$ *and* the 95% predictive interval (aleatoric uncertainty). (Hint: See part B.)\n",
        "Overlay the observations on the plot.\n",
        "- Compute and report the *area under the curve* (AUC) of the $c_1$-$t$ curve from $t=0$ to $t=36$ hours, i.e.,\n",
        "\n",
        "$$\n",
        "\\int_0^{36} c_1(t; \\theta^*, m_\\text{dose}) dt.\n",
        "$$\n",
        "\n",
        "&emsp;&emsp;&ensp;(AUC is a measure of the *total drug exposure*, and it helps assess drug efficacy and safety.)"
      ]
    },
    {
      "cell_type": "markdown",
      "metadata": {
        "id": "P7YELY9j_rbW"
      },
      "source": [
        "**Your answer here:** <br>"
      ]
    },
    {
      "cell_type": "code",
      "source": [
        "import jax\n",
        "import jax.numpy as jnp\n",
        "from jax.example_libraries import optimizers\n",
        "\n",
        "# Define the objective function (negative log posterior)\n",
        "objective_function = lambda xi: -log_posterior(xi)\n",
        "\n",
        "# Initialize the optimizer\n",
        "step_size = 0.01\n",
        "opt_init, opt_update, get_params = optimizers.adam(step_size)\n",
        "\n",
        "# Initialize parameters (try different starting points)\n",
        "xi_init = {'k12': 0.0, 'k21': 0.0, 'kd': 0.0, 'V': 4.0}  # Example starting point\n",
        "opt_state = opt_init(xi_init)\n",
        "\n",
        "# Optimization loop\n",
        "num_iterations = 10000\n",
        "losses = []\n",
        "for i in range(num_iterations):\n",
        "    loss, grads = jax.value_and_grad(objective_function)(get_params(opt_state))\n",
        "    opt_state = opt_update(i, grads, opt_state)\n",
        "    losses.append(loss)\n",
        "\n",
        "# Get the MAP estimate\n",
        "xi_map = get_params(opt_state)\n",
        "\n",
        "# Plot the loss to check convergence\n",
        "plt.plot(losses)\n",
        "plt.xlabel(\"Iteration\")\n",
        "plt.ylabel(\"Loss\")\n",
        "plt.title(\"Convergence of ADAM Optimization\")\n",
        "plt.show()"
      ],
      "metadata": {
        "id": "9Ll37LOWKFFK",
        "outputId": "45a37aca-c99c-42cc-f2dc-876e480bb868",
        "colab": {
          "base_uri": "https://localhost:8080/",
          "height": 468
        }
      },
      "execution_count": 17,
      "outputs": [
        {
          "output_type": "display_data",
          "data": {
            "text/plain": [
              "<Figure size 640x480 with 1 Axes>"
            ],
            "image/png": "[encoded data removed]"
          },
          "metadata": {}
        }
      ]
    },
    {
      "cell_type": "code",
      "source": [
        "# Transform to constrained space\n",
        "theta_map = constrain(xi_map)\n",
        "print(\"MAP Estimate (θ*):\", theta_map)"
      ],
      "metadata": {
        "id": "UGczbvwoKMHp",
        "outputId": "b8284f53-8141-4df7-f850-366197b83750",
        "colab": {
          "base_uri": "https://localhost:8080/"
        }
      },
      "execution_count": 18,
      "outputs": [
        {
          "output_type": "stream",
          "name": "stdout",
          "text": [
            "MAP Estimate (θ*): {'k12': Array(4.2891383, dtype=float32), 'k21': Array(11.266057, dtype=float32), 'kd': Array(0.86341715, dtype=float32), 'V': Array(42.920387, dtype=float32)}\n"
          ]
        }
      ]
    },
    {
      "cell_type": "code",
      "source": [
        "import matplotlib.pyplot as plt\n",
        "import seaborn as sns\n",
        "import numpy as np\n",
        "\n",
        "# Time points for plotting\n",
        "t_plt = jnp.linspace(0, 12, 100)\n",
        "\n",
        "# Calculate concentrations using the MAP estimate\n",
        "c1_map = solve_pk_iv_bolus(theta_map, t_plt, dosage_mass)\n",
        "\n",
        "# Calculate 95% predictive interval (aleatoric uncertainty)\n",
        "y_pred_samples = c1_map + sigma * jax.random.normal(jax.random.PRNGKey(0), shape=c1_map.shape)\n",
        "q05_aleatoric, q95_aleatoric = jnp.quantile(y_pred_samples, jnp.array([0.05, 0.95]))\n",
        "\n",
        "# Plot\n",
        "plt.figure(figsize=(6, 4))\n",
        "plt.plot(t_plt, c1_map, label=\"MAP Estimate\", color=\"tab:blue\")\n",
        "plt.fill_between(t_plt, q05_aleatoric, q95_aleatoric, color=\"tab:orange\", alpha=0.3, label=\"95% Predictive Interval\")\n",
        "plt.scatter(times, concentrations, label=\"Observations\", color=\"tab:red\")\n",
        "plt.xlabel(\"Time (hr)\")\n",
        "plt.ylabel(\"Concentration (g/L)\")\n",
        "plt.title(\"MAP Estimate and Predictive Interval\")\n",
        "plt.legend()\n",
        "sns.despine()\n",
        "plt.show()"
      ],
      "metadata": {
        "id": "JQQDvxAIKOXx",
        "outputId": "0238ec9d-d44c-4b01-e776-0cd546004043",
        "colab": {
          "base_uri": "https://localhost:8080/",
          "height": 406
        }
      },
      "execution_count": 19,
      "outputs": [
        {
          "output_type": "display_data",
          "data": {
            "text/plain": [
              "<Figure size 600x400 with 1 Axes>"
            ],
            "image/png": "[encoded data removed]"
          },
          "metadata": {}
        }
      ]
    },
    {
      "cell_type": "code",
      "source": [
        "from scipy.integrate import trapezoid\n",
        "\n",
        "# Time points for AUC calculation\n",
        "t_auc = jnp.linspace(0, 36, 100)\n",
        "\n",
        "# Calculate concentrations for AUC\n",
        "c1_auc = solve_pk_iv_bolus(theta_map, t_auc, dosage_mass)\n",
        "\n",
        "# Calculate AUC using trapezoidal rule\n",
        "auc = trapezoid(c1_auc, t_auc)\n",
        "print(\"Area Under the Curve (AUC):\", auc)"
      ],
      "metadata": {
        "id": "Kd4ya0ZwKROr",
        "outputId": "2b9bce84-ab00-449a-b6d6-27a25e6e58b4",
        "colab": {
          "base_uri": "https://localhost:8080/"
        }
      },
      "execution_count": 21,
      "outputs": [
        {
          "output_type": "stream",
          "name": "stdout",
          "text": [
            "Area Under the Curve (AUC): 0.050083898\n"
          ]
        }
      ]
    },
    {
      "cell_type": "markdown",
      "metadata": {
        "id": "mfqCGZst_rbW"
      },
      "source": [
        "## Part D - Sample the posterior with MCMC\n",
        "\n",
        "Instead of only finding a point estimate of the parameters (as in Part C), we will characterize the full posterior distribution $p(\\xi|\\mathbf{t}, \\mathbf{y}, \\sigma)$.\n",
        "This will allow us to quantify our *epistemic* or *lack-of-data* uncertainty about the parameters.\n",
        "\n",
        "**Do the following:**\n",
        "- Sample the from posterior distribution $p(\\xi|\\mathbf{t}, \\mathbf{y}, \\sigma)$ using the No-U-Turn Sampler (NUTS). Use at least 3 chains and 1000 samples per chain. (Hint: See [this hands-on activity demonstrating NUTS in blackjax](https://predictivesciencelab.github.io/advanced-scientific-machine-learning/inverse/sampling/04_nuts_blackjax.html).)\n",
        "- Show the trace plots of the MCMC chains. Report MCMC diagnostics (R-hat, ESS). Argue whether the chains have converged. (Hint: Use `arviz.plot_trace` and `arviz.summary`.)\n",
        "- Plot all the $\\xi$ samples onto a scatterplot matrix. (Hint: Use `seaborn.pairplot`.)\n",
        "Comment on how identifiable the parameters are.\n",
        "- Compute the concentration $c_1$ for each posterior sample, over the time interval $[0, 12]$.\n",
        "Plot the 95% credible interval, 95% predictive interval, and a few samples from the posterior. (Hint: See Part B.)\n",
        "- Plot a histogram of the area under the curve (AUC) for the posterior samples (see part C for the definition of \"AUC\")."
      ]
    },
    {
      "cell_type": "markdown",
      "metadata": {
        "id": "xHjJleNB_rbX"
      },
      "source": [
        "**Your answer here:** <br>"
      ]
    },
    {
      "cell_type": "code",
      "source": [
        "!pip install blackjax\n",
        "!pip install jaxtyping"
      ],
      "metadata": {
        "id": "Xcd0rAohzT6Y",
        "outputId": "6d9e5d90-fc29-4fbd-e528-0cae11e0e2a7",
        "colab": {
          "base_uri": "https://localhost:8080/"
        }
      },
      "execution_count": 31,
      "outputs": [
        {
          "output_type": "stream",
          "name": "stdout",
          "text": [
            "Requirement already satisfied: blackjax in /usr/local/lib/python3.11/dist-packages (1.2.5)\n",
            "Requirement already satisfied: fastprogress>=1.0.0 in /usr/local/lib/python3.11/dist-packages (from blackjax) (1.0.3)\n",
            "Requirement already satisfied: jax>=0.4.16 in /usr/local/lib/python3.11/dist-packages (from blackjax) (0.5.2)\n",
            "Requirement already satisfied: jaxlib>=0.4.16 in /usr/local/lib/python3.11/dist-packages (from blackjax) (0.5.1)\n",
            "Requirement already satisfied: jaxopt>=0.8 in /usr/local/lib/python3.11/dist-packages (from blackjax) (0.8.4)\n",
            "Requirement already satisfied: optax>=0.1.7 in /usr/local/lib/python3.11/dist-packages (from blackjax) (0.2.4)\n",
            "Requirement already satisfied: typing-extensions>=4.4.0 in /usr/local/lib/python3.11/dist-packages (from blackjax) (4.13.1)\n",
            "Requirement already satisfied: ml_dtypes>=0.4.0 in /usr/local/lib/python3.11/dist-packages (from jax>=0.4.16->blackjax) (0.4.1)\n",
            "Requirement already satisfied: numpy>=1.25 in /usr/local/lib/python3.11/dist-packages (from jax>=0.4.16->blackjax) (2.0.2)\n",
            "Requirement already satisfied: opt_einsum in /usr/local/lib/python3.11/dist-packages (from jax>=0.4.16->blackjax) (3.4.0)\n",
            "Requirement already satisfied: scipy>=1.11.1 in /usr/local/lib/python3.11/dist-packages (from jax>=0.4.16->blackjax) (1.14.1)\n",
            "Requirement already satisfied: absl-py>=0.7.1 in /usr/local/lib/python3.11/dist-packages (from optax>=0.1.7->blackjax) (1.4.0)\n",
            "Requirement already satisfied: chex>=0.1.87 in /usr/local/lib/python3.11/dist-packages (from optax>=0.1.7->blackjax) (0.1.89)\n",
            "Requirement already satisfied: etils[epy] in /usr/local/lib/python3.11/dist-packages (from optax>=0.1.7->blackjax) (1.12.2)\n",
            "Requirement already satisfied: toolz>=0.9.0 in /usr/local/lib/python3.11/dist-packages (from chex>=0.1.87->optax>=0.1.7->blackjax) (0.12.1)\n",
            "Collecting jaxtyping\n",
            "  Downloading jaxtyping-0.3.1-py3-none-any.whl.metadata (7.0 kB)\n",
            "Collecting wadler-lindig>=0.1.3 (from jaxtyping)\n",
            "  Downloading wadler_lindig-0.1.4-py3-none-any.whl.metadata (17 kB)\n",
            "Downloading jaxtyping-0.3.1-py3-none-any.whl (55 kB)\n",
            "\u001b[2K   \u001b[90m━━━━━━━━━━━━━━━━━━━━━━━━━━━━━━━━━━━━━━━━\u001b[0m \u001b[32m55.3/55.3 kB\u001b[0m \u001b[31m3.4 MB/s\u001b[0m eta \u001b[36m0:00:00\u001b[0m\n",
            "\u001b[?25hDownloading wadler_lindig-0.1.4-py3-none-any.whl (20 kB)\n",
            "Installing collected packages: wadler-lindig, jaxtyping\n",
            "Successfully installed jaxtyping-0.3.1 wadler-lindig-0.1.4\n"
          ]
        }
      ]
    },
    {
      "cell_type": "code",
      "source": [
        "import blackjax\n",
        "from jaxtyping import Array, Float, PyTree, PRNGKeyArray\n",
        "from typing import Callable, Tuple\n",
        "\n",
        "def run_inference(\n",
        "    joint_log_prob: Callable,\n",
        "    sample_starting_point: Callable,\n",
        "    key: PRNGKeyArray,\n",
        "    num_warmup: int,\n",
        "    num_samples: int,\n",
        "    num_chains: int\n",
        "):\n",
        "    \"\"\"Do warmup with window adaptation (to tune step size and mass matrix) and then sample using NUTS.\n",
        "    Returns a tuple with the NUTS states and some info.\n",
        "    \"\"\"\n",
        "    # Initialize the window adaptation algorithm\n",
        "    warmup = blackjax.window_adaptation(blackjax.nuts, joint_log_prob)\n",
        "\n",
        "    # Initialize the MCMC chain\n",
        "    key, init_key, warmup_key, sample_key = jax.random.split(key, 4)\n",
        "    init_position = sample_starting_point(init_key, num_chains)\n",
        "\n",
        "    # Run the warmup phase for each chain\n",
        "    @jax.vmap\n",
        "    def call_warmup(seed, param):\n",
        "        \"\"\"Run the warmup phase for a single chain.\"\"\"\n",
        "        (initial_states, tuned_params), _ = warmup.run(seed, param, num_warmup)\n",
        "        return initial_states, tuned_params\n",
        "    warmup_keys = jax.random.split(warmup_key, num_chains)\n",
        "    initial_states, tuned_params = jax.jit(call_warmup)(warmup_keys, init_position)\n",
        "\n",
        "    # Run the sampling phase\n",
        "    states, infos = inference_loop_multiple_chains(sample_key, initial_states, tuned_params, joint_log_prob, num_samples, num_chains)\n",
        "\n",
        "    # `states` contains the samples, `infos` contains other information about the sampling process\n",
        "    return states, infos\n",
        "\n",
        "def sample_starting_point(\n",
        "    key: PRNGKeyArray,\n",
        "    num_chains: int,\n",
        "    mu: Array,\n",
        "    Sigma: Array\n",
        "):\n",
        "    \"\"\"Draw samples from a multivariate normal as starting points for the MCMC chains.\n",
        "    Returns an array of shape (num_chains, num_dims).\n",
        "    \"\"\"\n",
        "    keys = jr.split(key, num_chains)\n",
        "    return vmap(lambda k: jr.multivariate_normal(k, mu, Sigma))(keys)\n",
        "\n",
        "def inference_loop_multiple_chains(\n",
        "    key: PRNGKeyArray,\n",
        "    initial_states: PyTree,\n",
        "    tuned_params: dict,\n",
        "    log_prob_fn: Callable,\n",
        "    num_samples: int,\n",
        "    num_chains: int\n",
        "):\n",
        "    \"\"\"Do NUTS sampling for multiple chains in a vectorized fashion. Returns a tuple with the NUTS states and some info.\"\"\"\n",
        "    # Initialize the NUTS kernel\n",
        "    kernel = blackjax.nuts.build_kernel()\n",
        "\n",
        "    def step_fn(key, state, **params):\n",
        "        \"\"\"A single step of NUTS for one chain.\"\"\"\n",
        "        return kernel(key, state, log_prob_fn, **params)\n",
        "\n",
        "    def one_step(states, key):\n",
        "        \"\"\"A single step of NUTS for multiple chains.\"\"\"\n",
        "        keys = jax.random.split(key, num_chains)\n",
        "        states, infos = jax.vmap(step_fn)(keys, states, **tuned_params)\n",
        "        return states, (states, infos)\n",
        "\n",
        "    # Run the NUTS sampling for multiple chains\n",
        "    keys = jax.random.split(key, num_samples)\n",
        "    _, (states, infos) = jax.lax.scan(one_step, initial_states, keys)\n",
        "\n",
        "    return (states, infos)"
      ],
      "metadata": {
        "id": "I2qyN9Tj701N"
      },
      "execution_count": 55,
      "outputs": []
    },
    {
      "cell_type": "code",
      "source": [
        "num_chains = 3\n",
        "num_samples_per_chain = 1000\n",
        "num_warmup = 500\n",
        "key = jr.PRNGKey(123)\n",
        "\n",
        "states, infos = run_inference(\n",
        "    joint_log_prob=log_posterior,\n",
        "    sample_starting_point=partial(sample_starting_point, mu=jnp.zeros(4), Sigma=jnp.eye(4)),\n",
        "    key=key,\n",
        "    num_warmup=num_warmup,\n",
        "    num_samples=num_samples_per_chain,\n",
        "    num_chains=num_chains\n",
        ")"
      ],
      "metadata": {
        "id": "opJeceBu8NSc",
        "outputId": "2b5b07ca-0a49-4c80-8e1f-f4c554b076a8",
        "colab": {
          "base_uri": "https://localhost:8080/",
          "height": 1000
        }
      },
      "execution_count": 56,
      "outputs": [
        {
          "output_type": "error",
          "ename": "TypeError",
          "evalue": "JAX does not support string indexing; got idx=('k12',)",
          "traceback": [
            "\u001b[0;31m---------------------------------------------------------------------------\u001b[0m",
            "\u001b[0;31mTypeError\u001b[0m                                 Traceback (most recent call last)",
            "\u001b[0;32m<ipython-input-56-5d3de59e8e05>\u001b[0m in \u001b[0;36m<cell line: 0>\u001b[0;34m()\u001b[0m\n\u001b[1;32m      4\u001b[0m \u001b[0mkey\u001b[0m \u001b[0;34m=\u001b[0m \u001b[0mjr\u001b[0m\u001b[0;34m.\u001b[0m\u001b[0mPRNGKey\u001b[0m\u001b[0;34m(\u001b[0m\u001b[0;36m123\u001b[0m\u001b[0;34m)\u001b[0m\u001b[0;34m\u001b[0m\u001b[0;34m\u001b[0m\u001b[0m\n\u001b[1;32m      5\u001b[0m \u001b[0;34m\u001b[0m\u001b[0m\n\u001b[0;32m----> 6\u001b[0;31m states, infos = run_inference(\n\u001b[0m\u001b[1;32m      7\u001b[0m     \u001b[0mjoint_log_prob\u001b[0m\u001b[0;34m=\u001b[0m\u001b[0mlog_posterior\u001b[0m\u001b[0;34m,\u001b[0m\u001b[0;34m\u001b[0m\u001b[0;34m\u001b[0m\u001b[0m\n\u001b[1;32m      8\u001b[0m     \u001b[0msample_starting_point\u001b[0m\u001b[0;34m=\u001b[0m\u001b[0mpartial\u001b[0m\u001b[0;34m(\u001b[0m\u001b[0msample_starting_point\u001b[0m\u001b[0;34m,\u001b[0m \u001b[0mmu\u001b[0m\u001b[0;34m=\u001b[0m\u001b[0mjnp\u001b[0m\u001b[0;34m.\u001b[0m\u001b[0mzeros\u001b[0m\u001b[0;34m(\u001b[0m\u001b[0;36m4\u001b[0m\u001b[0;34m)\u001b[0m\u001b[0;34m,\u001b[0m \u001b[0mSigma\u001b[0m\u001b[0;34m=\u001b[0m\u001b[0mjnp\u001b[0m\u001b[0;34m.\u001b[0m\u001b[0meye\u001b[0m\u001b[0;34m(\u001b[0m\u001b[0;36m4\u001b[0m\u001b[0;34m)\u001b[0m\u001b[0;34m)\u001b[0m\u001b[0;34m,\u001b[0m\u001b[0;34m\u001b[0m\u001b[0;34m\u001b[0m\u001b[0m\n",
            "\u001b[0;32m<ipython-input-55-4e0f3e7d982e>\u001b[0m in \u001b[0;36mrun_inference\u001b[0;34m(joint_log_prob, sample_starting_point, key, num_warmup, num_samples, num_chains)\u001b[0m\n\u001b[1;32m     28\u001b[0m         \u001b[0;32mreturn\u001b[0m \u001b[0minitial_states\u001b[0m\u001b[0;34m,\u001b[0m \u001b[0mtuned_params\u001b[0m\u001b[0;34m\u001b[0m\u001b[0;34m\u001b[0m\u001b[0m\n\u001b[1;32m     29\u001b[0m     \u001b[0mwarmup_keys\u001b[0m \u001b[0;34m=\u001b[0m \u001b[0mjax\u001b[0m\u001b[0;34m.\u001b[0m\u001b[0mrandom\u001b[0m\u001b[0;34m.\u001b[0m\u001b[0msplit\u001b[0m\u001b[0;34m(\u001b[0m\u001b[0mwarmup_key\u001b[0m\u001b[0;34m,\u001b[0m \u001b[0mnum_chains\u001b[0m\u001b[0;34m)\u001b[0m\u001b[0;34m\u001b[0m\u001b[0;34m\u001b[0m\u001b[0m\n\u001b[0;32m---> 30\u001b[0;31m     \u001b[0minitial_states\u001b[0m\u001b[0;34m,\u001b[0m \u001b[0mtuned_params\u001b[0m \u001b[0;34m=\u001b[0m \u001b[0mjax\u001b[0m\u001b[0;34m.\u001b[0m\u001b[0mjit\u001b[0m\u001b[0;34m(\u001b[0m\u001b[0mcall_warmup\u001b[0m\u001b[0;34m)\u001b[0m\u001b[0;34m(\u001b[0m\u001b[0mwarmup_keys\u001b[0m\u001b[0;34m,\u001b[0m \u001b[0minit_position\u001b[0m\u001b[0;34m)\u001b[0m\u001b[0;34m\u001b[0m\u001b[0;34m\u001b[0m\u001b[0m\n\u001b[0m\u001b[1;32m     31\u001b[0m \u001b[0;34m\u001b[0m\u001b[0m\n\u001b[1;32m     32\u001b[0m     \u001b[0;31m# Run the sampling phase\u001b[0m\u001b[0;34m\u001b[0m\u001b[0;34m\u001b[0m\u001b[0m\n",
            "    \u001b[0;31m[... skipping hidden 20 frame]\u001b[0m\n",
            "\u001b[0;32m<ipython-input-55-4e0f3e7d982e>\u001b[0m in \u001b[0;36mcall_warmup\u001b[0;34m(seed, param)\u001b[0m\n\u001b[1;32m     25\u001b[0m     \u001b[0;32mdef\u001b[0m \u001b[0mcall_warmup\u001b[0m\u001b[0;34m(\u001b[0m\u001b[0mseed\u001b[0m\u001b[0;34m,\u001b[0m \u001b[0mparam\u001b[0m\u001b[0;34m)\u001b[0m\u001b[0;34m:\u001b[0m\u001b[0;34m\u001b[0m\u001b[0;34m\u001b[0m\u001b[0m\n\u001b[1;32m     26\u001b[0m         \u001b[0;34m\"\"\"Run the warmup phase for a single chain.\"\"\"\u001b[0m\u001b[0;34m\u001b[0m\u001b[0;34m\u001b[0m\u001b[0m\n\u001b[0;32m---> 27\u001b[0;31m         \u001b[0;34m(\u001b[0m\u001b[0minitial_states\u001b[0m\u001b[0;34m,\u001b[0m \u001b[0mtuned_params\u001b[0m\u001b[0;34m)\u001b[0m\u001b[0;34m,\u001b[0m \u001b[0m_\u001b[0m \u001b[0;34m=\u001b[0m \u001b[0mwarmup\u001b[0m\u001b[0;34m.\u001b[0m\u001b[0mrun\u001b[0m\u001b[0;34m(\u001b[0m\u001b[0mseed\u001b[0m\u001b[0;34m,\u001b[0m \u001b[0mparam\u001b[0m\u001b[0;34m,\u001b[0m \u001b[0mnum_warmup\u001b[0m\u001b[0;34m)\u001b[0m\u001b[0;34m\u001b[0m\u001b[0;34m\u001b[0m\u001b[0m\n\u001b[0m\u001b[1;32m     28\u001b[0m         \u001b[0;32mreturn\u001b[0m \u001b[0minitial_states\u001b[0m\u001b[0;34m,\u001b[0m \u001b[0mtuned_params\u001b[0m\u001b[0;34m\u001b[0m\u001b[0;34m\u001b[0m\u001b[0m\n\u001b[1;32m     29\u001b[0m     \u001b[0mwarmup_keys\u001b[0m \u001b[0;34m=\u001b[0m \u001b[0mjax\u001b[0m\u001b[0;34m.\u001b[0m\u001b[0mrandom\u001b[0m\u001b[0;34m.\u001b[0m\u001b[0msplit\u001b[0m\u001b[0;34m(\u001b[0m\u001b[0mwarmup_key\u001b[0m\u001b[0;34m,\u001b[0m \u001b[0mnum_chains\u001b[0m\u001b[0;34m)\u001b[0m\u001b[0;34m\u001b[0m\u001b[0;34m\u001b[0m\u001b[0m\n",
            "\u001b[0;32m/usr/local/lib/python3.11/dist-packages/blackjax/adaptation/window_adaptation.py\u001b[0m in \u001b[0;36mrun\u001b[0;34m(rng_key, position, num_steps)\u001b[0m\n\u001b[1;32m    329\u001b[0m \u001b[0;34m\u001b[0m\u001b[0m\n\u001b[1;32m    330\u001b[0m     \u001b[0;32mdef\u001b[0m \u001b[0mrun\u001b[0m\u001b[0;34m(\u001b[0m\u001b[0mrng_key\u001b[0m\u001b[0;34m:\u001b[0m \u001b[0mPRNGKey\u001b[0m\u001b[0;34m,\u001b[0m \u001b[0mposition\u001b[0m\u001b[0;34m:\u001b[0m \u001b[0mArrayLikeTree\u001b[0m\u001b[0;34m,\u001b[0m \u001b[0mnum_steps\u001b[0m\u001b[0;34m:\u001b[0m \u001b[0mint\u001b[0m \u001b[0;34m=\u001b[0m \u001b[0;36m1000\u001b[0m\u001b[0;34m)\u001b[0m\u001b[0;34m:\u001b[0m\u001b[0;34m\u001b[0m\u001b[0;34m\u001b[0m\u001b[0m\n\u001b[0;32m--> 331\u001b[0;31m         \u001b[0minit_state\u001b[0m \u001b[0;34m=\u001b[0m \u001b[0malgorithm\u001b[0m\u001b[0;34m.\u001b[0m\u001b[0minit\u001b[0m\u001b[0;34m(\u001b[0m\u001b[0mposition\u001b[0m\u001b[0;34m,\u001b[0m \u001b[0mlogdensity_fn\u001b[0m\u001b[0;34m)\u001b[0m\u001b[0;34m\u001b[0m\u001b[0;34m\u001b[0m\u001b[0m\n\u001b[0m\u001b[1;32m    332\u001b[0m         \u001b[0minit_adaptation_state\u001b[0m \u001b[0;34m=\u001b[0m \u001b[0madapt_init\u001b[0m\u001b[0;34m(\u001b[0m\u001b[0mposition\u001b[0m\u001b[0;34m,\u001b[0m \u001b[0minitial_step_size\u001b[0m\u001b[0;34m)\u001b[0m\u001b[0;34m\u001b[0m\u001b[0;34m\u001b[0m\u001b[0m\n\u001b[1;32m    333\u001b[0m \u001b[0;34m\u001b[0m\u001b[0m\n",
            "\u001b[0;32m/usr/local/lib/python3.11/dist-packages/blackjax/mcmc/hmc.py\u001b[0m in \u001b[0;36minit\u001b[0;34m(position, logdensity_fn)\u001b[0m\n\u001b[1;32m     87\u001b[0m \u001b[0;34m\u001b[0m\u001b[0m\n\u001b[1;32m     88\u001b[0m \u001b[0;32mdef\u001b[0m \u001b[0minit\u001b[0m\u001b[0;34m(\u001b[0m\u001b[0mposition\u001b[0m\u001b[0;34m:\u001b[0m \u001b[0mArrayLikeTree\u001b[0m\u001b[0;34m,\u001b[0m \u001b[0mlogdensity_fn\u001b[0m\u001b[0;34m:\u001b[0m \u001b[0mCallable\u001b[0m\u001b[0;34m)\u001b[0m\u001b[0;34m:\u001b[0m\u001b[0;34m\u001b[0m\u001b[0;34m\u001b[0m\u001b[0m\n\u001b[0;32m---> 89\u001b[0;31m     \u001b[0mlogdensity\u001b[0m\u001b[0;34m,\u001b[0m \u001b[0mlogdensity_grad\u001b[0m \u001b[0;34m=\u001b[0m \u001b[0mjax\u001b[0m\u001b[0;34m.\u001b[0m\u001b[0mvalue_and_grad\u001b[0m\u001b[0;34m(\u001b[0m\u001b[0mlogdensity_fn\u001b[0m\u001b[0;34m)\u001b[0m\u001b[0;34m(\u001b[0m\u001b[0mposition\u001b[0m\u001b[0;34m)\u001b[0m\u001b[0;34m\u001b[0m\u001b[0;34m\u001b[0m\u001b[0m\n\u001b[0m\u001b[1;32m     90\u001b[0m     \u001b[0;32mreturn\u001b[0m \u001b[0mHMCState\u001b[0m\u001b[0;34m(\u001b[0m\u001b[0mposition\u001b[0m\u001b[0;34m,\u001b[0m \u001b[0mlogdensity\u001b[0m\u001b[0;34m,\u001b[0m \u001b[0mlogdensity_grad\u001b[0m\u001b[0;34m)\u001b[0m\u001b[0;34m\u001b[0m\u001b[0;34m\u001b[0m\u001b[0m\n\u001b[1;32m     91\u001b[0m \u001b[0;34m\u001b[0m\u001b[0m\n",
            "    \u001b[0;31m[... skipping hidden 29 frame]\u001b[0m\n",
            "\u001b[0;32m<ipython-input-9-3ea54c98ea8f>\u001b[0m in \u001b[0;36mlog_posterior\u001b[0;34m(xi, times, concentrations, dosage_mass, sigma)\u001b[0m\n\u001b[1;32m     52\u001b[0m \u001b[0;34m\u001b[0m\u001b[0m\n\u001b[1;32m     53\u001b[0m     \u001b[0;31m# Transform to constrained space\u001b[0m\u001b[0;34m\u001b[0m\u001b[0;34m\u001b[0m\u001b[0m\n\u001b[0;32m---> 54\u001b[0;31m     \u001b[0mparams\u001b[0m \u001b[0;34m=\u001b[0m \u001b[0mconstrain\u001b[0m\u001b[0;34m(\u001b[0m\u001b[0mxi\u001b[0m\u001b[0;34m)\u001b[0m\u001b[0;34m\u001b[0m\u001b[0;34m\u001b[0m\u001b[0m\n\u001b[0m\u001b[1;32m     55\u001b[0m \u001b[0;34m\u001b[0m\u001b[0m\n\u001b[1;32m     56\u001b[0m     \u001b[0;31m# Prior\u001b[0m\u001b[0;34m\u001b[0m\u001b[0;34m\u001b[0m\u001b[0m\n",
            "\u001b[0;32m<ipython-input-9-3ea54c98ea8f>\u001b[0m in \u001b[0;36mconstrain\u001b[0;34m(params)\u001b[0m\n\u001b[1;32m      5\u001b[0m     \u001b[0;34m\"\"\"Constrain the parameters to be positive.\"\"\"\u001b[0m\u001b[0;34m\u001b[0m\u001b[0;34m\u001b[0m\u001b[0m\n\u001b[1;32m      6\u001b[0m     return {\n\u001b[0;32m----> 7\u001b[0;31m         \u001b[0;34m'k12'\u001b[0m\u001b[0;34m:\u001b[0m \u001b[0mjnp\u001b[0m\u001b[0;34m.\u001b[0m\u001b[0mexp\u001b[0m\u001b[0;34m(\u001b[0m\u001b[0mparams\u001b[0m\u001b[0;34m[\u001b[0m\u001b[0;34m'k12'\u001b[0m\u001b[0;34m]\u001b[0m\u001b[0;34m)\u001b[0m\u001b[0;34m,\u001b[0m\u001b[0;34m\u001b[0m\u001b[0;34m\u001b[0m\u001b[0m\n\u001b[0m\u001b[1;32m      8\u001b[0m         \u001b[0;34m'k21'\u001b[0m\u001b[0;34m:\u001b[0m \u001b[0mjnp\u001b[0m\u001b[0;34m.\u001b[0m\u001b[0mexp\u001b[0m\u001b[0;34m(\u001b[0m\u001b[0mparams\u001b[0m\u001b[0;34m[\u001b[0m\u001b[0;34m'k21'\u001b[0m\u001b[0;34m]\u001b[0m\u001b[0;34m)\u001b[0m\u001b[0;34m,\u001b[0m\u001b[0;34m\u001b[0m\u001b[0;34m\u001b[0m\u001b[0m\n\u001b[1;32m      9\u001b[0m         \u001b[0;34m'kd'\u001b[0m\u001b[0;34m:\u001b[0m \u001b[0mjnp\u001b[0m\u001b[0;34m.\u001b[0m\u001b[0mexp\u001b[0m\u001b[0;34m(\u001b[0m\u001b[0mparams\u001b[0m\u001b[0;34m[\u001b[0m\u001b[0;34m'kd'\u001b[0m\u001b[0;34m]\u001b[0m\u001b[0;34m)\u001b[0m\u001b[0;34m,\u001b[0m\u001b[0;34m\u001b[0m\u001b[0;34m\u001b[0m\u001b[0m\n",
            "\u001b[0;32m/usr/local/lib/python3.11/dist-packages/jax/_src/numpy/array_methods.py\u001b[0m in \u001b[0;36mop\u001b[0;34m(self, *args)\u001b[0m\n\u001b[1;32m   1058\u001b[0m \u001b[0;32mdef\u001b[0m \u001b[0m_forward_operator_to_aval\u001b[0m\u001b[0;34m(\u001b[0m\u001b[0mname\u001b[0m\u001b[0;34m)\u001b[0m\u001b[0;34m:\u001b[0m\u001b[0;34m\u001b[0m\u001b[0;34m\u001b[0m\u001b[0m\n\u001b[1;32m   1059\u001b[0m   \u001b[0;32mdef\u001b[0m \u001b[0mop\u001b[0m\u001b[0;34m(\u001b[0m\u001b[0mself\u001b[0m\u001b[0;34m,\u001b[0m \u001b[0;34m*\u001b[0m\u001b[0margs\u001b[0m\u001b[0;34m)\u001b[0m\u001b[0;34m:\u001b[0m\u001b[0;34m\u001b[0m\u001b[0;34m\u001b[0m\u001b[0m\n\u001b[0;32m-> 1060\u001b[0;31m     \u001b[0;32mreturn\u001b[0m \u001b[0mgetattr\u001b[0m\u001b[0;34m(\u001b[0m\u001b[0mself\u001b[0m\u001b[0;34m.\u001b[0m\u001b[0maval\u001b[0m\u001b[0;34m,\u001b[0m \u001b[0;34mf\"_{name}\"\u001b[0m\u001b[0;34m)\u001b[0m\u001b[0;34m(\u001b[0m\u001b[0mself\u001b[0m\u001b[0;34m,\u001b[0m \u001b[0;34m*\u001b[0m\u001b[0margs\u001b[0m\u001b[0;34m)\u001b[0m\u001b[0;34m\u001b[0m\u001b[0;34m\u001b[0m\u001b[0m\n\u001b[0m\u001b[1;32m   1061\u001b[0m   \u001b[0;32mreturn\u001b[0m \u001b[0mop\u001b[0m\u001b[0;34m\u001b[0m\u001b[0;34m\u001b[0m\u001b[0m\n\u001b[1;32m   1062\u001b[0m \u001b[0;34m\u001b[0m\u001b[0m\n",
            "\u001b[0;32m/usr/local/lib/python3.11/dist-packages/jax/_src/numpy/array_methods.py\u001b[0m in \u001b[0;36m_getitem\u001b[0;34m(self, item)\u001b[0m\n\u001b[1;32m    650\u001b[0m \u001b[0;34m\u001b[0m\u001b[0m\n\u001b[1;32m    651\u001b[0m \u001b[0;32mdef\u001b[0m \u001b[0m_getitem\u001b[0m\u001b[0;34m(\u001b[0m\u001b[0mself\u001b[0m\u001b[0;34m,\u001b[0m \u001b[0mitem\u001b[0m\u001b[0;34m)\u001b[0m\u001b[0;34m:\u001b[0m\u001b[0;34m\u001b[0m\u001b[0;34m\u001b[0m\u001b[0m\n\u001b[0;32m--> 652\u001b[0;31m   \u001b[0;32mreturn\u001b[0m \u001b[0mindexing\u001b[0m\u001b[0;34m.\u001b[0m\u001b[0mrewriting_take\u001b[0m\u001b[0;34m(\u001b[0m\u001b[0mself\u001b[0m\u001b[0;34m,\u001b[0m \u001b[0mitem\u001b[0m\u001b[0;34m)\u001b[0m\u001b[0;34m\u001b[0m\u001b[0;34m\u001b[0m\u001b[0m\n\u001b[0m\u001b[1;32m    653\u001b[0m \u001b[0;34m\u001b[0m\u001b[0m\n\u001b[1;32m    654\u001b[0m \u001b[0;31m# Syntactic sugar for scatter operations.\u001b[0m\u001b[0;34m\u001b[0m\u001b[0;34m\u001b[0m\u001b[0m\n",
            "\u001b[0;32m/usr/local/lib/python3.11/dist-packages/jax/_src/numpy/indexing.py\u001b[0m in \u001b[0;36mrewriting_take\u001b[0;34m(arr, idx, indices_are_sorted, unique_indices, mode, fill_value, out_sharding)\u001b[0m\n\u001b[1;32m    625\u001b[0m         \u001b[0;32mreturn\u001b[0m \u001b[0mlax\u001b[0m\u001b[0;34m.\u001b[0m\u001b[0mdynamic_index_in_dim\u001b[0m\u001b[0;34m(\u001b[0m\u001b[0marr\u001b[0m\u001b[0;34m,\u001b[0m \u001b[0midx\u001b[0m\u001b[0;34m,\u001b[0m \u001b[0mkeepdims\u001b[0m\u001b[0;34m=\u001b[0m\u001b[0;32mFalse\u001b[0m\u001b[0;34m)\u001b[0m\u001b[0;34m\u001b[0m\u001b[0;34m\u001b[0m\u001b[0m\n\u001b[1;32m    626\u001b[0m \u001b[0;34m\u001b[0m\u001b[0m\n\u001b[0;32m--> 627\u001b[0;31m   \u001b[0mtreedef\u001b[0m\u001b[0;34m,\u001b[0m \u001b[0mstatic_idx\u001b[0m\u001b[0;34m,\u001b[0m \u001b[0mdynamic_idx\u001b[0m \u001b[0;34m=\u001b[0m \u001b[0msplit_index_for_jit\u001b[0m\u001b[0;34m(\u001b[0m\u001b[0midx\u001b[0m\u001b[0;34m,\u001b[0m \u001b[0marr\u001b[0m\u001b[0;34m.\u001b[0m\u001b[0mshape\u001b[0m\u001b[0;34m)\u001b[0m\u001b[0;34m\u001b[0m\u001b[0;34m\u001b[0m\u001b[0m\n\u001b[0m\u001b[1;32m    628\u001b[0m   return _gather(arr, treedef, static_idx, dynamic_idx, indices_are_sorted,\n\u001b[1;32m    629\u001b[0m                  unique_indices, mode, fill_value, out_sharding)\n",
            "\u001b[0;32m/usr/local/lib/python3.11/dist-packages/jax/_src/numpy/indexing.py\u001b[0m in \u001b[0;36msplit_index_for_jit\u001b[0;34m(idx, shape)\u001b[0m\n\u001b[1;32m    713\u001b[0m   \u001b[0midx\u001b[0m \u001b[0;34m=\u001b[0m \u001b[0meliminate_deprecated_list_indexing\u001b[0m\u001b[0;34m(\u001b[0m\u001b[0midx\u001b[0m\u001b[0;34m)\u001b[0m\u001b[0;34m\u001b[0m\u001b[0;34m\u001b[0m\u001b[0m\n\u001b[1;32m    714\u001b[0m   \u001b[0;32mif\u001b[0m \u001b[0many\u001b[0m\u001b[0;34m(\u001b[0m\u001b[0misinstance\u001b[0m\u001b[0;34m(\u001b[0m\u001b[0mi\u001b[0m\u001b[0;34m,\u001b[0m \u001b[0mstr\u001b[0m\u001b[0;34m)\u001b[0m \u001b[0;32mfor\u001b[0m \u001b[0mi\u001b[0m \u001b[0;32min\u001b[0m \u001b[0midx\u001b[0m\u001b[0;34m)\u001b[0m\u001b[0;34m:\u001b[0m\u001b[0;34m\u001b[0m\u001b[0;34m\u001b[0m\u001b[0m\n\u001b[0;32m--> 715\u001b[0;31m     \u001b[0;32mraise\u001b[0m \u001b[0mTypeError\u001b[0m\u001b[0;34m(\u001b[0m\u001b[0;34mf\"JAX does not support string indexing; got {idx=}\"\u001b[0m\u001b[0;34m)\u001b[0m\u001b[0;34m\u001b[0m\u001b[0;34m\u001b[0m\u001b[0m\n\u001b[0m\u001b[1;32m    716\u001b[0m \u001b[0;34m\u001b[0m\u001b[0m\n\u001b[1;32m    717\u001b[0m   \u001b[0;31m# Expand any (concrete) boolean indices. We can then use advanced integer\u001b[0m\u001b[0;34m\u001b[0m\u001b[0;34m\u001b[0m\u001b[0m\n",
            "\u001b[0;31mTypeError\u001b[0m: JAX does not support string indexing; got idx=('k12',)"
          ]
        }
      ]
    },
    {
      "cell_type": "code",
      "source": [
        "import arviz as az\n",
        "\n",
        "# Convert samples to InferenceData object\n",
        "data = az.convert_to_inference_data(\n",
        "    {\"posterior\": samples},\n",
        "    coords={\"parameters\": list(xi_map.keys())},\n",
        "    dims={\"posterior\": [\"parameters\"]},\n",
        ")\n",
        "\n",
        "# Plot trace plots\n",
        "az.plot_trace(data)\n",
        "plt.show()\n",
        "\n",
        "# Print summary statistics\n",
        "summary = az.summary(data)\n",
        "print(summary)"
      ],
      "metadata": {
        "id": "ealNIqWXxb-B"
      },
      "execution_count": null,
      "outputs": []
    },
    {
      "cell_type": "code",
      "source": [
        "import seaborn as sns\n",
        "\n",
        "# Convert samples to DataFrame\n",
        "import pandas as pd\n",
        "df = pd.DataFrame(samples, columns=xi_map.keys())\n",
        "\n",
        "# Create scatterplot matrix\n",
        "sns.pairplot(df)\n",
        "plt.show()"
      ],
      "metadata": {
        "id": "hEYUQbpLxe0d"
      },
      "execution_count": null,
      "outputs": []
    },
    {
      "cell_type": "code",
      "source": [
        "# Time points for plotting\n",
        "t_plt = jnp.linspace(0, 12, 100)\n",
        "\n",
        "# Calculate concentrations for each posterior sample\n",
        "c1_posterior_samples = jax.vmap(solve_pk_iv_bolus, in_axes=(0, None, None))(vmap(constrain)(samples), t_plt, dosage_mass)\n",
        "\n",
        "# Calculate credible and predictive intervals\n",
        "q05_epistemic, q95_epistemic = jnp.quantile(c1_posterior_samples, jnp.array([0.05, 0.95]), axis=0)\n",
        "y_posterior_predictive_samples = c1_posterior_samples + sigma * jax.random.normal(jax.random.PRNGKey(0), shape=c1_posterior_samples.shape)\n",
        "q05_aleatoric, q95_aleatoric = jnp.quantile(y_posterior_predictive_samples, jnp.array([0.05, 0.95]), axis=0)\n",
        "\n",
        "# Plot\n",
        "plt.figure(figsize=(6, 4))\n",
        "plt.plot(t_plt, c1_posterior_samples[:10].T, color='tab:blue', lw=0.5, alpha=0.8)\n",
        "plt.fill_between(t_plt, q95_aleatoric, q95_epistemic, color='tab:orange', alpha=0.3, lw=0)\n",
        "plt.fill_between(t_plt, q95_epistemic, q05_epistemic, color='tab:blue', alpha=0.3, lw=0, label='Epistemic uncertainty')\n",
        "plt.fill_between(t_plt, q05_epistemic, q05_epistemic, color='tab:orange', alpha=0.3, lw=0, label='Aleatoric uncertainty')\n",
        "plt.scatter(times, concentrations, label='Observations', color='tab:red')\n",
        "plt.xlabel('Time (hr)')\n",
        "plt.ylabel('Concentration (g/L)')\n",
        "plt.title('Posterior samples', fontsize=14)\n",
        "plt.legend()\n",
        "sns.despine()\n",
        "plt.show()"
      ],
      "metadata": {
        "id": "Ji5EG2LuxgbR"
      },
      "execution_count": null,
      "outputs": []
    },
    {
      "cell_type": "code",
      "source": [
        "from scipy.integrate import trapz\n",
        "\n",
        "# Time points for AUC calculation\n",
        "t_auc = jnp.linspace(0, 36, 100)\n",
        "\n",
        "# Calculate AUC for each posterior sample\n",
        "auc_posterior_samples = jax.vmap(lambda theta: trapz(solve_pk_iv_bolus(theta, t_auc, dosage_mass), t_auc))(vmap(constrain)(samples))\n",
        "\n",
        "\n",
        "# Plot histogram\n",
        "plt.hist(auc_posterior_samples, bins=50)\n",
        "plt.xlabel(\"AUC\")\n",
        "plt.ylabel(\"Frequency\")\n",
        "plt.title(\"Posterior Distribution of AUC\")\n",
        "plt.show()"
      ],
      "metadata": {
        "id": "olmsGMd0xiff"
      },
      "execution_count": null,
      "outputs": []
    },
    {
      "cell_type": "markdown",
      "metadata": {
        "id": "zXBahVig_rbX"
      },
      "source": [
        "## Part E - Variational inference with mean-field Gaussian guide\n",
        "\n",
        "**Do the following:**\n",
        "- Construct a mean-field multivariate Gaussian guide (i.e., diagonal covariance matrix)\n",
        "\n",
        "$$\n",
        "q_\\phi(\\xi)=\\mathcal{N}(\\xi| \\mu_\\phi, \\sigma_\\phi I).\n",
        "$$\n",
        "\n",
        "- Maximize the Evidence Lower Bound (ELBO) with respect to the guide parameters $\\phi$ so that the guide approximates the posterior, i.e.\n",
        "\n",
        "$$\n",
        "q_\\phi\\approx p(\\xi|\\mathbf{t}, \\mathbf{y}, \\sigma).\n",
        "$$\n",
        "&emsp;&emsp;&ensp;(Hint: See [this hands-on activity implementing VI with a full-rank Gaussian guide](https://predictivesciencelab.github.io/advanced-scientific-machine-learning/inverse/vi/02_catalysis.html).\n",
        "If you use `FullRankGaussianGuide` from the hands-on activity, at a minimum you will need to modify `Sigma`, `forward`, and `get_num_guide_params` to match the form of a mean-field Gaussian guide.\n",
        ")\n",
        "\n",
        "- Argue whether the optimization converged.\n",
        "- Collect 5,000 (approximate) posterior samples of $\\xi$ from the trained guide.\n",
        "- Plot all the $\\xi$ samples onto a scatterplot matrix.\n",
        "Overlay the MCMC samples from part D.\n",
        "Use transparency so that both VI and MCMC samples are visible.\n",
        "How well does mean-field Gaussian VI approximate the posterior?\n",
        "- As in parts B and D, compute the concentration $c_1$ for each posterior sample, over the time interval $[0, 12]$.\n",
        "Plot the 95% credible interval, 95% predictive interval, and a few samples from the posterior.\n",
        "- Plot a histogram of the AUCs of the posterior samples.\n",
        "Overlay (with transparency) the AUC histogram from part D (MCMC).\n",
        "Do they match?"
      ]
    },
    {
      "cell_type": "markdown",
      "metadata": {
        "id": "BlQIo0gV_rbX"
      },
      "source": [
        "**Your answer here:** <br>"
      ]
    },
    {
      "cell_type": "code",
      "source": [
        "import json\n",
        "import numpy as np\n",
        "\n",
        "with open('iv_bolus_data_multiple_patients.json', 'r') as f:\n",
        "    multi_patient_data = json.load(f)\n",
        "\n",
        "# Extract data for each patient\n",
        "times_multi = [np.array(patient_data['times']) for patient_data in multi_patient_data]\n",
        "concentrations_multi = [np.array(patient_data['concentrations']) for patient_data in multi_patient_data]\n",
        "dosage_mass_multi = [patient_data['dosage_mass'] for patient_data in multi_patient_data]"
      ],
      "metadata": {
        "id": "B2v3vP_DxwHI"
      },
      "execution_count": null,
      "outputs": []
    },
    {
      "cell_type": "code",
      "source": [
        "@jit\n",
        "def log_posterior_multi(xi, times_multi, concentrations_multi, dosage_mass_multi, sigma=sigma):\n",
        "    log_prior = calculate_log_prior(xi)  # Assuming you have a function for log_prior\n",
        "    log_likelihood_total = 0\n",
        "\n",
        "    for times, concentrations, dosage_mass in zip(times_multi, concentrations_multi, dosage_mass_multi):\n",
        "        params = constrain(xi)\n",
        "        c1 = solve_pk_iv_bolus(params, times, dosage_mass)\n",
        "        log_likelihood = jnp.sum(jax.scipy.stats.norm.logpdf(concentrations, loc=c1, scale=sigma))\n",
        "        log_likelihood_total += log_likelihood\n",
        "\n",
        "    log_det_jac = calculate_log_det_jac(xi)  # Assuming you have a function for log_det_jac\n",
        "\n",
        "    return log_prior + log_likelihood_total + log_det_jac"
      ],
      "metadata": {
        "id": "PwxN8DBAx1ga"
      },
      "execution_count": null,
      "outputs": []
    },
    {
      "cell_type": "code",
      "source": [
        "# Define the objective function (negative log posterior)\n",
        "objective_function_multi = lambda xi: -log_posterior_multi(xi, times_multi, concentrations_multi, dosage_mass_multi)\n",
        "\n",
        "# Initialize the optimizer\n",
        "step_size = 0.01\n",
        "opt_init, opt_update, get_params = optimizers.adam(step_size)\n",
        "\n",
        "# Initialize parameters\n",
        "xi_init = {'k12': 0.0, 'k21': 0.0, 'kd': 0.0, 'V': 4.0}\n",
        "opt_state = opt_init(xi_init)\n",
        "\n",
        "# Optimization loop\n",
        "num_iterations = 10000\n",
        "losses = []\n",
        "for i in range(num_iterations):\n",
        "    loss, grads = jax.value_and_grad(objective_function_multi)(get_params(opt_state))\n",
        "    opt_state = opt_update(i, grads, opt_state)\n",
        "    losses.append(loss)\n",
        "\n",
        "# Get the MAP estimate\n",
        "xi_map_multi = get_params(opt_state)\n",
        "theta_map_multi = constrain(xi_map_multi)"
      ],
      "metadata": {
        "id": "bfj3bwzyx4Q1"
      },
      "execution_count": null,
      "outputs": []
    },
    {
      "cell_type": "code",
      "source": [
        "# Initialize the NUTS sampler\n",
        "nuts_multi = blackjax.nuts(logprob_fn_multi, step_size=0.1)  # Define logprob_fn_multi\n",
        "\n",
        "# Initialize the chains\n",
        "initial_states_multi = [xi_map_multi] * num_chains\n",
        "keys_multi = jax.random.split(jax.random.PRNGKey(1), num_chains)\n",
        "\n",
        "# Run the sampler\n",
        "states_multi, infos_multi = jax.vmap(nuts_multi.run, in_axes=(0, 0))(keys_multi, initial_states_multi)\n",
        "samples_multi = states_multi.position"
      ],
      "metadata": {
        "id": "wQQOYtiFx56J"
      },
      "execution_count": null,
      "outputs": []
    },
    {
      "cell_type": "markdown",
      "metadata": {
        "id": "u4SiDR6y_rbX"
      },
      "source": [
        "## Part F - Variational inference with full-rank Gaussian guide\n",
        "\n",
        "**Do the following:**\n",
        "- Construct a full-rank multivariate Gaussian guide\n",
        "\n",
        "$$\n",
        "\\begin{align*}\n",
        "q_\\phi(\\xi) &=\\mathcal{N}(\\xi| \\mu_\\phi, \\Sigma_\\phi) \\\\\n",
        "\\Sigma_\\phi &= L_\\phi L_\\phi^T \\\\\n",
        "\\end{align*}\n",
        "$$\n",
        "&emsp;&emsp;&ensp;where $L_\\phi$ is a lower-triangular matrix parameterized by $\\phi$.\n",
        "\n",
        "- Repeat the steps from part E (including the plots) using the new guide.\n",
        "- How do the full-rank and mean-field VI approximations compare?"
      ]
    },
    {
      "cell_type": "markdown",
      "metadata": {
        "id": "s05sgj7-_rbX"
      },
      "source": [
        "**Your answer here:** <br>"
      ]
    },
    {
      "cell_type": "code",
      "source": [
        "import numpyro\n",
        "import numpyro.distributions as dist\n",
        "\n",
        "def hierarchical_model(times_multi, concentrations_multi, dosage_mass_multi, sigma=sigma, new_patient_times=None, new_patient_dosage_mass=None):\n",
        "    # Hyperparameters for population distribution\n",
        "    k12_pop_mean = numpyro.sample(\"k12_pop_mean\", dist.Normal(0, 1))\n",
        "    k21_pop_mean = numpyro.sample(\"k21_pop_mean\", dist.Normal(0, 1))\n",
        "    kd_pop_mean = numpyro.sample(\"kd_pop_mean\", dist.Normal(0, 1))\n",
        "    V_pop_mean = numpyro.sample(\"V_pop_mean\", dist.Normal(4, 1))\n",
        "\n",
        "    # Hyperparameters for population variance (using half-Cauchy priors)\n",
        "    k12_pop_sigma = numpyro.sample(\"k12_pop_sigma\", dist.HalfCauchy(1))\n",
        "    k21_pop_sigma = numpyro.sample(\"k21_pop_sigma\", dist.HalfCauchy(1))\n",
        "    kd_pop_sigma = numpyro.sample(\"kd_pop_sigma\", dist.HalfCauchy(1))\n",
        "    V_pop_sigma = numpyro.sample(\"V_pop_sigma\", dist.HalfCauchy(1))\n",
        "\n",
        "    with numpyro.plate(\"patients\", len(times_multi)):\n",
        "        # Patient-specific parameters drawn from population distribution\n",
        "        k12 = numpyro.sample(\"k12\", dist.LogNormal(k12_pop_mean, k12_pop_sigma))\n",
        "        k21 = numpyro.sample(\"k21\", dist.LogNormal(k21_pop_mean, k21_pop_sigma))\n",
        "        kd = numpyro.sample(\"kd\", dist.LogNormal(kd_pop_mean, kd_pop_sigma))\n",
        "        V = numpyro.sample(\"V\", dist.LogNormal(V_pop_mean, V_pop_sigma))\n",
        "\n",
        "        # Likelihood for each patient\n",
        "        params = {\"k12\": k12, \"k21\": k21, \"kd\": kd, \"V\": V}\n",
        "        c1 = solve_pk_iv_bolus(params, times_multi, dosage_mass_multi)\n",
        "        with numpyro.plate(\"data\", len(times_multi)):\n",
        "            numpyro.sample(\"obs\", dist.Normal(c1, sigma), obs=concentrations_multi)\n",
        "\n",
        "    # Prediction for new patient\n",
        "    if new_patient_times is not None and new_patient_dosage_mass is not None:\n",
        "        # Draw patient-specific parameters for the new patient\n",
        "        k12_new = numpyro.sample(\"k12_new\", dist.LogNormal(k12_pop_mean, k12_pop_sigma))\n",
        "        k21_new = numpyro.sample(\"k21_new\", dist.LogNormal(k21_pop_mean, k21_pop_sigma))\n",
        "        kd_new = numpyro.sample(\"kd_new\", dist.LogNormal(kd_pop_mean, kd_pop_sigma))\n",
        "        V_new = numpyro.sample(\"V_new\", dist.LogNormal(V_pop_mean, V_pop_sigma))\n",
        "\n",
        "        # Predict concentration for the new patient\n",
        "        params_new = {\"k12\": k12_new, \"k21\": k21_new, \"kd\": kd_new, \"V\": V_new}\n",
        "        c1_new = solve_pk_iv_bolus(params_new, new_patient_times, new_patient_dosage_mass)\n",
        "\n",
        "        return c1_new"
      ],
      "metadata": {
        "id": "RTs37-BmyQH1"
      },
      "execution_count": null,
      "outputs": []
    },
    {
      "cell_type": "code",
      "source": [
        "import jax.random as jr\n",
        "from numpyro.infer import MCMC, NUTS\n",
        "\n",
        "# Initialize MCMC\n",
        "num_warmup = 1000\n",
        "num_samples = 1000\n",
        "mcmc = MCMC(NUTS(hierarchical_model), num_warmup=num_warmup, num_samples=num_samples)\n",
        "\n",
        "# Run MCMC\n",
        "rng_key = jr.PRNGKey(0)\n",
        "mcmc.run(\n",
        "    rng_key,\n",
        "    times_multi,\n",
        "    concentrations_multi,\n",
        "    dosage_mass_multi,\n",
        "    sigma=sigma,\n",
        ")\n",
        "\n",
        "# Get posterior samples\n",
        "posterior_samples = mcmc.get_samples()"
      ],
      "metadata": {
        "id": "Tqsu93xdySQg"
      },
      "execution_count": null,
      "outputs": []
    },
    {
      "cell_type": "code",
      "source": [
        "# Define new patient data\n",
        "new_patient_times = jnp.linspace(0, 12, 50)  # Time points for prediction\n",
        "new_patient_dosage_mass = 1.0  # Dosage mass for new patient\n",
        "\n",
        "# Predict concentration for new patient using posterior samples\n",
        "predictions = numpyro.infer.Predictive(hierarchical_model, posterior_samples)(\n",
        "    rng_key,\n",
        "    times_multi,\n",
        "    concentrations_multi,\n",
        "    dosage_mass_multi,\n",
        "    sigma=sigma,\n",
        "    new_patient_times=new_patient_times,\n",
        "    new_patient_dosage_mass=new_patient_dosage_mass\n",
        ")\n",
        "c1_new_samples = predictions['obs']\n",
        "\n",
        "# Calculate credible interval and mean prediction\n",
        "q05, q95 = jnp.quantile(c1_new_samples, jnp.array([0.05, 0.95]), axis=0)\n",
        "mean_prediction = jnp.mean(c1_new_samples, axis=0)"
      ],
      "metadata": {
        "id": "BuI4PB08yWlG"
      },
      "execution_count": null,
      "outputs": []
    },
    {
      "cell_type": "code",
      "source": [
        "plt.plot(new_patient_times, mean_prediction, label=\"Mean Prediction\")\n",
        "plt.fill_between(new_patient_times, q05, q95, alpha=0.3, label=\"95% Credible Interval\")\n",
        "plt.xlabel(\"Time (hr)\")\n",
        "plt.ylabel(\"Concentration (g/L)\")\n",
        "plt.title(\"Prediction for New Patient\")\n",
        "plt.legend()\n",
        "plt.show()"
      ],
      "metadata": {
        "id": "OIvnORJSyX7e"
      },
      "execution_count": null,
      "outputs": []
    }
  ],
  "metadata": {
    "kernelspec": {
      "display_name": "Python 3 (ipykernel)",
      "language": "python",
      "name": "python3"
    },
    "language_info": {
      "codemirror_mode": {
        "name": "ipython",
        "version": 3
      },
      "file_extension": ".py",
      "mimetype": "text/x-python",
      "name": "python",
      "nbconvert_exporter": "python",
      "pygments_lexer": "ipython3",
      "version": "3.11.11"
    },
    "colab": {
      "provenance": []
    }
  },
  "nbformat": 4,
  "nbformat_minor": 0
}