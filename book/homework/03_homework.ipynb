{
  "cells": [
    {
      "cell_type": "code",
      "execution_count": 1,
      "metadata": {
        "tags": [
          "hide-input",
          "hide-output"
        ],
        "colab": {
          "base_uri": "https://localhost:8080/"
        },
        "id": "7Ea-8ACGvjgN",
        "outputId": "c5503763-4a23-47e8-87c9-aae2d20d6e77"
      },
      "outputs": [
        {
          "output_type": "stream",
          "name": "stdout",
          "text": [
            "Collecting diffrax\n",
            "  Downloading diffrax-0.6.2-py3-none-any.whl.metadata (17 kB)\n",
            "Collecting equinox>=0.11.10 (from diffrax)\n",
            "  Downloading equinox-0.11.11-py3-none-any.whl.metadata (18 kB)\n",
            "Collecting jax>=0.4.38 (from diffrax)\n",
            "  Downloading jax-0.5.0-py3-none-any.whl.metadata (22 kB)\n",
            "Collecting jaxtyping>=0.2.24 (from diffrax)\n",
            "  Downloading jaxtyping-0.2.38-py3-none-any.whl.metadata (6.6 kB)\n",
            "Collecting lineax>=0.0.5 (from diffrax)\n",
            "  Downloading lineax-0.0.7-py3-none-any.whl.metadata (17 kB)\n",
            "Collecting optimistix>=0.0.7 (from diffrax)\n",
            "  Downloading optimistix-0.0.10-py3-none-any.whl.metadata (17 kB)\n",
            "Collecting typeguard==2.13.3 (from diffrax)\n",
            "  Downloading typeguard-2.13.3-py3-none-any.whl.metadata (3.6 kB)\n",
            "Requirement already satisfied: typing-extensions>=4.5.0 in /usr/local/lib/python3.11/dist-packages (from diffrax) (4.12.2)\n",
            "Collecting jaxlib<=0.5.0,>=0.5.0 (from jax>=0.4.38->diffrax)\n",
            "  Downloading jaxlib-0.5.0-cp311-cp311-manylinux2014_x86_64.whl.metadata (978 bytes)\n",
            "Requirement already satisfied: ml_dtypes>=0.4.0 in /usr/local/lib/python3.11/dist-packages (from jax>=0.4.38->diffrax) (0.4.1)\n",
            "Requirement already satisfied: numpy>=1.25 in /usr/local/lib/python3.11/dist-packages (from jax>=0.4.38->diffrax) (1.26.4)\n",
            "Requirement already satisfied: opt_einsum in /usr/local/lib/python3.11/dist-packages (from jax>=0.4.38->diffrax) (3.4.0)\n",
            "Requirement already satisfied: scipy>=1.11.1 in /usr/local/lib/python3.11/dist-packages (from jax>=0.4.38->diffrax) (1.13.1)\n",
            "Collecting wadler-lindig>=0.1.3 (from jaxtyping>=0.2.24->diffrax)\n",
            "  Downloading wadler_lindig-0.1.3-py3-none-any.whl.metadata (17 kB)\n",
            "Downloading diffrax-0.6.2-py3-none-any.whl (187 kB)\n",
            "\u001b[2K   \u001b[90m━━━━━━━━━━━━━━━━━━━━━━━━━━━━━━━━━━━━━━━━\u001b[0m \u001b[32m187.2/187.2 kB\u001b[0m \u001b[31m5.5 MB/s\u001b[0m eta \u001b[36m0:00:00\u001b[0m\n",
            "\u001b[?25hDownloading typeguard-2.13.3-py3-none-any.whl (17 kB)\n",
            "Downloading equinox-0.11.11-py3-none-any.whl (179 kB)\n",
            "\u001b[2K   \u001b[90m━━━━━━━━━━━━━━━━━━━━━━━━━━━━━━━━━━━━━━━━\u001b[0m \u001b[32m179.2/179.2 kB\u001b[0m \u001b[31m9.9 MB/s\u001b[0m eta \u001b[36m0:00:00\u001b[0m\n",
            "\u001b[?25hDownloading jax-0.5.0-py3-none-any.whl (2.3 MB)\n",
            "\u001b[2K   \u001b[90m━━━━━━━━━━━━━━━━━━━━━━━━━━━━━━━━━━━━━━━━\u001b[0m \u001b[32m2.3/2.3 MB\u001b[0m \u001b[31m44.8 MB/s\u001b[0m eta \u001b[36m0:00:00\u001b[0m\n",
            "\u001b[?25hDownloading jaxtyping-0.2.38-py3-none-any.whl (56 kB)\n",
            "\u001b[2K   \u001b[90m━━━━━━━━━━━━━━━━━━━━━━━━━━━━━━━━━━━━━━━━\u001b[0m \u001b[32m56.4/56.4 kB\u001b[0m \u001b[31m4.7 MB/s\u001b[0m eta \u001b[36m0:00:00\u001b[0m\n",
            "\u001b[?25hDownloading lineax-0.0.7-py3-none-any.whl (67 kB)\n",
            "\u001b[2K   \u001b[90m━━━━━━━━━━━━━━━━━━━━━━━━━━━━━━━━━━━━━━━━\u001b[0m \u001b[32m67.3/67.3 kB\u001b[0m \u001b[31m5.2 MB/s\u001b[0m eta \u001b[36m0:00:00\u001b[0m\n",
            "\u001b[?25hDownloading optimistix-0.0.10-py3-none-any.whl (84 kB)\n",
            "\u001b[2K   \u001b[90m━━━━━━━━━━━━━━━━━━━━━━━━━━━━━━━━━━━━━━━━\u001b[0m \u001b[32m84.3/84.3 kB\u001b[0m \u001b[31m6.2 MB/s\u001b[0m eta \u001b[36m0:00:00\u001b[0m\n",
            "\u001b[?25hDownloading jaxlib-0.5.0-cp311-cp311-manylinux2014_x86_64.whl (102.0 MB)\n",
            "\u001b[2K   \u001b[90m━━━━━━━━━━━━━━━━━━━━━━━━━━━━━━━━━━━━━━━━\u001b[0m \u001b[32m102.0/102.0 MB\u001b[0m \u001b[31m6.0 MB/s\u001b[0m eta \u001b[36m0:00:00\u001b[0m\n",
            "\u001b[?25hDownloading wadler_lindig-0.1.3-py3-none-any.whl (20 kB)\n",
            "Installing collected packages: wadler-lindig, typeguard, jaxtyping, jaxlib, jax, equinox, lineax, optimistix, diffrax\n",
            "  Attempting uninstall: typeguard\n",
            "    Found existing installation: typeguard 4.4.1\n",
            "    Uninstalling typeguard-4.4.1:\n",
            "      Successfully uninstalled typeguard-4.4.1\n",
            "  Attempting uninstall: jaxlib\n",
            "    Found existing installation: jaxlib 0.4.33\n",
            "    Uninstalling jaxlib-0.4.33:\n",
            "      Successfully uninstalled jaxlib-0.4.33\n",
            "  Attempting uninstall: jax\n",
            "    Found existing installation: jax 0.4.33\n",
            "    Uninstalling jax-0.4.33:\n",
            "      Successfully uninstalled jax-0.4.33\n",
            "\u001b[31mERROR: pip's dependency resolver does not currently take into account all the packages that are installed. This behaviour is the source of the following dependency conflicts.\n",
            "inflect 7.5.0 requires typeguard>=4.0.1, but you have typeguard 2.13.3 which is incompatible.\u001b[0m\u001b[31m\n",
            "\u001b[0mSuccessfully installed diffrax-0.6.2 equinox-0.11.11 jax-0.5.0 jaxlib-0.5.0 jaxtyping-0.2.38 lineax-0.0.7 optimistix-0.0.10 typeguard-2.13.3 wadler-lindig-0.1.3\n",
            "Collecting orthojax\n",
            "  Downloading orthojax-0.1.5.tar.gz (6.1 kB)\n",
            "  Preparing metadata (setup.py) ... \u001b[?25l\u001b[?25hdone\n",
            "Requirement already satisfied: jax>=0.4.19 in /usr/local/lib/python3.11/dist-packages (from orthojax) (0.5.0)\n",
            "Requirement already satisfied: numpy in /usr/local/lib/python3.11/dist-packages (from orthojax) (1.26.4)\n",
            "Requirement already satisfied: equinox>=0.11.2 in /usr/local/lib/python3.11/dist-packages (from orthojax) (0.11.11)\n",
            "Requirement already satisfied: jaxtyping>=0.2.20 in /usr/local/lib/python3.11/dist-packages (from equinox>=0.11.2->orthojax) (0.2.38)\n",
            "Requirement already satisfied: typing-extensions>=4.5.0 in /usr/local/lib/python3.11/dist-packages (from equinox>=0.11.2->orthojax) (4.12.2)\n",
            "Requirement already satisfied: jaxlib<=0.5.0,>=0.5.0 in /usr/local/lib/python3.11/dist-packages (from jax>=0.4.19->orthojax) (0.5.0)\n",
            "Requirement already satisfied: ml_dtypes>=0.4.0 in /usr/local/lib/python3.11/dist-packages (from jax>=0.4.19->orthojax) (0.4.1)\n",
            "Requirement already satisfied: opt_einsum in /usr/local/lib/python3.11/dist-packages (from jax>=0.4.19->orthojax) (3.4.0)\n",
            "Requirement already satisfied: scipy>=1.11.1 in /usr/local/lib/python3.11/dist-packages (from jax>=0.4.19->orthojax) (1.13.1)\n",
            "Requirement already satisfied: wadler-lindig>=0.1.3 in /usr/local/lib/python3.11/dist-packages (from jaxtyping>=0.2.20->equinox>=0.11.2->orthojax) (0.1.3)\n",
            "Building wheels for collected packages: orthojax\n",
            "  Building wheel for orthojax (setup.py) ... \u001b[?25l\u001b[?25hdone\n",
            "  Created wheel for orthojax: filename=orthojax-0.1.5-py3-none-any.whl size=6767 sha256=a0b61fb82de2ae3dad8503c6878a6e3499acbd134a9aa6eae01c875a8dd3bbee\n",
            "  Stored in directory: /root/.cache/pip/wheels/5c/8d/63/9346611e61262d948b1da18df1c6898027f71455c884a2280a\n",
            "Successfully built orthojax\n",
            "Installing collected packages: orthojax\n",
            "Successfully installed orthojax-0.1.5\n",
            "Collecting git+https://github.com/PredictiveScienceLab/py-design\n",
            "  Cloning https://github.com/PredictiveScienceLab/py-design to /tmp/pip-req-build-9vi37p8q\n",
            "  Running command git clone --filter=blob:none --quiet https://github.com/PredictiveScienceLab/py-design /tmp/pip-req-build-9vi37p8q\n",
            "  Resolved https://github.com/PredictiveScienceLab/py-design to commit 7233a686cfed9c325fe168e02d71317003b4a9a2\n",
            "  Installing build dependencies ... \u001b[?25l\u001b[?25hdone\n",
            "  Getting requirements to build wheel ... \u001b[?25l\u001b[?25hdone\n",
            "  Installing backend dependencies ... \u001b[?25l\u001b[?25hdone\n",
            "  Preparing metadata (pyproject.toml) ... \u001b[?25l\u001b[?25hdone\n",
            "Requirement already satisfied: numpy in /usr/local/lib/python3.11/dist-packages (from py-design==2.1) (1.26.4)\n",
            "Building wheels for collected packages: py-design\n",
            "  Building wheel for py-design (pyproject.toml) ... \u001b[?25l\u001b[?25hdone\n",
            "  Created wheel for py-design: filename=py_design-2.1-cp311-cp311-linux_x86_64.whl size=214237 sha256=039fd5a797ddb15bf40caf3c66ee6c0ae337c68d3a196e1db9222e0fe59c07aa\n",
            "  Stored in directory: /tmp/pip-ephem-wheel-cache-nuaiw444/wheels/e3/48/a1/e1662a30d5d91f3e947ec9146e4d3fd72596f5aa726d3c61ca\n",
            "Successfully built py-design\n",
            "Installing collected packages: py-design\n",
            "Successfully installed py-design-2.1\n"
          ]
        }
      ],
      "source": [
        "!pip install diffrax\n",
        "!pip install orthojax --upgrade\n",
        "!pip install git+https://github.com/PredictiveScienceLab/py-design\n",
        "\n",
        "import matplotlib.pyplot as plt\n",
        "%matplotlib inline\n",
        "import matplotlib_inline\n",
        "matplotlib_inline.backend_inline.set_matplotlib_formats('png')\n",
        "import seaborn as sns\n",
        "sns.set_context(\"paper\")\n",
        "sns.set_style(\"ticks\");"
      ]
    },
    {
      "cell_type": "markdown",
      "metadata": {
        "id": "pmiYsqzBvjgO"
      },
      "source": [
        "# Homework 3\n",
        "\n",
        "## References\n",
        "\n",
        "+ Module 3: Uncertainty Propagation Through Scientific Models\n",
        "    - Polynomial chaos\n",
        "\n",
        "## Instructions\n",
        "\n",
        "+ Type your name and email in the \"Student details\" section below.\n",
        "+ Develop the code and generate the figures you need to solve the problems using this notebook.\n",
        "+ For the answers that require a mathematical proof or derivation you should type them using latex. If you have never written latex before and you find it exceedingly difficult, we will likely accept handwritten solutions.\n",
        "+ The total homework points are 100. Please note that the problems are not weighed equally.\n",
        "\n",
        "## Student details\n",
        "\n",
        "+ **First Name:** Seth\n",
        "+ **Last Name:** Honnigford\n",
        "+ **Email:** shonnigf@purdue.edu\n",
        "+ **Used generative AI to complete this assignment (Yes/No):** Yes\n",
        "+ **Which generative AI tool did you use (if applicable)?:** DeepSeek"
      ]
    },
    {
      "cell_type": "markdown",
      "metadata": {
        "id": "MZHChAeRvjgP"
      },
      "source": [
        "# Problem 1 - The Pythagorean theorem on Hilbert Spaces\n",
        "\n",
        "Let $H$ be a Hilbert space with inner product $\\langle \\cdot, \\cdot \\rangle$ and norm $\\| \\cdot \\|$. Let $x, y \\in H$.\n",
        "\n",
        "## Part A\n",
        "Prove that if $x$ and $y$ are orthogonal, then the Pythagorean theorem holds, i.e.,\n",
        "\n",
        "$$\n",
        "\\| x + y \\|^2 = \\| x \\|^2 + \\| y \\|^2.\n",
        "$$\n",
        "\n",
        "*Hint:* Use the fact that $\\| x + y \\|^2 = \\langle x + y, x + y \\rangle$.\n",
        "\n",
        "**Answer:**"
      ]
    },
    {
      "cell_type": "markdown",
      "metadata": {
        "id": "jEJbcEjavjgP"
      },
      "source": [
        "We start with:\n",
        "\n",
        "$$\n",
        "\\| x + y \\|^2 = \\langle x + y, x + y \\rangle\n",
        "$$\n",
        "\n",
        "The inner product of $x + y$ with itself can be expanded:\n",
        "\n",
        "$$\n",
        "\\langle x + y, x + y \\rangle = \\langle x, x \\rangle + \\langle x, y \\rangle + \\langle y, x \\rangle + \\langle y, y \\rangle\n",
        "$$\n",
        "\n",
        "However, since $x$ and $y$ are orthogonal, $\\langle x, y \\rangle$, and $\\langle y, x \\rangle$ are both equal to 0.\n",
        "\n",
        "So we are left with:\n",
        "\n",
        "$$\n",
        "\\langle x + y, x + y \\rangle = \\langle x, x \\rangle + \\langle y, y \\rangle\n",
        "$$\n",
        "\n",
        "Using the fact that $\\langle x, x \\rangle = \\|x \\|^2$, and $\\langle y, y \\rangle = \\|y \\|^2$ in conjunction with the first line, we get:\n",
        "\n",
        "$$\n",
        "\\|x + y \\|^2 = \\|x \\|^2 + \\|y \\|^2\n",
        "$$\n",
        "\n",
        "This proves that the pythagorean theorem holds as long as x and y are orthogonal."
      ]
    },
    {
      "cell_type": "markdown",
      "metadata": {
        "id": "TwiF751ZvjgP"
      },
      "source": [
        "## Part B\n",
        "\n",
        "Prove the following generalization of the Pythagorean theorem.\n",
        "Let $x_1,x_2,\\dots,x_n \\in H$ be pairwise orthogonal, i.e., $\\langle x_i, x_j \\rangle = 0$ for all $i \\neq j$. Then,\n",
        "\n",
        "$$\n",
        "\\| x_1 + x_2 + \\dots + x_n \\|^2 = \\| x_1 \\|^2 + \\| x_2 \\|^2 + \\dots + \\| x_n \\|^2.\n",
        "$$\n",
        "\n",
        "*Hint:* Use induction and the result from Part A.\n",
        "\n",
        "**Answer:**"
      ]
    },
    {
      "cell_type": "markdown",
      "metadata": {
        "id": "nxTiTDEKvjgQ"
      },
      "source": [
        "Since we know a base case of $n = 2$ as shown in part A, all that is needed for induction is to prove the $n = k + 1$ case.\n",
        "\n",
        "We first assume that the $n = k$ case is true. Let $S = x_1 + x_2 + \\dots + x_k$. Now using the same trick as in part A:\n",
        "\n",
        "$$\n",
        "\\|S + x_{k+1} \\|^2 = \\langle S + x_{k+1}, S + x_{k+1} \\rangle\n",
        "$$\n",
        "\n",
        "Expanding the inner product:\n",
        "\n",
        "$$\n",
        "\\langle S + x_{k+1}, S + x_{k+1} \\rangle = \\langle S, S \\rangle + \\langle S, x_{k+1} \\rangle + \\langle x_{k+1}, S \\rangle + \\langle x_{k+1}, x_{k+1} \\rangle\n",
        "$$\n",
        "\n",
        "Since $S$ and $x_{k+1}$ are orthogonal, we can simplify this to:\n",
        "\n",
        "$$\n",
        "\\|S + x_{k+1} \\|^2 = \\langle S + x_{k+1}, S + x_{k+1} \\rangle = \\langle S, S \\rangle + \\langle x_{k+1}, x_{k+1} \\rangle\n",
        "$$\n",
        "\n",
        "It follows:\n",
        "\n",
        "$$\n",
        "\\|S + x_{k+1} \\|^2 = \\|S \\|^2 + \\|x_{k+1} \\|^2\n",
        "$$\n",
        "\n",
        "Substituting $x_1 + x_2 + \\dots + x_k$ for $S$:\n",
        "\n",
        "$$\n",
        "\\|x_1 + x_2 + \\dots + x_k + x_{k+1} \\|^2 = \\|x_1 + x_2 + \\dots + x_k \\|^2 + \\|x_{k+1} \\|^2\n",
        "$$\n",
        "\n",
        "And since we assumed the case $n = k$ to be true, that means:\n",
        "\n",
        "$$\n",
        "\\|x_1 + x_2 + \\dots + x_k \\|^2 = \\|x_1 \\|^2 + \\|x_2 \\|^2 + \\dots + \\|x_k \\|^2\n",
        "$$\n",
        "\n",
        "And so it follows that:\n",
        "\n",
        "$$\n",
        "\\|x_1 + x_2 + \\dots + x_k + x_{k+1} \\|^2 = \\|x_1 \\|^2 + \\|x_2 \\|^2 + \\dots + \\|x_k \\|^2 + \\|x_{k+1} \\|^2\n",
        "$$\n",
        "\n",
        "Thus proving the generalization of the pythagorean theorem by use of induction."
      ]
    },
    {
      "cell_type": "markdown",
      "metadata": {
        "id": "VuLhP4GbvjgQ"
      },
      "source": [
        "# Problem 2 - All infinite dimensional separable Hilbert spaces are isomorphic to $\\ell^2$\n",
        "\n",
        "An infinite dimensional Hilbert space $H$ are isomorphic to $\\ell^2$, the space of square summable sequences of real numbers. In this problem we will prove this result.\n",
        "Intuitively, this means that we can think of vectors in $H$ as infinite dimensional vectors in $\\ell^2$.\n",
        "It is as if the space $H$ is a relabeling of the space $\\ell^2$.\n",
        "First, recall that\n",
        "\n",
        "$$\n",
        "\\ell^2 = \\left\\{ a = (a_1, a_2, \\dots) \\mid \\sum_{i=1}^\\infty |a_i|^2 < \\infty \\right\\}.\n",
        "$$\n",
        "\n",
        "The innner product in $\\ell^2$ is given by\n",
        "\n",
        "$$\n",
        "\\langle a, b \\rangle_{\\ell^2} = \\sum_{i=1}^\\infty a_i b_i,\n",
        "$$\n",
        "\n",
        "for all $a, b \\in \\ell^2$.\n",
        "\n",
        "To show that two spaces are isomorphic, we need to show that there exists a bijective linear map between them which keeps the inner product intact.\n",
        "Bijection means that the map is one-to-one and onto.\n",
        "So, we need to find an invertible, linear map:\n",
        "\n",
        "$$\n",
        "T: H \\to \\ell^2.\n",
        "$$\n",
        "\n",
        "To keep the inner product intact, we need to show that for all $x, y \\in H$,\n",
        "\n",
        "$$\n",
        "\\langle x, y \\rangle = \\langle T(x), T(y) \\rangle_{\\ell^2}.\n",
        "$$\n",
        "\n",
        "Here, on the left we have the inner product in $H$ and on the right we have the inner product in $\\ell^2$.\n",
        "If the inner products are intact, orthogonality is preserved by $T$.\n",
        "And also norms are preserved, since $\\| x \\| = \\sqrt{\\langle x, x \\rangle}$.\n",
        "\n",
        "Okay, this is what you will have to do.\n",
        "I will give you the right $T$ and you will have to show that it is linear, invertible, and keeps the inner product intact.\n",
        "\n",
        "Recall that since $H$ is separable, it has a countable orthonormal basis $\\{ e_1, e_2, \\dots \\}$.\n",
        "This means that every vector $x \\in H$ can be written as\n",
        "\n",
        "$$\n",
        "    x = \\sum_{i=1}^\\infty \\langle x, e_i \\rangle e_i.\n",
        "$$\n",
        "\n",
        "The idea is to use the Fourier coefficients $\\langle x, e_i \\rangle$ as the entries of the vector $T(x)$, i.e., we define:\n",
        "\n",
        "$$\n",
        "T(x) = ( \\langle x, e_1 \\rangle, \\langle x, e_2 \\rangle, \\dots ).\n",
        "$$\n",
        "\n",
        "## Part A\n",
        "\n",
        "Show that $T(x)$ is indeed in $\\ell^2$ for all $x \\in H$. That is, show that $\\sum_{i=1}^\\infty |\\langle x, e_i \\rangle|^2 < \\infty$.\n",
        "\n",
        "*Hint:* Use Parseval's identity.\n",
        "\n",
        "**Answer:**"
      ]
    },
    {
      "cell_type": "markdown",
      "metadata": {
        "id": "u1hqlgQ6vjgQ"
      },
      "source": [
        "We first start with Parseval's identity which states that for any $x \\in H$, the sum of the squares of the sum of the squares of the absolute values of the Fourier coefficients is equal to the square of the norm of x, or:\n",
        "\n",
        "$$\n",
        "\\sum_{i=1}^{\\infty} | \\langle x, e_i \\rangle |^2 = \\|x \\|^2\n",
        "$$\n",
        "\n",
        "Since $x$ is an element the Hilbert space $H$, that means that $\\| x \\|^2$ must be finite. So therefore:\n",
        "\n",
        "$$\n",
        "\\sum_{i=1}^{\\infty} | \\langle x, e_i \\rangle |^2 = \\|x \\|^2 < \\infty\n",
        "$$"
      ]
    },
    {
      "cell_type": "markdown",
      "metadata": {
        "id": "P5AqEqN0vjgQ"
      },
      "source": [
        "## Part B\n",
        "\n",
        "Show that $T$ is a linear map, i.e., show that for all $x, y \\in H$ and $\\alpha, \\beta \\in \\mathbb{R}$,\n",
        "\n",
        "$$\n",
        "T(\\alpha x + \\beta y) = \\alpha T(x) + \\beta T(y).\n",
        "$$\n",
        "\n",
        "**Answer:**"
      ]
    },
    {
      "cell_type": "markdown",
      "metadata": {
        "id": "LP0AOL8BvjgR"
      },
      "source": [
        "Since $H$ is separable:\n",
        "\n",
        "$$\n",
        "T(\\alpha x + \\beta y) = (\\langle \\alpha x + \\beta y, e_1 \\rangle, \\langle \\alpha x + \\beta y, e_2 \\rangle, \\dots) = (\\langle \\alpha x, e_1 \\rangle + \\langle \\beta y, e_1 \\rangle, \\langle \\alpha x, e_2 \\rangle + \\langle \\beta y, e_2 \\rangle, \\dots) = T(\\alpha x) + T(\\beta y)\n",
        "$$\n",
        "\n",
        "For $T(\\alpha x)$, since $\\alpha$ is a real number:\n",
        "\n",
        "$$\n",
        "T(\\alpha x) = (\\langle \\alpha x, e_1 \\rangle, \\langle \\alpha x, e_2 \\rangle, \\dots) = (\\alpha \\langle x, e_1 \\rangle, \\alpha \\langle x, e_2 \\rangle, \\dots) = \\alpha T(x)\n",
        "$$\n",
        "\n",
        "For $T(\\beta y)$, since $\\beta$ is a real number:\n",
        "\n",
        "$$\n",
        "T(\\beta y) = (\\langle \\beta y, e_1 \\rangle, \\langle \\beta y, e_2 \\rangle, \\dots) = (\\beta \\langle y, e_1 \\rangle, \\beta \\langle y, e_2 \\rangle, \\dots) = \\beta T(y)\n",
        "$$\n",
        "\n",
        "Thus:\n",
        "\n",
        "$$\n",
        "T(\\alpha x + \\beta y) = \\alpha T(x) + \\beta T(y)\n",
        "$$"
      ]
    },
    {
      "cell_type": "markdown",
      "metadata": {
        "id": "8CxXkIqqvjgR"
      },
      "source": [
        "## Part C\n",
        "\n",
        "Show that $T$ is onto.\n",
        "\n",
        "*Hint:* Take a vector $a \\in \\ell^2$ and show that there exists a vector $x \\in H$ such that $T(x) = a$. Just try to write down the vector $x$ in terms of $a$ and the orthonormal basis $\\{ e_1, e_2, \\dots \\}$.\n",
        "\n",
        "**Answer:**"
      ]
    },
    {
      "cell_type": "markdown",
      "metadata": {
        "id": "bGZ_C200vjgR"
      },
      "source": [
        "Let $x \\in H$ and:\n",
        "\n",
        "$$\n",
        "x = \\sum_{i=1}^\\infty a_i e_i\n",
        "$$\n",
        "\n",
        "Then for all $j \\in \\N$, and since $\\{e_i\\}$ is orthonormal:\n",
        "\n",
        "$$\n",
        "\\langle x, e_j \\rangle = \\langle \\sum_{i=1}^\\infty a_i e_i, e_j \\rangle = \\sum_{i=1}^\\infty a_i \\langle e_i, e_j \\rangle = a_j\n",
        "$$\n",
        "\n",
        "Now:\n",
        "\n",
        "$$\n",
        "T(x) = (\\langle x, e_1 \\rangle, \\langle x, e_2 \\rangle, \\dots) = (a_1, a_2, \\dots) = a"
      ]
    },
    {
      "cell_type": "markdown",
      "metadata": {
        "id": "uCAZS1zMvjgR"
      },
      "source": [
        "## Part D\n",
        "\n",
        "Show that $T$ is one-to-one.\n",
        "\n",
        "*Hint:* Take two vectors $x, y \\in H$ and show that if $T(x) = T(y)$, then $x = y$.\n",
        "\n",
        "**Answer:**"
      ]
    },
    {
      "cell_type": "markdown",
      "metadata": {
        "id": "Warj3a_KvjgR"
      },
      "source": [
        "We start with $T(x) = T(y)$, then, by definition:\n",
        "\n",
        "$$\n",
        "(\\langle x, e_1 \\rangle, \\langle x, e_2 \\rangle, \\dots) = (\\langle y, e_1 \\rangle, \\langle y, e_2 \\rangle, \\dots)\n",
        "$$\n",
        "\n",
        "Since $\\{e_i\\}$ is orthonormal:\n",
        "\n",
        "$$\n",
        "\\langle x, e_i \\rangle = \\langle y, e_i \\rangle\n",
        "$$\n",
        "\n",
        "For all $i \\in \\N$.\n",
        "\n",
        "This implies:\n",
        "\n",
        "$$\n",
        "\\sum_{i=1}^\\infty \\langle x, e_i \\rangle e_i = \\sum_{i=1}^\\infty \\langle y, e_i \\rangle e_i\n",
        "$$\n",
        "\n",
        "And since $H$ is separable, this means that:\n",
        "\n",
        "$$\n",
        "x = y\n",
        "$$"
      ]
    },
    {
      "cell_type": "markdown",
      "metadata": {
        "id": "qfC7mmlcvjgR"
      },
      "source": [
        "## Part E\n",
        "\n",
        "Show that $T$ keeps the inner product intact. That is, show that for all $x, y \\in H$,\n",
        "\n",
        "$$\n",
        "\\langle x, y \\rangle = \\langle T(x), T(y) \\rangle_{\\ell^2}.\n",
        "$$\n",
        "\n",
        "*Hint:* Use the fact that $T$ is linear and the definition of $T$. The inner product of two vectors in $\\ell^2$ is defined as $\\langle a, b \\rangle_{\\ell^2} = \\sum_{i=1}^\\infty a_i b_i$.\n",
        "\n",
        "**Answer:**"
      ]
    },
    {
      "cell_type": "markdown",
      "metadata": {
        "id": "y9to2VLEvjgR"
      },
      "source": [
        "We start with the definition of the inner product and of $T(x)$:\n",
        "\n",
        "$$\n",
        "\\langle T(x), T(y) \\rangle_{l^2} = \\sum_{i=1}^\\infty (\\langle x, e_i \\rangle, \\langle y, e_i \\rangle)\n",
        "$$\n",
        "\n",
        "Then, using Parseval's identity:\n",
        "\n",
        "$$\n",
        "\\sum_{i=1}^\\infty (\\langle x, e_i \\rangle, \\langle y, e_i \\rangle) = \\langle x, y \\rangle\n",
        "$$\n",
        "\n",
        "Which leaves us with:\n",
        "\n",
        "$$\n",
        "\\langle T(x), T(y) \\rangle_{l^2} = \\sum_{i=1}^\\infty (\\langle x, e_i \\rangle, \\langle y, e_i \\rangle) = \\langle x, y \\rangle\n",
        "$$"
      ]
    },
    {
      "cell_type": "markdown",
      "metadata": {
        "id": "JZ2nMuDZvjgR"
      },
      "source": [
        "# Problem 3 - Numerical Construction of Polynomial Chaos\n",
        "\n",
        "Through this problem, you are going to construct orthogonal polynomials for the exponential distribution and test a few things with them.\n",
        "You need to familiarize yourself with [this hands-on-activity](https://predictivesciencelab.github.io/advanced-scientific-machine-learning/up/polynomial_chaos/04_orthpol_demo.html) before you proceed.\n",
        "\n",
        "## Part A\n",
        "\n",
        "Consider the random variable:\n",
        "\n",
        "$$\n",
        "\\Xi \\sim \\exp(1).\n",
        "$$\n",
        "\n",
        "The exponential distribution has the following probability density function:\n",
        "\n",
        "$$\n",
        "f_\\Xi(\\xi) = \\begin{cases}\n",
        "e^{-\\xi} & \\xi \\geq 0 \\\\\n",
        "0 & \\xi < 0\n",
        "\\end{cases}.\n",
        "$$\n",
        "\n",
        "Use the `orthojax` package to construct the first 5 orthogonal polynomials for $\\Xi$.\n",
        "Plot them on the same figure for $\\xi \\in [0, 5]$."
      ]
    },
    {
      "cell_type": "code",
      "execution_count": 2,
      "metadata": {
        "colab": {
          "base_uri": "https://localhost:8080/",
          "height": 453
        },
        "id": "US85yOgIvjgR",
        "outputId": "e07ef66a-3fd3-43ac-8ab5-954d853a8693"
      },
      "outputs": [
        {
          "output_type": "display_data",
          "data": {
            "text/plain": [
              "<Figure size 640x480 with 1 Axes>"
            ],
            "image/png": "[encoded data removed]"
          },
          "metadata": {}
        }
      ],
      "source": [
        "# your code here\n",
        "# Hint: You can use the function orthojax.make_orthogonal_polynomial\n",
        "# but you need to pass the argument right=jnp.inf to indicate that\n",
        "# the right endpoint is infinity.\n",
        "\n",
        "import orthojax as ojax\n",
        "import jax.numpy as jnp\n",
        "\n",
        "degree = 5\n",
        "pdf = lambda xi: jnp.exp(-xi)\n",
        "\n",
        "poly = ojax.make_orthogonal_polynomial(\n",
        "    degree,\n",
        "    left=0.0,          # Left endpoint of domain\n",
        "    right=jnp.inf,     # Right endpoint (infinity)\n",
        "    wf=pdf\n",
        ")\n",
        "\n",
        "xis = jnp.linspace(0.0, 5.0, 200)\n",
        "phi = poly(xis)\n",
        "\n",
        "fig, ax = plt.subplots()\n",
        "ax.plot(xis, phi)\n",
        "ax.set(xlabel=r\"$\\xi$\", ylabel=r\"$\\phi_i(\\xi)$\")\n",
        "sns.despine(trim=True)\n",
        "\n",
        "# Your code here"
      ]
    },
    {
      "cell_type": "markdown",
      "metadata": {
        "id": "U-TejkTyvjgS"
      },
      "source": [
        "## Part B\n",
        "\n",
        "Project the function:\n",
        "\n",
        "$$\n",
        "f(\\xi) = \\sin(x)\n",
        "$$\n",
        "\n",
        "onto the first 5 orthogonal polynomials for $\\Xi$. Plot the function $f$ and its projection on the same figure for $\\xi \\in [0, 5]$.\n",
        "\n",
        "*Hint:* Do exactly what I do in the activity. You need to extract from `poly` the quadrature rule so that you can do the inner product."
      ]
    },
    {
      "cell_type": "code",
      "execution_count": 3,
      "metadata": {
        "colab": {
          "base_uri": "https://localhost:8080/",
          "height": 431
        },
        "id": "TMVqcqMVvjgS",
        "outputId": "b453f694-6012-436f-edd1-cb01f58b3a2f"
      },
      "outputs": [
        {
          "output_type": "display_data",
          "data": {
            "text/plain": [
              "<Figure size 640x480 with 1 Axes>"
            ],
            "image/png": "[encoded data removed]"
          },
          "metadata": {}
        }
      ],
      "source": [
        "# Your code here\n",
        "\n",
        "poly = ojax.make_legendre_polynomial(degree).normalize()\n",
        "x, w = poly.quad\n",
        "\n",
        "# Just a function to project\n",
        "f = lambda x: jnp.sin(x)\n",
        "\n",
        "# The projection\n",
        "proj = jnp.einsum(\"i,ij,i->j\", f(x), poly(x), w)\n",
        "\n",
        "proj_f = lambda xi: jnp.einsum(\"k,ik->i\", proj, poly(xi))\n",
        "\n",
        "xis = jnp.linspace(0, 5.0, 200)\n",
        "fig, ax = plt.subplots()\n",
        "ax.plot(xis, f(xis), label=r\"$f(\\xi)$\")\n",
        "ax.plot(xis, proj_f(xis), label=r\"$\\tilde{f}(\\xi)$\", linestyle='--')\n",
        "ax.legend(loc=\"best\", frameon=False)\n",
        "sns.despine(trim=True)"
      ]
    },
    {
      "cell_type": "markdown",
      "metadata": {
        "id": "umScMjhuvjgS"
      },
      "source": [
        "## Part C\n",
        "\n",
        "Use the polynomial projection to calculate the mean and variance of the random variable\n",
        "\n",
        "$$\n",
        "Y = f(\\Xi) = \\sin(\\Xi).\n",
        "$$\n",
        "\n",
        "Compare to Monte Carlo estimates or the exact values."
      ]
    },
    {
      "cell_type": "code",
      "execution_count": 4,
      "metadata": {
        "colab": {
          "base_uri": "https://localhost:8080/"
        },
        "id": "B22CBI70vjgS",
        "outputId": "803ae325-0f8e-461e-d755-bec467279490"
      },
      "outputs": [
        {
          "output_type": "stream",
          "name": "stdout",
          "text": [
            "mean: -1.2683383232570122e-09\n",
            "variance: 0.2726832628250122\n"
          ]
        }
      ],
      "source": [
        "# Your code here\n",
        "\n",
        "mean = proj[0]\n",
        "print(f\"mean: {mean}\")\n",
        "\n",
        "var = jnp.sum(proj[1:] ** 2)\n",
        "print(f\"variance: {var}\")"
      ]
    },
    {
      "cell_type": "code",
      "source": [
        "import numpy as np\n",
        "\n",
        "xis = np.random.randn(10_000)\n",
        "samples = f(xis)\n",
        "mc_mean = np.mean(samples)\n",
        "mc_var = np.var(samples)\n",
        "print(f\"MC mean: {mc_mean}\")\n",
        "print(f\"MC variance: {mc_var}\")"
      ],
      "metadata": {
        "colab": {
          "base_uri": "https://localhost:8080/"
        },
        "id": "Eg1Vzj8dw79o",
        "outputId": "785b4dfc-0215-4e2a-c762-cea136cc8095"
      },
      "execution_count": 5,
      "outputs": [
        {
          "output_type": "stream",
          "name": "stdout",
          "text": [
            "MC mean: 0.0044199638068675995\n",
            "MC variance: 0.4343055784702301\n"
          ]
        }
      ]
    },
    {
      "cell_type": "markdown",
      "metadata": {
        "id": "-jXw28ayvjgS"
      },
      "source": [
        "# Problem 4 - Uncertainty Propagation with Polynomial Chaos\n",
        "\n",
        "Consider the Lorenz system:\n",
        "\n",
        "$$\n",
        "\\begin{align*}\n",
        "\\dot{x} &= \\sigma(y-x),\\\\\n",
        "\\dot{y} &= x(\\rho-z)-y,\\\\\n",
        "\\dot{z} &= xy-\\beta z,\n",
        "\\end{align*}\n",
        "$$\n",
        "\n",
        "with parameters $\\sigma=10$, $\\beta=8/3$, and $\\rho=28$.\n",
        "Take the initial conditions to be random:\n",
        "\n",
        "$$\n",
        "\\begin{align*}\n",
        "x(0) &\\sim \\mathcal{N}(0, 0.01),\\\\\n",
        "y(0) &\\sim \\mathcal{N}(0, 0.01),\\\\\n",
        "z(0) &\\sim \\mathcal{N}(0, 0.01).\n",
        "\\end{align*}\n",
        "$$\n",
        "\n",
        "Use may reuse code from [this hands-on activity](https://predictivesciencelab.github.io/advanced-scientific-machine-learning/up/polynomial_chaos/07_pce_dynamical_system.html).\n",
        "\n",
        "## Part A - Build a Polynomial Chaos Surrogate\n",
        "\n",
        "Build a polynomial chaos surrogate. Calculate the mean and the variance as a function of time. Compare the result to Monte Carlo estimates."
      ]
    },
    {
      "cell_type": "code",
      "execution_count": 22,
      "metadata": {
        "id": "za2a_dtovjgS"
      },
      "outputs": [],
      "source": [
        "# Your code here\n",
        "\n",
        "from collections import namedtuple\n",
        "import orthojax as ojax\n",
        "import jax.numpy as jnp\n",
        "import design\n",
        "from jax import vmap, jit\n",
        "\n",
        "\n",
        "def make_sparse_grid(dim, level):\n",
        "    \"\"\"Make a sparse grid of dimension dim and a given level.\n",
        "    We do it for the uniform cube [-1, 1]^d.\"\"\"\n",
        "    x, w = design.sparse_grid(dim, level, 'F2')\n",
        "    w = w / (2 ** dim)\n",
        "    x = jnp.array(x, dtype=jnp.float32)\n",
        "    w = jnp.array(w, dtype=jnp.float32)\n",
        "    return ojax.QuadratureRule(x, w)\n",
        "\n",
        "\n",
        "PCProblem = namedtuple(\"PCProblem\", [\"poly\", \"quad\", \"f\", \"x0\", \"phis\", \"y0\", \"rhs\"])\n",
        "\n",
        "\n",
        "def make_pc_problem(poly, quad, f, x0):\n",
        "    \"\"\"Make the PC dynamical system problem.\n",
        "\n",
        "    Params:\n",
        "        poly: The polynomial basis\n",
        "        quad: The quadrature rule used to compute inner products\n",
        "        f: The function defining the right hand side of the ODE (function of x, t and xi) to R^n\n",
        "        x0: The initial condition (function of xi, from R^d -> R^n)\n",
        "        theta: The parameters of the ODE\n",
        "    \"\"\"\n",
        "    # The quadrature rule used to compute inner products\n",
        "    xis, ws = quad\n",
        "    # xis is m x d and ws is m\n",
        "\n",
        "    # The polynomial basis functions on the collocation points\n",
        "    phis = poly(xis)\n",
        "    # this is m x p\n",
        "\n",
        "    # The initial condition of the PC coefficients\n",
        "    x0s = jit(vmap(x0))(xis) # this is m x n\n",
        "    # The PC coefficients are n x p\n",
        "    # ws is m\n",
        "    # phis is m x p\n",
        "    # x0s is m x n\n",
        "    # y0 must be n x p\n",
        "    y0 = jnp.einsum(\"m,mp,mn->np\", ws, phis, x0s)\n",
        "\n",
        "    # Vectorize the function f\n",
        "    fv = vmap(f, in_axes=(None, 0, 0))\n",
        "\n",
        "    # The right hand side of the PC ODE\n",
        "    def rhs(t, y, phis):\n",
        "        # y is n x p\n",
        "        # phis is m x p\n",
        "        # xs must be m x n\n",
        "        xs = jnp.einsum(\"np,mp->mn\", y, phis)\n",
        "        # xs is m x n\n",
        "        # xis is m x d\n",
        "        # fs must be m x n\n",
        "        fs = fv(t, xs, xis)\n",
        "        # do the dot product with quadrature weights\n",
        "        return jnp.einsum(\"m,mn,mp->np\", ws, fs, phis)\n",
        "\n",
        "    return PCProblem(poly, quad, f, x0, phis, y0, rhs)"
      ]
    },
    {
      "cell_type": "code",
      "source": [
        "# Your code here\n",
        "import equinox as eqx\n",
        "from collections import namedtuple\n",
        "\n",
        "NormalDistribution = namedtuple(\"NormalDistribution\", [\"mu\", \"sigma\"])\n",
        "Parameters = namedtuple(\"Parameters\", [\"sigma\", \"beta\", \"rho\"])\n",
        "\n",
        "Lorenz = namedtuple(\"Lorenz\", [\"params\", \"X\", \"Y\", \"Z\"])"
      ],
      "metadata": {
        "id": "iFldPxXjxGbQ"
      },
      "execution_count": 23,
      "outputs": []
    },
    {
      "cell_type": "code",
      "source": [
        "X = NormalDistribution(0.0, 0.01)\n",
        "Y = NormalDistribution(0.0, 0.01)\n",
        "Z = NormalDistribution(0.0, 0.01)\n",
        "\n",
        "params = Parameters(10, 8/3, 28)\n",
        "\n",
        "lorenz = Lorenz(params, X, Y, Z)"
      ],
      "metadata": {
        "id": "dKuzFQ5axH-X"
      },
      "execution_count": 24,
      "outputs": []
    },
    {
      "cell_type": "code",
      "source": [
        "from jax.scipy import stats as jstats\n",
        "from functools import partial\n",
        "from diffrax import diffeqsolve, Tsit5, SaveAt, ODETerm\n",
        "import orthojax as ojax\n",
        "import jax.numpy as jnp\n",
        "from jax import vmap, jit\n",
        "\n",
        "\n",
        "def to_normal(xi : float, dist : NormalDistribution) -> float:\n",
        "    \"\"\"Transforms a [-1, 1] to a normal distribution.\"\"\"\n",
        "    return dist.mu + dist.sigma * jstats.norm.ppf(0.5 * (xi + 1))\n",
        "\n",
        "def x0(xi, lorenz : Lorenz):\n",
        "    \"\"\"Initial condition for the position.\"\"\"\n",
        "    return jnp.array(\n",
        "        [to_normal(xi[0], lorenz.X), to_normal(xi[1], lorenz.Y), to_normal(xi[2], lorenz.Z)]\n",
        "    )\n",
        "\n",
        "def vector_field(t, y, params):\n",
        "    x = y[0]\n",
        "    y_val = y[1]\n",
        "    z = y[2]\n",
        "    sigma = params.sigma\n",
        "    beta = params.beta\n",
        "    rho = params.rho\n",
        "    return jnp.array(\n",
        "        [\n",
        "            sigma * (y_val - x),\n",
        "            x * (rho - z) - y_val,\n",
        "            x * y_val - beta * z\n",
        "        ]\n",
        "    )\n",
        "\n",
        "@jit\n",
        "@partial(vmap, in_axes=(0, None))\n",
        "def solve_lorenz(xi, lorenz : Lorenz):\n",
        "    \"\"\"Simple solver of the dynamical system.\"\"\"\n",
        "    solver = Tsit5()\n",
        "    saveat = SaveAt(ts=jnp.linspace(0, 10, 2000))\n",
        "    term = ODETerm(vector_field)\n",
        "    sol = diffeqsolve(\n",
        "        term,\n",
        "        solver,\n",
        "        t0=0,\n",
        "        t1=10,\n",
        "        dt0=0.1,\n",
        "        y0=x0(xi, lorenz),\n",
        "        args=lorenz.params,\n",
        "        saveat=saveat\n",
        "    )\n",
        "    return sol.ys"
      ],
      "metadata": {
        "id": "hvYchIiQxLi4"
      },
      "execution_count": 25,
      "outputs": []
    },
    {
      "cell_type": "code",
      "source": [
        "import numpy as np\n",
        "\n",
        "num_samples = 100_000\n",
        "xis = 2 * np.random.uniform(size=(num_samples, 3)) - 1\n",
        "samples = solve_lorenz(xis, lorenz)\n",
        "\n",
        "mc_mean = jnp.mean(samples, axis=0)\n",
        "mc_var = jnp.var(samples, axis=0)\n",
        "\n",
        "print(xis)"
      ],
      "metadata": {
        "colab": {
          "base_uri": "https://localhost:8080/"
        },
        "id": "mCdVHMW6xNs0",
        "outputId": "2ca2bbc7-cc1a-4197-f3e9-be9c83b6efc1"
      },
      "execution_count": 39,
      "outputs": [
        {
          "output_type": "stream",
          "name": "stdout",
          "text": [
            "[[ 0.68137826 -0.45169075  0.91342855]\n",
            " [ 0.72712258 -0.1718401  -0.13722639]\n",
            " [-0.90097085 -0.01223737 -0.87034511]\n",
            " ...\n",
            " [-0.11801118 -0.52673763 -0.79139546]\n",
            " [-0.71890686  0.120945    0.6489467 ]\n",
            " [ 0.03640055 -0.87542261 -0.54796923]]\n"
          ]
        }
      ]
    },
    {
      "cell_type": "code",
      "source": [
        "from functools import partial\n",
        "\n",
        "total_degree = 5\n",
        "degrees = (5, 5)\n",
        "poly = ojax.TensorProduct(\n",
        "    total_degree,\n",
        "    [ojax.make_legendre_polynomial(d) for d in degrees])\n",
        "level = 5\n",
        "quad = make_sparse_grid(2, level)"
      ],
      "metadata": {
        "id": "zmorHPC7xPRb"
      },
      "execution_count": 40,
      "outputs": []
    },
    {
      "cell_type": "code",
      "source": [
        "new_vector_field = lambda t, x, xi: vector_field(t, x, lorenz.params)\n",
        "new_x0 = lambda xi: x0(xi, lorenz)\n",
        "pc_problem = make_pc_problem(poly, quad, new_vector_field, new_x0)"
      ],
      "metadata": {
        "id": "nBz5V28XxQpJ"
      },
      "execution_count": 41,
      "outputs": []
    },
    {
      "cell_type": "code",
      "source": [
        "@jit\n",
        "def solve_lorenz_pc(lorenz, poly=poly, quad=quad):\n",
        "    # Adhere to the PCProblem interface\n",
        "    new_vector_field = lambda t, x, xi: vector_field(t, x, lorenz.params)\n",
        "    new_x0 = lambda xi: x0(xi, lorenz)\n",
        "    pc_problem = make_pc_problem(poly, quad, new_vector_field, new_x0)\n",
        "    sol = diffeqsolve(\n",
        "        ODETerm(pc_problem.rhs),\n",
        "        Tsit5(),\n",
        "        t0=0,\n",
        "        t1=10,\n",
        "        dt0=0.1,\n",
        "        y0=pc_problem.y0,\n",
        "        args=pc_problem.phis,\n",
        "        saveat=SaveAt(ts=jnp.linspace(0, 10, 2000))\n",
        "    )\n",
        "    return sol"
      ],
      "metadata": {
        "id": "PhR5UBxrxSWK"
      },
      "execution_count": 42,
      "outputs": []
    },
    {
      "cell_type": "code",
      "source": [
        "pc_sol = solve_lorenz_pc(lorenz)"
      ],
      "metadata": {
        "id": "Zzbx1A3xxUaG"
      },
      "execution_count": 43,
      "outputs": []
    },
    {
      "cell_type": "code",
      "source": [
        "pc_mean = pc_sol.ys[:, :, 0]\n",
        "pc_variance = np.sum(pc_sol.ys[:, :, 1:] ** 2, axis=2)"
      ],
      "metadata": {
        "id": "S8GeZnufxVfz"
      },
      "execution_count": 44,
      "outputs": []
    },
    {
      "cell_type": "code",
      "source": [
        "@jit\n",
        "def surrogate(xis, pc_coeff=pc_sol.ys, poly=poly):\n",
        "    \"\"\"Surrogate function for the PC solution.\"\"\"\n",
        "    phis = poly(xis)\n",
        "    ys = jnp.einsum(\"tip,mp->mti\", pc_coeff, phis)\n",
        "    return ys"
      ],
      "metadata": {
        "id": "WlQ1gTtpxWrC"
      },
      "execution_count": 45,
      "outputs": []
    },
    {
      "cell_type": "code",
      "source": [
        "num_test = 100000\n",
        "xis_test = 2 * np.random.uniform(size=(num_test, 3)) - 1\n",
        "preds = surrogate(xis_test)\n",
        "true = solve_lorenz(xis_test, lorenz)"
      ],
      "metadata": {
        "id": "bF5U_w9LxXw8"
      },
      "execution_count": 49,
      "outputs": []
    },
    {
      "cell_type": "code",
      "source": [
        "pc_mean = jnp.mean(preds, axis=0)\n",
        "pc_variance = jnp.var(preds, axis=0)"
      ],
      "metadata": {
        "id": "ieMpBt07xY0w"
      },
      "execution_count": 50,
      "outputs": []
    },
    {
      "cell_type": "code",
      "source": [
        "fig, ax = plt.subplots()\n",
        "ax.plot(pc_sol.ts, pc_mean, label=\"PC mean\")\n",
        "ax.plot(pc_sol.ts, mc_mean, '--', label=\"MC mean\")\n",
        "ax.legend(loc=\"best\")\n",
        "sns.despine(trim=True);"
      ],
      "metadata": {
        "colab": {
          "base_uri": "https://localhost:8080/",
          "height": 445
        },
        "id": "xCcar26SxamF",
        "outputId": "69d7b0a4-d716-4ccb-bae5-00c2e9a81406"
      },
      "execution_count": 51,
      "outputs": [
        {
          "output_type": "display_data",
          "data": {
            "text/plain": [
              "<Figure size 640x480 with 1 Axes>"
            ],
            "image/png": "[encoded data removed]"
          },
          "metadata": {}
        }
      ]
    },
    {
      "cell_type": "code",
      "source": [
        "fig, ax = plt.subplots()\n",
        "ax.plot(pc_sol.ts, pc_variance, label=\"PC variance\")\n",
        "ax.plot(pc_sol.ts, mc_var, '--', label=\"MC variance\")\n",
        "ax.legend(loc=\"best\")\n",
        "sns.despine(trim=True);"
      ],
      "metadata": {
        "colab": {
          "base_uri": "https://localhost:8080/",
          "height": 445
        },
        "id": "3PvWGoLExb7Z",
        "outputId": "a993aadb-519e-4347-dc80-00bb958a3579"
      },
      "execution_count": 36,
      "outputs": [
        {
          "output_type": "display_data",
          "data": {
            "text/plain": [
              "<Figure size 640x480 with 1 Axes>"
            ],
            "image/png": "[encoded data removed]"
          },
          "metadata": {}
        }
      ]
    },
    {
      "cell_type": "markdown",
      "metadata": {
        "id": "v2IFL1LuvjgS"
      },
      "source": [
        "## Part B - Predictions\n",
        "\n",
        "Generate three random initial conditions and propagate them forward in time using the surrogate. Plot only $x$ as a function of time for each initial condition. Compare to the ground truth."
      ]
    },
    {
      "cell_type": "code",
      "execution_count": 56,
      "metadata": {
        "colab": {
          "base_uri": "https://localhost:8080/",
          "height": 449
        },
        "id": "G6PiKlQvvjgT",
        "outputId": "415bc819-54fd-4a08-ab45-0701c68a09c0"
      },
      "outputs": [
        {
          "output_type": "display_data",
          "data": {
            "text/plain": [
              "<Figure size 640x480 with 1 Axes>"
            ],
            "image/png": "[encoded data removed]"
          },
          "metadata": {}
        }
      ],
      "source": [
        "# Your code here\n",
        "import numpy as np\n",
        "\n",
        "ics = np.random.normal(0, 0.01, (3,3))\n",
        "preds = surrogate(ics)\n",
        "\n",
        "fig, ax = plt.subplots()\n",
        "\n",
        "for i in range(len(ics[:,0])):\n",
        "    ax.plot(pc_sol.ts, preds[i, :, 0], label=f\"PC {i+1}\")\n",
        "    ax.plot(pc_sol.ts, true[i, :, 0], '--', label=f\"True {i+1}\")\n",
        "    ax.legend(loc=\"best\")\n",
        "    ax.set_xlabel(\"$t$\")\n",
        "    ax.set_ylabel(\"$x$\")\n",
        "    plt.legend(loc=\"best\")\n",
        "sns.despine(trim=True);"
      ]
    },
    {
      "cell_type": "markdown",
      "metadata": {
        "id": "GwgX2ZkOvjgT"
      },
      "source": [
        "## Part C - Probability Density Function\n",
        "\n",
        "Use your surrogate to estimate the probability density function of $x$ at $t=1, 2, 5,$ and $10$.\n",
        "Use different plots for each case.\n",
        "You can do this, by generating $100,000$ initial conditions, propagating them forward through the surrogate and then plotting a histogram of the results.\n",
        "Compare to Monte Carlo PDFs. Use transparency in your plots."
      ]
    },
    {
      "cell_type": "code",
      "execution_count": 58,
      "metadata": {
        "colab": {
          "base_uri": "https://localhost:8080/",
          "height": 839
        },
        "id": "OKHoshfsvjgT",
        "outputId": "aded74b7-4f1d-44b2-f902-4c0091537b67"
      },
      "outputs": [
        {
          "output_type": "stream",
          "name": "stdout",
          "text": [
            "(100000, 2000, 3)\n"
          ]
        },
        {
          "output_type": "stream",
          "name": "stderr",
          "text": [
            "/usr/local/lib/python3.11/dist-packages/matplotlib/axes/_axes.py:7065: RuntimeWarning: All-NaN slice encountered\n",
            "  xmin = min(xmin, np.nanmin(xi))\n",
            "/usr/local/lib/python3.11/dist-packages/matplotlib/axes/_axes.py:7066: RuntimeWarning: All-NaN slice encountered\n",
            "  xmax = max(xmax, np.nanmax(xi))\n"
          ]
        },
        {
          "output_type": "error",
          "ename": "ValueError",
          "evalue": "autodetected range of [nan, nan] is not finite",
          "traceback": [
            "\u001b[0;31m---------------------------------------------------------------------------\u001b[0m",
            "\u001b[0;31mValueError\u001b[0m                                Traceback (most recent call last)",
            "\u001b[0;32m<ipython-input-58-d7f60cf26e81>\u001b[0m in \u001b[0;36m<cell line: 0>\u001b[0;34m()\u001b[0m\n\u001b[1;32m     14\u001b[0m \u001b[0;34m\u001b[0m\u001b[0m\n\u001b[1;32m     15\u001b[0m \u001b[0;32mfor\u001b[0m \u001b[0mi\u001b[0m \u001b[0;32min\u001b[0m \u001b[0mrange\u001b[0m\u001b[0;34m(\u001b[0m\u001b[0mlen\u001b[0m\u001b[0;34m(\u001b[0m\u001b[0mt_stops\u001b[0m\u001b[0;34m)\u001b[0m\u001b[0;34m)\u001b[0m\u001b[0;34m:\u001b[0m\u001b[0;34m\u001b[0m\u001b[0;34m\u001b[0m\u001b[0m\n\u001b[0;32m---> 16\u001b[0;31m   \u001b[0max\u001b[0m\u001b[0;34m[\u001b[0m\u001b[0mi\u001b[0m\u001b[0;34m]\u001b[0m\u001b[0;34m.\u001b[0m\u001b[0mhist\u001b[0m\u001b[0;34m(\u001b[0m\u001b[0mpreds\u001b[0m\u001b[0;34m[\u001b[0m\u001b[0;34m:\u001b[0m\u001b[0;34m,\u001b[0m\u001b[0mt_stops\u001b[0m\u001b[0;34m[\u001b[0m\u001b[0mi\u001b[0m\u001b[0;34m]\u001b[0m\u001b[0;34m,\u001b[0m\u001b[0;36m0\u001b[0m\u001b[0;34m]\u001b[0m\u001b[0;34m)\u001b[0m\u001b[0;34m\u001b[0m\u001b[0;34m\u001b[0m\u001b[0m\n\u001b[0m\u001b[1;32m     17\u001b[0m   \u001b[0max\u001b[0m\u001b[0;34m[\u001b[0m\u001b[0mi\u001b[0m\u001b[0;34m]\u001b[0m\u001b[0;34m.\u001b[0m\u001b[0mset_ylabel\u001b[0m\u001b[0;34m(\u001b[0m\u001b[0;34mf\"$x =$ {times[i]}\"\u001b[0m\u001b[0;34m)\u001b[0m\u001b[0;34m\u001b[0m\u001b[0;34m\u001b[0m\u001b[0m\n",
            "\u001b[0;32m/usr/local/lib/python3.11/dist-packages/matplotlib/_api/deprecation.py\u001b[0m in \u001b[0;36mwrapper\u001b[0;34m(*args, **kwargs)\u001b[0m\n\u001b[1;32m    451\u001b[0m                 \u001b[0;34m\"parameter will become keyword-only in %(removal)s.\"\u001b[0m\u001b[0;34m,\u001b[0m\u001b[0;34m\u001b[0m\u001b[0;34m\u001b[0m\u001b[0m\n\u001b[1;32m    452\u001b[0m                 name=name, obj_type=f\"parameter of {func.__name__}()\")\n\u001b[0;32m--> 453\u001b[0;31m         \u001b[0;32mreturn\u001b[0m \u001b[0mfunc\u001b[0m\u001b[0;34m(\u001b[0m\u001b[0;34m*\u001b[0m\u001b[0margs\u001b[0m\u001b[0;34m,\u001b[0m \u001b[0;34m**\u001b[0m\u001b[0mkwargs\u001b[0m\u001b[0;34m)\u001b[0m\u001b[0;34m\u001b[0m\u001b[0;34m\u001b[0m\u001b[0m\n\u001b[0m\u001b[1;32m    454\u001b[0m \u001b[0;34m\u001b[0m\u001b[0m\n\u001b[1;32m    455\u001b[0m     \u001b[0;31m# Don't modify *func*'s signature, as boilerplate.py needs it.\u001b[0m\u001b[0;34m\u001b[0m\u001b[0;34m\u001b[0m\u001b[0m\n",
            "\u001b[0;32m/usr/local/lib/python3.11/dist-packages/matplotlib/__init__.py\u001b[0m in \u001b[0;36minner\u001b[0;34m(ax, data, *args, **kwargs)\u001b[0m\n\u001b[1;32m   1519\u001b[0m     \u001b[0;32mdef\u001b[0m \u001b[0minner\u001b[0m\u001b[0;34m(\u001b[0m\u001b[0max\u001b[0m\u001b[0;34m,\u001b[0m \u001b[0;34m*\u001b[0m\u001b[0margs\u001b[0m\u001b[0;34m,\u001b[0m \u001b[0mdata\u001b[0m\u001b[0;34m=\u001b[0m\u001b[0;32mNone\u001b[0m\u001b[0;34m,\u001b[0m \u001b[0;34m**\u001b[0m\u001b[0mkwargs\u001b[0m\u001b[0;34m)\u001b[0m\u001b[0;34m:\u001b[0m\u001b[0;34m\u001b[0m\u001b[0;34m\u001b[0m\u001b[0m\n\u001b[1;32m   1520\u001b[0m         \u001b[0;32mif\u001b[0m \u001b[0mdata\u001b[0m \u001b[0;32mis\u001b[0m \u001b[0;32mNone\u001b[0m\u001b[0;34m:\u001b[0m\u001b[0;34m\u001b[0m\u001b[0;34m\u001b[0m\u001b[0m\n\u001b[0;32m-> 1521\u001b[0;31m             return func(\n\u001b[0m\u001b[1;32m   1522\u001b[0m                 \u001b[0max\u001b[0m\u001b[0;34m,\u001b[0m\u001b[0;34m\u001b[0m\u001b[0;34m\u001b[0m\u001b[0m\n\u001b[1;32m   1523\u001b[0m                 \u001b[0;34m*\u001b[0m\u001b[0mmap\u001b[0m\u001b[0;34m(\u001b[0m\u001b[0mcbook\u001b[0m\u001b[0;34m.\u001b[0m\u001b[0msanitize_sequence\u001b[0m\u001b[0;34m,\u001b[0m \u001b[0margs\u001b[0m\u001b[0;34m)\u001b[0m\u001b[0;34m,\u001b[0m\u001b[0;34m\u001b[0m\u001b[0;34m\u001b[0m\u001b[0m\n",
            "\u001b[0;32m/usr/local/lib/python3.11/dist-packages/matplotlib/axes/_axes.py\u001b[0m in \u001b[0;36mhist\u001b[0;34m(self, x, bins, range, density, weights, cumulative, bottom, histtype, align, orientation, rwidth, log, color, label, stacked, **kwargs)\u001b[0m\n\u001b[1;32m   7091\u001b[0m             \u001b[0;31m# this will automatically overwrite bins,\u001b[0m\u001b[0;34m\u001b[0m\u001b[0;34m\u001b[0m\u001b[0m\n\u001b[1;32m   7092\u001b[0m             \u001b[0;31m# so that each histogram uses the same bins\u001b[0m\u001b[0;34m\u001b[0m\u001b[0;34m\u001b[0m\u001b[0m\n\u001b[0;32m-> 7093\u001b[0;31m             \u001b[0mm\u001b[0m\u001b[0;34m,\u001b[0m \u001b[0mbins\u001b[0m \u001b[0;34m=\u001b[0m \u001b[0mnp\u001b[0m\u001b[0;34m.\u001b[0m\u001b[0mhistogram\u001b[0m\u001b[0;34m(\u001b[0m\u001b[0mx\u001b[0m\u001b[0;34m[\u001b[0m\u001b[0mi\u001b[0m\u001b[0;34m]\u001b[0m\u001b[0;34m,\u001b[0m \u001b[0mbins\u001b[0m\u001b[0;34m,\u001b[0m \u001b[0mweights\u001b[0m\u001b[0;34m=\u001b[0m\u001b[0mw\u001b[0m\u001b[0;34m[\u001b[0m\u001b[0mi\u001b[0m\u001b[0;34m]\u001b[0m\u001b[0;34m,\u001b[0m \u001b[0;34m**\u001b[0m\u001b[0mhist_kwargs\u001b[0m\u001b[0;34m)\u001b[0m\u001b[0;34m\u001b[0m\u001b[0;34m\u001b[0m\u001b[0m\n\u001b[0m\u001b[1;32m   7094\u001b[0m             \u001b[0mtops\u001b[0m\u001b[0;34m.\u001b[0m\u001b[0mappend\u001b[0m\u001b[0;34m(\u001b[0m\u001b[0mm\u001b[0m\u001b[0;34m)\u001b[0m\u001b[0;34m\u001b[0m\u001b[0;34m\u001b[0m\u001b[0m\n\u001b[1;32m   7095\u001b[0m         \u001b[0mtops\u001b[0m \u001b[0;34m=\u001b[0m \u001b[0mnp\u001b[0m\u001b[0;34m.\u001b[0m\u001b[0marray\u001b[0m\u001b[0;34m(\u001b[0m\u001b[0mtops\u001b[0m\u001b[0;34m,\u001b[0m \u001b[0mfloat\u001b[0m\u001b[0;34m)\u001b[0m  \u001b[0;31m# causes problems later if it's an int\u001b[0m\u001b[0;34m\u001b[0m\u001b[0;34m\u001b[0m\u001b[0m\n",
            "\u001b[0;32m/usr/local/lib/python3.11/dist-packages/numpy/lib/histograms.py\u001b[0m in \u001b[0;36mhistogram\u001b[0;34m(a, bins, range, density, weights)\u001b[0m\n\u001b[1;32m    778\u001b[0m     \u001b[0ma\u001b[0m\u001b[0;34m,\u001b[0m \u001b[0mweights\u001b[0m \u001b[0;34m=\u001b[0m \u001b[0m_ravel_and_check_weights\u001b[0m\u001b[0;34m(\u001b[0m\u001b[0ma\u001b[0m\u001b[0;34m,\u001b[0m \u001b[0mweights\u001b[0m\u001b[0;34m)\u001b[0m\u001b[0;34m\u001b[0m\u001b[0;34m\u001b[0m\u001b[0m\n\u001b[1;32m    779\u001b[0m \u001b[0;34m\u001b[0m\u001b[0m\n\u001b[0;32m--> 780\u001b[0;31m     \u001b[0mbin_edges\u001b[0m\u001b[0;34m,\u001b[0m \u001b[0muniform_bins\u001b[0m \u001b[0;34m=\u001b[0m \u001b[0m_get_bin_edges\u001b[0m\u001b[0;34m(\u001b[0m\u001b[0ma\u001b[0m\u001b[0;34m,\u001b[0m \u001b[0mbins\u001b[0m\u001b[0;34m,\u001b[0m \u001b[0mrange\u001b[0m\u001b[0;34m,\u001b[0m \u001b[0mweights\u001b[0m\u001b[0;34m)\u001b[0m\u001b[0;34m\u001b[0m\u001b[0;34m\u001b[0m\u001b[0m\n\u001b[0m\u001b[1;32m    781\u001b[0m \u001b[0;34m\u001b[0m\u001b[0m\n\u001b[1;32m    782\u001b[0m     \u001b[0;31m# Histogram is an integer or a float array depending on the weights.\u001b[0m\u001b[0;34m\u001b[0m\u001b[0;34m\u001b[0m\u001b[0m\n",
            "\u001b[0;32m/usr/local/lib/python3.11/dist-packages/numpy/lib/histograms.py\u001b[0m in \u001b[0;36m_get_bin_edges\u001b[0;34m(a, bins, range, weights)\u001b[0m\n\u001b[1;32m    424\u001b[0m             \u001b[0;32mraise\u001b[0m \u001b[0mValueError\u001b[0m\u001b[0;34m(\u001b[0m\u001b[0;34m'`bins` must be positive, when an integer'\u001b[0m\u001b[0;34m)\u001b[0m\u001b[0;34m\u001b[0m\u001b[0;34m\u001b[0m\u001b[0m\n\u001b[1;32m    425\u001b[0m \u001b[0;34m\u001b[0m\u001b[0m\n\u001b[0;32m--> 426\u001b[0;31m         \u001b[0mfirst_edge\u001b[0m\u001b[0;34m,\u001b[0m \u001b[0mlast_edge\u001b[0m \u001b[0;34m=\u001b[0m \u001b[0m_get_outer_edges\u001b[0m\u001b[0;34m(\u001b[0m\u001b[0ma\u001b[0m\u001b[0;34m,\u001b[0m \u001b[0mrange\u001b[0m\u001b[0;34m)\u001b[0m\u001b[0;34m\u001b[0m\u001b[0;34m\u001b[0m\u001b[0m\n\u001b[0m\u001b[1;32m    427\u001b[0m \u001b[0;34m\u001b[0m\u001b[0m\n\u001b[1;32m    428\u001b[0m     \u001b[0;32melif\u001b[0m \u001b[0mnp\u001b[0m\u001b[0;34m.\u001b[0m\u001b[0mndim\u001b[0m\u001b[0;34m(\u001b[0m\u001b[0mbins\u001b[0m\u001b[0;34m)\u001b[0m \u001b[0;34m==\u001b[0m \u001b[0;36m1\u001b[0m\u001b[0;34m:\u001b[0m\u001b[0;34m\u001b[0m\u001b[0;34m\u001b[0m\u001b[0m\n",
            "\u001b[0;32m/usr/local/lib/python3.11/dist-packages/numpy/lib/histograms.py\u001b[0m in \u001b[0;36m_get_outer_edges\u001b[0;34m(a, range)\u001b[0m\n\u001b[1;32m    321\u001b[0m         \u001b[0mfirst_edge\u001b[0m\u001b[0;34m,\u001b[0m \u001b[0mlast_edge\u001b[0m \u001b[0;34m=\u001b[0m \u001b[0ma\u001b[0m\u001b[0;34m.\u001b[0m\u001b[0mmin\u001b[0m\u001b[0;34m(\u001b[0m\u001b[0;34m)\u001b[0m\u001b[0;34m,\u001b[0m \u001b[0ma\u001b[0m\u001b[0;34m.\u001b[0m\u001b[0mmax\u001b[0m\u001b[0;34m(\u001b[0m\u001b[0;34m)\u001b[0m\u001b[0;34m\u001b[0m\u001b[0;34m\u001b[0m\u001b[0m\n\u001b[1;32m    322\u001b[0m         \u001b[0;32mif\u001b[0m \u001b[0;32mnot\u001b[0m \u001b[0;34m(\u001b[0m\u001b[0mnp\u001b[0m\u001b[0;34m.\u001b[0m\u001b[0misfinite\u001b[0m\u001b[0;34m(\u001b[0m\u001b[0mfirst_edge\u001b[0m\u001b[0;34m)\u001b[0m \u001b[0;32mand\u001b[0m \u001b[0mnp\u001b[0m\u001b[0;34m.\u001b[0m\u001b[0misfinite\u001b[0m\u001b[0;34m(\u001b[0m\u001b[0mlast_edge\u001b[0m\u001b[0;34m)\u001b[0m\u001b[0;34m)\u001b[0m\u001b[0;34m:\u001b[0m\u001b[0;34m\u001b[0m\u001b[0;34m\u001b[0m\u001b[0m\n\u001b[0;32m--> 323\u001b[0;31m             raise ValueError(\n\u001b[0m\u001b[1;32m    324\u001b[0m                 \"autodetected range of [{}, {}] is not finite\".format(first_edge, last_edge))\n\u001b[1;32m    325\u001b[0m \u001b[0;34m\u001b[0m\u001b[0m\n",
            "\u001b[0;31mValueError\u001b[0m: autodetected range of [nan, nan] is not finite"
          ]
        },
        {
          "output_type": "display_data",
          "data": {
            "text/plain": [
              "<Figure size 640x480 with 4 Axes>"
            ],
            "image/png": "[encoded data removed]"
          },
          "metadata": {}
        }
      ],
      "source": [
        "# Your code here\n",
        "\n",
        "num_test = 100_000\n",
        "\n",
        "ics = np.random.normal(0, 0.01, (num_test,3))\n",
        "preds = surrogate(ics)\n",
        "\n",
        "print(preds.shape)\n",
        "\n",
        "t_stops = [200, 400, 1000, 2000]\n",
        "times = [1, 2, 5, 10]\n",
        "\n",
        "fig, ax = plt.subplots(4,1)\n",
        "\n",
        "for i in range(len(t_stops)):\n",
        "  ax[i].hist(preds[:,t_stops[i],0])\n",
        "  ax[i].set_ylabel(f\"$x =$ {times[i]}\")"
      ]
    }
  ],
  "metadata": {
    "kernelspec": {
      "display_name": "Python 3",
      "language": "python",
      "name": "python3"
    },
    "language_info": {
      "codemirror_mode": {
        "name": "ipython",
        "version": 3
      },
      "file_extension": ".py",
      "mimetype": "text/x-python",
      "name": "python",
      "nbconvert_exporter": "python",
      "pygments_lexer": "ipython3",
      "version": "3.11.6"
    },
    "colab": {
      "provenance": []
    }
  },
  "nbformat": 4,
  "nbformat_minor": 0
}